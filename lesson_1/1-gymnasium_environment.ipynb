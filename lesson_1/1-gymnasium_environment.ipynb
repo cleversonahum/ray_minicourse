{
 "cells": [
  {
   "cell_type": "markdown",
   "metadata": {},
   "source": [
    "# Learning to create a basic RL environment using Gymnasium"
   ]
  },
  {
   "cell_type": "code",
   "execution_count": 2,
   "metadata": {},
   "outputs": [],
   "source": [
    "import gymnasium as gym\n",
    "import numpy as np\n",
    "import os\n",
    "import matplotlib.pyplot as plt\n",
    "\n",
    "os.environ[\"SDL_VIDEODRIVER\"] = \"dummy\"\n",
    "from IPython.display import clear_output"
   ]
  },
  {
   "cell_type": "markdown",
   "metadata": {},
   "source": [
    "## Understanding the Cartpole environment implementation"
   ]
  },
  {
   "cell_type": "markdown",
   "metadata": {},
   "source": [
    "The library Gymnasium have some classic environments implemented (Cartopole example included). You can check the Cartpole implementation [here](https://github.com/Farama-Foundation/Gymnasium/blob/main/gymnasium/envs/classic_control/cartpole.py). You can create a cartpole environment using the following:"
   ]
  },
  {
   "cell_type": "code",
   "execution_count": 3,
   "metadata": {},
   "outputs": [],
   "source": [
    "env = gym.make(\"CartPole-v1\", render_mode=\"rgb_array\")"
   ]
  },
  {
   "cell_type": "markdown",
   "metadata": {},
   "source": [
    "The agent actions are \"left\" or \"right\", and the environment considers a discrete variable 0 and 1 representing them. Try re-running the code below to verify the `action_space.sample()` function generating different possible actions to be applied in the environment. The action space is a placeholder that indicates the format an action should follow."
   ]
  },
  {
   "cell_type": "code",
   "execution_count": 5,
   "metadata": {},
   "outputs": [
    {
     "name": "stdout",
     "output_type": "stream",
     "text": [
      "Action space: Discrete(2)\n",
      "1st sample of action space: 1\n",
      "2nd sample of action space: 0\n",
      "3rd sample of action space: 1\n"
     ]
    }
   ],
   "source": [
    "print(f\"Action space: {env.action_space}\")\n",
    "print(f\"1st sample of action space: {env.action_space.sample()}\")\n",
    "print(f\"2nd sample of action space: {env.action_space.sample()}\")\n",
    "print(f\"3rd sample of action space: {env.action_space.sample()}\")"
   ]
  },
  {
   "cell_type": "markdown",
   "metadata": {},
   "source": [
    "The action space using Gym can also verify if a given variable obbeys to the pre-defined action space format to avoid incompatibility problems."
   ]
  },
  {
   "cell_type": "code",
   "execution_count": null,
   "metadata": {},
   "outputs": [
    {
     "name": "stdout",
     "output_type": "stream",
     "text": [
      "Action 1 is valid: True\n",
      "Action 2 is valid: False\n",
      "Action 3 is valid: False\n",
      "Action 4 is valid: False\n"
     ]
    }
   ],
   "source": [
    "action1 = 0\n",
    "action2 = 3\n",
    "action3 = \"left\"\n",
    "action4 = [0]\n",
    "print(f\"Action 1 is valid: {env.action_space.contains(action1)}\")\n",
    "print(f\"Action 2 is valid: {env.action_space.contains(action2)}\")\n",
    "print(f\"Action 3 is valid: {env.action_space.contains(action3)}\")\n",
    "print(f\"Action 4 is valid: {env.action_space.contains(action4)}\")"
   ]
  },
  {
   "cell_type": "markdown",
   "metadata": {},
   "source": [
    "In the same way, the observartion space to the cartpole is defined as 4 variables ([here](https://www.gymlibrary.dev/environments/classic_control/cart_pole/)) representing:\n",
    "\n",
    "![Cartpole observation](imgs/cartpole_obs.png)"
   ]
  },
  {
   "cell_type": "markdown",
   "metadata": {},
   "source": [
    "The Gymnasium environment already implement an observation space placeholder with that information as we can check using:"
   ]
  },
  {
   "cell_type": "code",
   "execution_count": 7,
   "metadata": {},
   "outputs": [
    {
     "name": "stdout",
     "output_type": "stream",
     "text": [
      "Observation space type and format:  Box([-4.8000002e+00 -3.4028235e+38 -4.1887903e-01 -3.4028235e+38], [4.8000002e+00 3.4028235e+38 4.1887903e-01 3.4028235e+38], (4,), float32)\n",
      "1st sample of observation space:  [ 7.8957367e-01 -3.1435260e+38  1.9563946e-01  7.1298379e+37]\n",
      "2nd sample of observation space:  [ 8.18391323e-01  1.04323091e+38 -1.01376906e-01 -8.09498349e+37]\n",
      "3rd sample of observation space:  [-1.8061558e+00 -1.8950821e+38  3.8322768e-01 -1.6593899e+38]\n"
     ]
    }
   ],
   "source": [
    "print(\"Observation space type and format: \", env.observation_space)\n",
    "print(\"1st sample of observation space: \", env.observation_space.sample())\n",
    "print(\"2nd sample of observation space: \", env.observation_space.sample())\n",
    "print(\"3rd sample of observation space: \", env.observation_space.sample())"
   ]
  },
  {
   "cell_type": "markdown",
   "metadata": {},
   "source": [
    "The different Spaces, like Box and Discrete, available in Gymnasium could be checked [here](https://gymnasium.farama.org/api/spaces/)."
   ]
  },
  {
   "cell_type": "markdown",
   "metadata": {},
   "source": [
    "**The reward function does not need a placeholder specification like the action and observation space since it is always a unique real number.**"
   ]
  },
  {
   "cell_type": "markdown",
   "metadata": {},
   "source": [
    "## Modeling the dumbest agent possible for controlling the cartpole problem (**Without RL**)"
   ]
  },
  {
   "cell_type": "markdown",
   "metadata": {},
   "source": [
    "Remember, the agent needs to utilize the observation to generate an action that complies with the action space format. Therefore, for the cartpole the action must be a discrete number between 0 and 1."
   ]
  },
  {
   "cell_type": "code",
   "execution_count": 8,
   "metadata": {},
   "outputs": [],
   "source": [
    "def dumb_action_policy(observation: np.ndarray) -> int:\n",
    "    pole_angle = observation[2]\n",
    "    return 0 if pole_angle < 0 else 1"
   ]
  },
  {
   "cell_type": "markdown",
   "metadata": {},
   "source": [
    "### Integrating the agent and the environment"
   ]
  },
  {
   "cell_type": "code",
   "execution_count": 10,
   "metadata": {},
   "outputs": [
    {
     "data": {
      "image/png": "[encoded data removed]",
      "text/plain": [
       "<Figure size 640x480 with 1 Axes>"
      ]
     },
     "metadata": {},
     "output_type": "display_data"
    },
    {
     "name": "stdout",
     "output_type": "stream",
     "text": [
      "Performance report:\n",
      "Episode 1: reward=46.0, steps=46\n",
      "Episode 2: reward=34.0, steps=34\n",
      "Episode 3: reward=51.0, steps=51\n",
      "Episode 4: reward=36.0, steps=36\n",
      "Episode 5: reward=44.0, steps=44\n",
      "Episode 6: reward=63.0, steps=63\n",
      "Episode 7: reward=39.0, steps=39\n",
      "Episode 8: reward=45.0, steps=45\n",
      "Episode 9: reward=40.0, steps=40\n",
      "Episode 10: reward=44.0, steps=44\n"
     ]
    }
   ],
   "source": [
    "number_of_episodes = 10\n",
    "\n",
    "terminated = False\n",
    "report_performance = []\n",
    "for episode in range(number_of_episodes):\n",
    "    obs, _ = env.reset()  # Initial observation\n",
    "    terminated = False  # True when an episode has finished\n",
    "    total_reward = 0\n",
    "    number_steps_not_falling = 0\n",
    "    while not terminated:\n",
    "        action = dumb_action_policy(obs)  # Take action from agent\n",
    "        obs, reward, terminated, truncated, info = env.step(\n",
    "            action\n",
    "        )  # Applying the action in the environment\n",
    "        total_reward += float(reward)\n",
    "        number_steps_not_falling += 1\n",
    "\n",
    "        # Code to show the animation\n",
    "        clear_output(wait=True)\n",
    "        plt.imshow(env.render())\n",
    "        plt.title(f\"Episode {episode + 1}, step={number_steps_not_falling}\")\n",
    "        plt.show()\n",
    "        # End - Code to show the animation\n",
    "    report_performance.append((total_reward, number_steps_not_falling))\n",
    "print(\"Performance report:\")\n",
    "for episode, (total_reward, number_steps_not_falling) in enumerate(report_performance):\n",
    "    print(\n",
    "        f\"Episode {episode + 1}: reward={total_reward}, steps={number_steps_not_falling}\"\n",
    "    )"
   ]
  },
  {
   "cell_type": "markdown",
   "metadata": {},
   "source": [
    "## What is needed to implement a custom environment using the Gymnasium API?"
   ]
  },
  {
   "cell_type": "markdown",
   "metadata": {},
   "source": [
    "Gymnasium has a documentation explaining the details of an environment definition [here](https://gymnasium.farama.org/tutorials/gymnasium_basics/environment_creation/#). Here, we will create a (super) simple example based on a guess the number game. First, let's remember what is an environment and its interactions with the agent looking at the [Sutton and Barto](http://incompleteideas.net/book/the-book-2nd.html) figure below.\n",
    "\n",
    "![RL agent and environment](./imgs/rl_concept.png)"
   ]
  },
  {
   "cell_type": "markdown",
   "metadata": {},
   "source": [
    "The environment must have a function that receives an action from the agent and applies it in the environment, generating a reward and a new state that will be returned to the agent. The Gymnasium API requires the custom environment to contain the following functions:\n",
    "  - `step()`: A function that receives an action from the agent and returns an observation and reward.\n",
    "  - `reset()`: A function that returns the environment for an initial state.\n",
    "  - (optional) `render()`: A function that renders images from the environment.\n",
    "  - (optional) `close()`: A function that closes the rendering of the environment.\n",
    "\n",
    "So, let's create our (super) guess the number environment."
   ]
  },
  {
   "cell_type": "code",
   "execution_count": 14,
   "metadata": {},
   "outputs": [],
   "source": [
    "class GuessNumber(gym.Env):\n",
    "    def __init__(self):\n",
    "        self.number = np.random.randint(100)  # Number to be guessed (0 to 99)\n",
    "        self.action_space = gym.spaces.Discrete(100)  # 0 to 99\n",
    "        self.observation_space = gym.spaces.MultiDiscrete(\n",
    "            nvec=[4, 4]\n",
    "        )  # first variable represents 0: starting game, 1: too low, 2: correct, 3: too high. Last variable is the previous action\n",
    "\n",
    "    def reset(self):\n",
    "        # When the environment is reset, a new number is generated (starting a new episode)\n",
    "        self.number = np.random.randint(100)\n",
    "        observation = [0, 0]\n",
    "        self.steps_without_winning = 0\n",
    "        info = {\"text\": \"New episode started\"}\n",
    "        return observation, info\n",
    "\n",
    "    def step(self, action):\n",
    "        terminated = False\n",
    "        truncated = False\n",
    "        if action < self.number:\n",
    "            observation = [1, action]\n",
    "            reward = -1\n",
    "            info = {\"text\": f\"The guessed number {action} is too low\"}\n",
    "        elif action > self.number:\n",
    "            observation = [3, action]\n",
    "            reward = -1\n",
    "            info = {\"text\": f\"The guessed number {action} is too high\"}\n",
    "        else:\n",
    "            observation = [2, action]\n",
    "            reward = 0\n",
    "            terminated = True\n",
    "            info = {\"text\": \"Congratulations! You guessed the number\"}\n",
    "\n",
    "        return observation, reward, terminated, truncated, info"
   ]
  },
  {
   "cell_type": "markdown",
   "metadata": {},
   "source": [
    "### Creating the dumbest agent ever made to play our guess the number game"
   ]
  },
  {
   "cell_type": "code",
   "execution_count": 15,
   "metadata": {},
   "outputs": [],
   "source": [
    "def guess_the_number_agent(observation):\n",
    "    tip = observation[0]\n",
    "    previous_action = observation[1]\n",
    "    if tip == 0:\n",
    "        return np.random.randint(100)  # Starting the game: select a random number\n",
    "    elif tip == 1:\n",
    "        return np.random.randint(\n",
    "            previous_action, 100\n",
    "        )  # Select a random number smaller than the previous one\n",
    "    elif tip == 3:\n",
    "        return np.random.randint(\n",
    "            0, previous_action\n",
    "        )  # Select a random number bigger than the previous one\n",
    "    else:\n",
    "        return previous_action  # We won! Keep the number"
   ]
  },
  {
   "cell_type": "markdown",
   "metadata": {},
   "source": [
    "### Using our dumb agent in the guess the number environment"
   ]
  },
  {
   "cell_type": "code",
   "execution_count": 17,
   "metadata": {},
   "outputs": [
    {
     "name": "stdout",
     "output_type": "stream",
     "text": [
      "Performance report:\n",
      "Episode 1: reward=-150.0, right number: 58\n",
      "Episode 2: reward=-4.0, right number: 98\n",
      "Episode 3: reward=-113.0, right number: 87\n",
      "Episode 4: reward=-33.0, right number: 97\n",
      "Episode 5: reward=-42.0, right number: 13\n",
      "Episode 6: reward=-131.0, right number: 42\n",
      "Episode 7: reward=-83.0, right number: 74\n",
      "Episode 8: reward=-65.0, right number: 44\n",
      "Episode 9: reward=-45.0, right number: 17\n",
      "Episode 10: reward=-7.0, right number: 57\n"
     ]
    }
   ],
   "source": [
    "env = GuessNumber()\n",
    "number_of_episodes = 10\n",
    "\n",
    "terminated = False\n",
    "total_reward = 0\n",
    "report_performance = []\n",
    "steps = 0\n",
    "for episode in range(number_of_episodes):\n",
    "    obs, _ = env.reset()  # Initial observation\n",
    "    terminated = False  # True when an episode has finished\n",
    "    total_reward = 0\n",
    "    while not terminated:\n",
    "        action = guess_the_number_agent(obs)  # Take action from agent\n",
    "        obs, reward, terminated, truncated, info = env.step(\n",
    "            action\n",
    "        )  # Applying the action in the environment\n",
    "        total_reward += float(reward)\n",
    "        right_action = action\n",
    "    report_performance.append((total_reward, right_action))\n",
    "print(\"Performance report:\")\n",
    "for episode, (total_reward, right_action) in enumerate(report_performance):\n",
    "    print(f\"Episode {episode + 1}: reward={total_reward}, right number: {right_action}\")"
   ]
  }
 ],
 "metadata": {
  "kernelspec": {
   "display_name": "ray_minicourse-PTDOXG61",
   "language": "python",
   "name": "python3"
  },
  "language_info": {
   "codemirror_mode": {
    "name": "ipython",
    "version": 3
   },
   "file_extension": ".py",
   "mimetype": "text/x-python",
   "name": "python",
   "nbconvert_exporter": "python",
   "pygments_lexer": "ipython3",
   "version": "3.10.12"
  }
 },
 "nbformat": 4,
 "nbformat_minor": 2
}
