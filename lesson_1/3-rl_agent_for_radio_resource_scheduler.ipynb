{
 "cells": [
  {
   "cell_type": "markdown",
   "metadata": {},
   "source": [
    "# Exploring PPO RL using multiple workers with Ray Rllib"
   ]
  },
  {
   "cell_type": "code",
   "execution_count": 1,
   "metadata": {},
   "outputs": [],
   "source": [
    "import os\n",
    "from pathlib import Path\n",
    "from tqdm import tqdm\n",
    "from copy import deepcopy\n",
    "\n",
    "import gymnasium as gym\n",
    "import matplotlib.pyplot as plt\n",
    "from pprint import pprint\n",
    "from ray import air, tune\n",
    "import numpy as np\n",
    "from ray.rllib.algorithms.ppo import PPOConfig\n",
    "from ray.rllib.algorithms.algorithm import Algorithm\n",
    "from ray.tune.registry import register_env\n",
    "\n",
    "# sixg_radio_mgmt\n",
    "from sixg_radio_mgmt import (\n",
    "    CommunicationEnv,\n",
    "    Association,\n",
    "    UEs,\n",
    "    Channel,\n",
    "    Mobility,\n",
    "    Traffic,\n",
    "    Agent,\n",
    ")\n",
    "from typing import Optional, Tuple, Union"
   ]
  },
  {
   "cell_type": "markdown",
   "metadata": {},
   "source": [
    "## Radio resource scheduler simulator "
   ]
  },
  {
   "cell_type": "markdown",
   "metadata": {},
   "source": [
    "We utilize the radio scheduler simulator [sixg_radio_mgmt](https://github.com/lasseufpa/sixg_radio_mgmt) to simulate a scenario with 5 UEs. The dynamics of the communication environment are defined in the following classes:\n",
    "- SimpleAssociation: Defines which UE is associated to each base station and slice. In our scenario here, all the five UEs are associated to the unique base station available in the scenario.\n",
    "- SimpleChannel: Calculates the spectral efficiency values for each combination of UEs x RBs.\n",
    "- SimpleMobility: The channels are fixed and does not consider the Mobility in the calculation. So, here, the mobility is just ignored.\n",
    "- SimpleTraffic: Defines the throughput traffic requested by each UE."
   ]
  },
  {
   "cell_type": "code",
   "execution_count": 2,
   "metadata": {},
   "outputs": [],
   "source": [
    "class SimpleAssociation(Association):\n",
    "    def __init__(\n",
    "        self,\n",
    "        ues: UEs,\n",
    "        max_number_ues: int,\n",
    "        max_number_basestations: int,\n",
    "        max_number_slices: int,\n",
    "        rng: np.random.Generator = np.random.default_rng(),\n",
    "        root_path: str = \"\",\n",
    "        scenario_name: str = \"\",\n",
    "    ) -> None:\n",
    "        super().__init__(\n",
    "            ues,\n",
    "            max_number_ues,\n",
    "            max_number_basestations,\n",
    "            max_number_slices,\n",
    "            rng,\n",
    "            root_path,\n",
    "            scenario_name,\n",
    "        )\n",
    "        self.basestation_ue_assoc = np.ones((1, max_number_ues), dtype=int)\n",
    "        self.basestation_slice_assoc = np.ones((1, max_number_slices), dtype=int)\n",
    "        self.slice_ue_assoc = np.ones((1, max_number_ues), dtype=int)\n",
    "\n",
    "    def step(\n",
    "        self,\n",
    "        basestation_ue_assoc: np.ndarray,\n",
    "        basestation_slice_assoc: np.ndarray,\n",
    "        slice_ue_assoc: np.ndarray,\n",
    "        slice_req: Optional[dict],\n",
    "        step_number: int,\n",
    "        episode_number: int,\n",
    "    ) -> Tuple[np.ndarray, np.ndarray, np.ndarray, Optional[dict]]:\n",
    "        return (\n",
    "            basestation_ue_assoc,\n",
    "            basestation_slice_assoc,\n",
    "            slice_ue_assoc,\n",
    "            slice_req,\n",
    "        )"
   ]
  },
  {
   "cell_type": "code",
   "execution_count": 3,
   "metadata": {},
   "outputs": [],
   "source": [
    "class SimpleChannel(Channel):\n",
    "    def __init__(\n",
    "        self,\n",
    "        max_number_ues: int,\n",
    "        max_number_basestations: int,\n",
    "        num_available_rbs: np.ndarray,\n",
    "        rng: np.random.Generator = np.random.default_rng(),\n",
    "        root_path: str = \"\",\n",
    "        scenario_name: str = \"\",\n",
    "    ) -> None:\n",
    "        super().__init__(\n",
    "            max_number_ues,\n",
    "            max_number_basestations,\n",
    "            num_available_rbs,\n",
    "            rng,\n",
    "            root_path,\n",
    "            scenario_name,\n",
    "        )\n",
    "        self.fixed_spec_eff = 5 * np.ones(\n",
    "            (max_number_basestations, max_number_ues, num_available_rbs[0])\n",
    "        )\n",
    "        self.fixed_spec_eff[0, 0:3, :] = 20  # First 3 UEs have a higher throughput\n",
    "\n",
    "    def step(\n",
    "        self,\n",
    "        step_number: int,\n",
    "        episode_number: int,\n",
    "        mobilities: np.ndarray,\n",
    "        sched_decision: Optional[np.ndarray] = None,\n",
    "    ) -> np.ndarray:\n",
    "        return self.fixed_spec_eff"
   ]
  },
  {
   "cell_type": "code",
   "execution_count": 4,
   "metadata": {},
   "outputs": [],
   "source": [
    "class SimpleMobility(Mobility):\n",
    "    def __init__(\n",
    "        self,\n",
    "        max_number_ues: int,\n",
    "        rng: np.random.Generator = np.random.default_rng(),\n",
    "        root_path: str = \"\",\n",
    "    ) -> None:\n",
    "        super().__init__(max_number_ues, rng, root_path)\n",
    "\n",
    "    def step(self, step_number: int, episode_number: int) -> np.ndarray:\n",
    "        return np.ones((self.max_number_ues, 2))"
   ]
  },
  {
   "cell_type": "code",
   "execution_count": 5,
   "metadata": {},
   "outputs": [],
   "source": [
    "class SimpleTraffic(Traffic):\n",
    "    def __init__(\n",
    "        self,\n",
    "        max_number_ues: int,\n",
    "        rng: np.random.Generator = np.random.default_rng(),\n",
    "        root_path: str = \"\",\n",
    "    ) -> None:\n",
    "        super().__init__(max_number_ues, rng, root_path)\n",
    "        self.traffics_pattern = {\n",
    "            \"embb\": {\n",
    "                \"num_ues\": 3,\n",
    "                \"ue_throughput\": 100,\n",
    "            },\n",
    "            \"urllc\": {\n",
    "                \"num_ues\": 2,\n",
    "                \"ue_throughput\": 10,\n",
    "            },\n",
    "        }\n",
    "\n",
    "    def step(\n",
    "        self,\n",
    "        slice_ue_assoc: np.ndarray,\n",
    "        slice_req: dict,\n",
    "        step_number: int,\n",
    "        episode_number: int,\n",
    "    ) -> np.ndarray:\n",
    "        traffic_per_ue = np.zeros(self.max_number_ues)\n",
    "\n",
    "        # eMBB\n",
    "        traffic_per_ue[0:3] = (\n",
    "            self.traffics_pattern[\"embb\"][\"ue_throughput\"] * 1e6\n",
    "        )  # Mbps\n",
    "        # URLLC\n",
    "        traffic_per_ue[3:] = (\n",
    "            self.traffics_pattern[\"urllc\"][\"ue_throughput\"] * 1e6\n",
    "        )  # Mbps\n",
    "\n",
    "        return traffic_per_ue"
   ]
  },
  {
   "cell_type": "markdown",
   "metadata": {},
   "source": [
    "## Defining scenario characteristics"
   ]
  },
  {
   "cell_type": "code",
   "execution_count": 6,
   "metadata": {},
   "outputs": [],
   "source": [
    "seed = 10\n",
    "number_ues = 5\n",
    "number_basestations = 1\n",
    "number_slices = 1\n",
    "rbs_available = np.array([100])\n",
    "\n",
    "steps_per_episode = 1000\n",
    "training_episodes = 80\n",
    "training_epochs = 1\n",
    "testing_episodes = 20"
   ]
  },
  {
   "cell_type": "markdown",
   "metadata": {},
   "source": [
    "The agent RL simple distributes the RBs among UEs considering an action space with one output per UE (A vector with 5 elements) with a value between -1 and 1. These values are converted to the number of RBs per UE in the `action_format()` function."
   ]
  },
  {
   "cell_type": "markdown",
   "metadata": {},
   "source": [
    "The observation space contains the normalized spectral efficiency and buffer occupancies for each UE, totaling an observation space with 10 variables (5 UEs x 2). The function `obs_space_format` is responsible for creating the observation space."
   ]
  },
  {
   "cell_type": "markdown",
   "metadata": {},
   "source": [
    "The function `calculate_reward` is responsible for calculate the reward that considers the average throughput sent by all the UEs in the system. Therefore, the goal of the RL agent is to maximize the total throughput."
   ]
  },
  {
   "cell_type": "markdown",
   "metadata": {},
   "source": [
    "The environment observation and action space are defined in the functions `get_action_space()` and `get_obs_space()`.  "
   ]
  },
  {
   "cell_type": "code",
   "execution_count": 7,
   "metadata": {},
   "outputs": [],
   "source": [
    "class RLSimple(Agent):\n",
    "    def __init__(\n",
    "        self,\n",
    "        env: CommunicationEnv,\n",
    "        max_number_ues: int,\n",
    "        max_number_slices: int,\n",
    "        max_number_basestations: int,\n",
    "        num_available_rbs: np.ndarray,\n",
    "        hyperparameters: dict = {},\n",
    "        seed: int = np.random.randint(1000),\n",
    "    ) -> None:\n",
    "        super().__init__(\n",
    "            env,\n",
    "            max_number_ues,\n",
    "            max_number_slices,\n",
    "            max_number_basestations,\n",
    "            num_available_rbs,\n",
    "            seed,\n",
    "        )\n",
    "        self.agent_name = \"ray_ppo\"\n",
    "        self.current_obs = None\n",
    "\n",
    "    def step(self, obs_space: Union[np.ndarray, dict]) -> np.ndarray:\n",
    "        return np.array([])\n",
    "\n",
    "    def obs_space_format(self, obs_space: dict) -> Union[np.ndarray, dict]:\n",
    "        # Function that create the observations\n",
    "        self.current_obs = obs_space\n",
    "        formatted_obs_space = np.array([])\n",
    "        hist_labels = [\n",
    "            \"buffer_occupancies\",\n",
    "            \"spectral_efficiencies\",\n",
    "        ]\n",
    "        for hist_label in hist_labels:\n",
    "            if hist_label == \"spectral_efficiencies\":\n",
    "                spectral_eff_ues = (\n",
    "                    np.mean(obs_space[hist_label][0], axis=1) / 20\n",
    "                )  # Normalizing by 20\n",
    "                formatted_obs_space = np.append(\n",
    "                    formatted_obs_space,\n",
    "                    spectral_eff_ues,\n",
    "                    axis=0,\n",
    "                )\n",
    "            else:\n",
    "                formatted_obs_space = np.append(\n",
    "                    formatted_obs_space, obs_space[hist_label], axis=0\n",
    "                )\n",
    "        return formatted_obs_space\n",
    "\n",
    "    def calculate_reward(self, obs_space: dict) -> Union[float, dict]:\n",
    "        reward = (\n",
    "            np.sum(obs_space[\"pkt_effective_thr\"], dtype=float) * 65536 / 1e6\n",
    "        ) / 1000  # Achieved throughput in Mbps divided by 1000 for normalization\n",
    "        return reward\n",
    "\n",
    "    def action_format(\n",
    "        self,\n",
    "        action: Union[np.ndarray, dict],\n",
    "    ) -> np.ndarray:\n",
    "        # Function that generate the actions\n",
    "        curr_action = deepcopy(action)\n",
    "        assert isinstance(curr_action, np.ndarray), \"Action must be a numpy array\"\n",
    "        assert isinstance(\n",
    "            self.current_obs, dict\n",
    "        ), \"Observation space must be a dictionary\"\n",
    "        sched_decision = np.array(\n",
    "            [\n",
    "                np.zeros((self.max_number_ues, self.num_available_rbs[basestation]))\n",
    "                for basestation in np.arange(self.max_number_basestations)\n",
    "            ]\n",
    "        )\n",
    "        if np.sum(curr_action + 1) == 0:\n",
    "            curr_action = np.ones_like(curr_action)\n",
    "        rbs_per_ue = np.floor(\n",
    "            self.num_available_rbs[0] * (curr_action + 1) / np.sum(curr_action + 1)\n",
    "        )\n",
    "        assert not np.isnan(rbs_per_ue).any(), \"NaN values in action\"\n",
    "        while np.sum(rbs_per_ue) != self.num_available_rbs[0]:\n",
    "            rbs_per_ue[0] += 1\n",
    "\n",
    "        sched_decision = self.distribute_rbs_ues(\n",
    "            rbs_per_ue,\n",
    "            sched_decision,\n",
    "            np.arange(self.max_number_ues),\n",
    "            self.num_available_rbs,\n",
    "            0,\n",
    "        )\n",
    "\n",
    "        assert (\n",
    "            np.sum(sched_decision) == self.num_available_rbs[0]\n",
    "        ), \"Allocated RBs are different from available RBs\"\n",
    "\n",
    "        return sched_decision\n",
    "\n",
    "    def get_action_space(\n",
    "        self,\n",
    "    ) -> gym.spaces.Box:\n",
    "        return gym.spaces.Box(\n",
    "            low=-1, high=1, shape=(self.max_number_ues,), dtype=np.float64\n",
    "        )\n",
    "\n",
    "    def get_obs_space(\n",
    "        self,\n",
    "    ) -> gym.spaces.Box:\n",
    "        return gym.spaces.Box(\n",
    "            low=0,\n",
    "            high=np.inf,\n",
    "            shape=(2 * self.max_number_ues,),\n",
    "            dtype=np.float64,\n",
    "        )\n",
    "\n",
    "    def distribute_rbs_ues(\n",
    "        self,\n",
    "        rbs_per_ue: np.ndarray,\n",
    "        allocation_rbs: np.ndarray,\n",
    "        slice_ues: np.ndarray,\n",
    "        rbs_per_slice: np.ndarray,\n",
    "        slice_idx: int,\n",
    "    ) -> np.ndarray:\n",
    "        rb_idx = np.sum(rbs_per_slice[:slice_idx], dtype=int)\n",
    "        for idx, ue_idx in enumerate(slice_ues):\n",
    "            allocation_rbs[0, ue_idx, rb_idx : rb_idx + rbs_per_ue[idx].astype(int)] = 1\n",
    "            rb_idx += rbs_per_ue[idx].astype(int)\n",
    "\n",
    "        return allocation_rbs"
   ]
  },
  {
   "cell_type": "markdown",
   "metadata": {},
   "source": [
    "When using a custom environment in Ray RLlib, a function that returns the environment needs to be created to register the environment using Ray API:"
   ]
  },
  {
   "cell_type": "code",
   "execution_count": 8,
   "metadata": {},
   "outputs": [],
   "source": [
    "def env_creator(env_config, training=True):\n",
    "    comm_env = CommunicationEnv(\n",
    "        ChannelClass=SimpleChannel,\n",
    "        TrafficClass=SimpleTraffic,\n",
    "        MobilityClass=SimpleMobility,\n",
    "        AssociationClass=SimpleAssociation,\n",
    "        config_file=\"rrs_simple\",\n",
    "        simu_name=\"rrs_simple\",\n",
    "        agent_name=\"ray_ppo\",\n",
    "    )\n",
    "    rl_api = RLSimple(\n",
    "        comm_env,\n",
    "        number_ues,\n",
    "        number_slices,\n",
    "        number_basestations,\n",
    "        rbs_available,\n",
    "    )\n",
    "    comm_env.set_agent_functions(\n",
    "        obs_space_format=rl_api.obs_space_format,\n",
    "        action_format=rl_api.action_format,\n",
    "        calculate_reward=rl_api.calculate_reward,\n",
    "        obs_space=rl_api.get_obs_space(),\n",
    "        action_space=rl_api.get_action_space(),\n",
    "    )\n",
    "    comm_env.max_number_episodes = 80 if training else 100\n",
    "\n",
    "    return comm_env\n",
    "\n",
    "\n",
    "register_env(\"comm_env\", lambda config: env_creator(config))"
   ]
  },
  {
   "cell_type": "markdown",
   "metadata": {},
   "source": [
    "## Creating and training the RL agent"
   ]
  },
  {
   "cell_type": "code",
   "execution_count": 9,
   "metadata": {},
   "outputs": [
    {
     "name": "stderr",
     "output_type": "stream",
     "text": [
      "2024-11-25 01:43:40,019\tINFO worker.py:1783 -- Started a local Ray instance.\n",
      "2024-11-25 01:43:40,650\tINFO tune.py:253 -- Initializing Ray automatically. For cluster usage or custom Ray initialization, call `ray.init(...)` before `Tuner(...)`.\n",
      "2024-11-25 01:43:40,652\tINFO tune.py:616 -- [output] This uses the legacy output and progress reporter, as Jupyter notebooks are not supported by the new engine, yet. For more information, please see https://github.com/ray-project/ray/issues/36949\n",
      "/home/lasse/.local/share/virtualenvs/ray_minicourse-PTDOXG61/lib/python3.10/site-packages/gymnasium/spaces/box.py:130: UserWarning: \u001b[33mWARN: Box bound precision lowered by casting to float32\u001b[0m\n",
      "  gym.logger.warn(f\"Box bound precision lowered by casting to {self.dtype}\")\n",
      "/home/lasse/.local/share/virtualenvs/ray_minicourse-PTDOXG61/lib/python3.10/site-packages/gymnasium/utils/passive_env_checker.py:164: UserWarning: \u001b[33mWARN: The obs returned by the `reset()` method was expecting numpy array dtype to be float32, actual type: float64\u001b[0m\n",
      "  logger.warn(\n",
      "/home/lasse/.local/share/virtualenvs/ray_minicourse-PTDOXG61/lib/python3.10/site-packages/gymnasium/utils/passive_env_checker.py:188: UserWarning: \u001b[33mWARN: The obs returned by the `reset()` method is not within the observation space.\u001b[0m\n",
      "  logger.warn(f\"{pre} is not within the observation space.\")\n"
     ]
    },
    {
     "data": {
      "text/html": [
       "<div class=\"tuneStatus\">\n",
       "  <div style=\"display: flex;flex-direction: row\">\n",
       "    <div style=\"display: flex;flex-direction: column;\">\n",
       "      <h3>Tune Status</h3>\n",
       "      <table>\n",
       "<tbody>\n",
       "<tr><td>Current time:</td><td>2024-11-25 01:46:56</td></tr>\n",
       "<tr><td>Running for: </td><td>00:03:15.53        </td></tr>\n",
       "<tr><td>Memory:      </td><td>5.5/23.9 GiB       </td></tr>\n",
       "</tbody>\n",
       "</table>\n",
       "    </div>\n",
       "    <div class=\"vDivider\"></div>\n",
       "    <div class=\"systemInfo\">\n",
       "      <h3>System Info</h3>\n",
       "      Using FIFO scheduling algorithm.<br>Logical resource usage: 2.0/16 CPUs, 0/0 GPUs\n",
       "    </div>\n",
       "    \n",
       "  </div>\n",
       "  <div class=\"hDivider\"></div>\n",
       "  <div class=\"trialStatus\">\n",
       "    <h3>Trial Status</h3>\n",
       "    <table>\n",
       "<thead>\n",
       "<tr><th>Trial name              </th><th>status    </th><th>loc                  </th><th style=\"text-align: right;\">  iter</th><th style=\"text-align: right;\">  total time (s)</th><th style=\"text-align: right;\">   ts</th><th style=\"text-align: right;\">  num_healthy_workers</th><th style=\"text-align: right;\">  num_in_flight_async_\n",
       "sample_reqs</th><th style=\"text-align: right;\">  num_remote_worker_re\n",
       "starts</th></tr>\n",
       "</thead>\n",
       "<tbody>\n",
       "<tr><td>PPO_comm_env_b2841_00000</td><td>TERMINATED</td><td>200.239.93.233:207945</td><td style=\"text-align: right;\">    40</td><td style=\"text-align: right;\">         185.425</td><td style=\"text-align: right;\">81920</td><td style=\"text-align: right;\">                    1</td><td style=\"text-align: right;\">0</td><td style=\"text-align: right;\">0</td></tr>\n",
       "</tbody>\n",
       "</table>\n",
       "  </div>\n",
       "</div>\n",
       "<style>\n",
       ".tuneStatus {\n",
       "  color: var(--jp-ui-font-color1);\n",
       "}\n",
       ".tuneStatus .systemInfo {\n",
       "  display: flex;\n",
       "  flex-direction: column;\n",
       "}\n",
       ".tuneStatus td {\n",
       "  white-space: nowrap;\n",
       "}\n",
       ".tuneStatus .trialStatus {\n",
       "  display: flex;\n",
       "  flex-direction: column;\n",
       "}\n",
       ".tuneStatus h3 {\n",
       "  font-weight: bold;\n",
       "}\n",
       ".tuneStatus .hDivider {\n",
       "  border-bottom-width: var(--jp-border-width);\n",
       "  border-bottom-color: var(--jp-border-color0);\n",
       "  border-bottom-style: solid;\n",
       "}\n",
       ".tuneStatus .vDivider {\n",
       "  border-left-width: var(--jp-border-width);\n",
       "  border-left-color: var(--jp-border-color0);\n",
       "  border-left-style: solid;\n",
       "  margin: 0.5em 1em 0.5em 1em;\n",
       "}\n",
       "</style>\n"
      ],
      "text/plain": [
       "<IPython.core.display.HTML object>"
      ]
     },
     "metadata": {},
     "output_type": "display_data"
    },
    {
     "name": "stderr",
     "output_type": "stream",
     "text": [
      "\u001b[36m(PPO pid=207945)\u001b[0m Install gputil for GPU system monitoring.\n",
      "\u001b[36m(PPO pid=207945)\u001b[0m 2024-11-25 01:43:53,701\tWARNING deprecation.py:50 -- DeprecationWarning: `ray.rllib.execution.train_ops.multi_gpu_train_one_step` has been deprecated. This will raise an error in the future!\n"
     ]
    },
    {
     "data": {
      "text/html": [
       "<div class=\"trialProgress\">\n",
       "  <h3>Trial Progress</h3>\n",
       "  <table>\n",
       "<thead>\n",
       "<tr><th>Trial name              </th><th style=\"text-align: right;\">  agent_timesteps_total</th><th>counters                                                                                                                            </th><th>custom_metrics  </th><th>env_runners                                                                                                                                                                                                                                                                                                                                                                                                                                                                                                                                                                                                                                                                                                                                                                                                                                                                                                                                                                                                                                                                                                                                                                                                                                                                                                                                                                                                                                                                                                                                                                                                                                                                                                                                                                                                                                                                                                                                                                                                                                                                                                                                                                                                                                                                                                                                                                                                                                                                                                                                                                                                                                                                                                                                                                                                                                                                                                                                                                                                                                                                                                                                                                                                                                                                                                                                                                                                                                                                                                                                                                                                                                                                                                                                                                                                                                                                                                                                                                                                                                                                                                                                                                                                                                                                                                                                                                                                                                                                                                                                                                                                                                                                                                                                                                                                                                                                                                                                                                                                                                                                                                                                                                                                                                                                                                                                                                                                                                                                                                                                                                                                                                                                                                                                                                                                                                                                                                                                                                                                                                                                                                                                                                                                                                                                                                                                                                                                                                                                                                                                                                                                                                                                                                                                                                                                                                                                                                                                                                                                                                                                                                                                                                                                                             </th><th>episode_media  </th><th>info                                                                                                                                                                                                                                                                                                                                                                                                                                                                                                                                                                                                                                                                                                                                                                                                                                                              </th><th style=\"text-align: right;\">  num_agent_steps_sampled</th><th style=\"text-align: right;\">  num_agent_steps_sampled_lifetime</th><th style=\"text-align: right;\">  num_agent_steps_trained</th><th style=\"text-align: right;\">  num_env_steps_sampled</th><th style=\"text-align: right;\">  num_env_steps_sampled_lifetime</th><th style=\"text-align: right;\">  num_env_steps_sampled_this_iter</th><th style=\"text-align: right;\">  num_env_steps_sampled_throughput_per_sec</th><th style=\"text-align: right;\">  num_env_steps_trained</th><th style=\"text-align: right;\">  num_env_steps_trained_this_iter</th><th style=\"text-align: right;\">  num_env_steps_trained_throughput_per_sec</th><th style=\"text-align: right;\">  num_healthy_workers</th><th style=\"text-align: right;\">  num_in_flight_async_sample_reqs</th><th style=\"text-align: right;\">  num_remote_worker_restarts</th><th style=\"text-align: right;\">  num_steps_trained_this_iter</th><th>perf                                                                                     </th><th>timers                                                                                                                                                                                                                                                                                  </th></tr>\n",
       "</thead>\n",
       "<tbody>\n",
       "<tr><td>PPO_comm_env_b2841_00000</td><td style=\"text-align: right;\">                  81920</td><td>{&#x27;num_env_steps_sampled&#x27;: 81920, &#x27;num_env_steps_trained&#x27;: 81920, &#x27;num_agent_steps_sampled&#x27;: 81920, &#x27;num_agent_steps_trained&#x27;: 81920}</td><td>{}              </td><td>{&#x27;episode_reward_max&#x27;: np.float64(217.98099353599866), &#x27;episode_reward_min&#x27;: np.float64(189.89901414399938), &#x27;episode_reward_mean&#x27;: np.float64(212.8129062937272), &#x27;episode_len_mean&#x27;: np.float64(1000.0), &#x27;episode_media&#x27;: {}, &#x27;episodes_timesteps_total&#x27;: 81000, &#x27;policy_reward_min&#x27;: {&#x27;default_policy&#x27;: np.float64(189.89901414399938)}, &#x27;policy_reward_max&#x27;: {&#x27;default_policy&#x27;: np.float64(217.98099353599866)}, &#x27;policy_reward_mean&#x27;: {&#x27;default_policy&#x27;: np.float64(212.8129062937272)}, &#x27;custom_metrics&#x27;: {}, &#x27;hist_stats&#x27;: {&#x27;episode_reward&#x27;: [np.float64(189.89901414399938), np.float64(191.23843891199942), np.float64(196.60426444799953), np.float64(196.76567961599915), np.float64(201.7231503359992), np.float64(200.26530201599917), np.float64(203.61222553599939), np.float64(203.04959897599917), np.float64(206.31257087999902), np.float64(205.29584537599905), np.float64(208.70692863999886), np.float64(209.99772569599872), np.float64(212.37078425599873), np.float64(209.6978329599988), np.float64(211.28983347199872), np.float64(211.42988390399879), np.float64(212.0124334079986), np.float64(212.49779302399907), np.float64(212.6721187839986), np.float64(213.17038899199858), np.float64(214.4611860479988), np.float64(213.40101017599883), np.float64(213.0362367999987), np.float64(212.23027507199873), np.float64(212.88629043199882), np.float64(213.48240588799865), np.float64(213.51877836799886), np.float64(213.211807743999), np.float64(214.00997068799896), np.float64(213.63752959999894), np.float64(214.62686105599875), np.float64(213.386067967999), np.float64(213.2819967999989), np.float64(214.68538470399886), np.float64(214.4912015359989), np.float64(213.7545113599987), np.float64(214.52403507199887), np.float64(214.40410419199878), np.float64(214.32126668799904), np.float64(214.3286067199987), np.float64(212.64505241599883), np.float64(213.70725990399845), np.float64(214.05571481599875), np.float64(213.5416504319989), np.float64(213.97281177599876), np.float64(215.4364272639986), np.float64(214.84103270399908), np.float64(214.50555391999896), np.float64(214.86665727999878), np.float64(213.92719871999893), np.float64(214.81966796799878), np.float64(215.47070259199882), np.float64(215.39074867199878), np.float64(216.36605542399903), np.float64(216.5345484799986), np.float64(216.38027673599893), np.float64(216.27771289599906), np.float64(215.98620876799876), np.float64(217.50127001599836), np.float64(215.35935692799873), np.float64(215.7334364159987), np.float64(216.51875430399892), np.float64(216.0207462399987), np.float64(216.1364172799989), np.float64(216.31323340799875), np.float64(216.76149964799876), np.float64(216.87291084799858), np.float64(216.08189132799853), np.float64(216.4990935039988), np.float64(216.88293785599856), np.float64(217.32438835199864), np.float64(217.52859852799858), np.float64(216.88293785599862), np.float64(216.98425651199813), np.float64(216.12186828799898), np.float64(217.30990489599887), np.float64(217.08282265599863), np.float64(216.6061793279989), np.float64(217.0631618559984), np.float64(217.98099353599866), np.float64(217.26212915199883)], &#x27;episode_lengths&#x27;: [1000, 1000, 1000, 1000, 1000, 1000, 1000, 1000, 1000, 1000, 1000, 1000, 1000, 1000, 1000, 1000, 1000, 1000, 1000, 1000, 1000, 1000, 1000, 1000, 1000, 1000, 1000, 1000, 1000, 1000, 1000, 1000, 1000, 1000, 1000, 1000, 1000, 1000, 1000, 1000, 1000, 1000, 1000, 1000, 1000, 1000, 1000, 1000, 1000, 1000, 1000, 1000, 1000, 1000, 1000, 1000, 1000, 1000, 1000, 1000, 1000, 1000, 1000, 1000, 1000, 1000, 1000, 1000, 1000, 1000, 1000, 1000, 1000, 1000, 1000, 1000, 1000, 1000, 1000, 1000, 1000], &#x27;policy_default_policy_reward&#x27;: [np.float64(189.89901414399938), np.float64(191.23843891199942), np.float64(196.60426444799953), np.float64(196.76567961599915), np.float64(201.7231503359992), np.float64(200.26530201599917), np.float64(203.61222553599939), np.float64(203.04959897599917), np.float64(206.31257087999902), np.float64(205.29584537599905), np.float64(208.70692863999886), np.float64(209.99772569599872), np.float64(212.37078425599873), np.float64(209.6978329599988), np.float64(211.28983347199872), np.float64(211.42988390399879), np.float64(212.0124334079986), np.float64(212.49779302399907), np.float64(212.6721187839986), np.float64(213.17038899199858), np.float64(214.4611860479988), np.float64(213.40101017599883), np.float64(213.0362367999987), np.float64(212.23027507199873), np.float64(212.88629043199882), np.float64(213.48240588799865), np.float64(213.51877836799886), np.float64(213.211807743999), np.float64(214.00997068799896), np.float64(213.63752959999894), np.float64(214.62686105599875), np.float64(213.386067967999), np.float64(213.2819967999989), np.float64(214.68538470399886), np.float64(214.4912015359989), np.float64(213.7545113599987), np.float64(214.52403507199887), np.float64(214.40410419199878), np.float64(214.32126668799904), np.float64(214.3286067199987), np.float64(212.64505241599883), np.float64(213.70725990399845), np.float64(214.05571481599875), np.float64(213.5416504319989), np.float64(213.97281177599876), np.float64(215.4364272639986), np.float64(214.84103270399908), np.float64(214.50555391999896), np.float64(214.86665727999878), np.float64(213.92719871999893), np.float64(214.81966796799878), np.float64(215.47070259199882), np.float64(215.39074867199878), np.float64(216.36605542399903), np.float64(216.5345484799986), np.float64(216.38027673599893), np.float64(216.27771289599906), np.float64(215.98620876799876), np.float64(217.50127001599836), np.float64(215.35935692799873), np.float64(215.7334364159987), np.float64(216.51875430399892), np.float64(216.0207462399987), np.float64(216.1364172799989), np.float64(216.31323340799875), np.float64(216.76149964799876), np.float64(216.87291084799858), np.float64(216.08189132799853), np.float64(216.4990935039988), np.float64(216.88293785599856), np.float64(217.32438835199864), np.float64(217.52859852799858), np.float64(216.88293785599862), np.float64(216.98425651199813), np.float64(216.12186828799898), np.float64(217.30990489599887), np.float64(217.08282265599863), np.float64(216.6061793279989), np.float64(217.0631618559984), np.float64(217.98099353599866), np.float64(217.26212915199883)]}, &#x27;sampler_perf&#x27;: {&#x27;mean_raw_obs_processing_ms&#x27;: np.float64(0.20699208568987948), &#x27;mean_inference_ms&#x27;: np.float64(0.7067151973819041), &#x27;mean_action_processing_ms&#x27;: np.float64(0.13130820465694604), &#x27;mean_env_wait_ms&#x27;: np.float64(0.7298438805713751), &#x27;mean_env_render_ms&#x27;: np.float64(0.0)}, &#x27;num_faulty_episodes&#x27;: 0, &#x27;connector_metrics&#x27;: {&#x27;ObsPreprocessorConnector_ms&#x27;: np.float64(0.005540141352900752), &#x27;StateBufferConnector_ms&#x27;: np.float64(0.0036254341219678337), &#x27;ViewRequirementAgentConnector_ms&#x27;: np.float64(0.08647382995228708)}, &#x27;num_episodes&#x27;: 2, &#x27;episode_return_max&#x27;: np.float64(217.98099353599866), &#x27;episode_return_min&#x27;: np.float64(189.89901414399938), &#x27;episode_return_mean&#x27;: np.float64(212.8129062937272), &#x27;episodes_this_iter&#x27;: 2}</td><td>{}             </td><td>{&#x27;learner&#x27;: {&#x27;default_policy&#x27;: {&#x27;learner_stats&#x27;: {&#x27;allreduce_latency&#x27;: np.float64(0.0), &#x27;grad_gnorm&#x27;: np.float64(0.47442390345968305), &#x27;cur_kl_coeff&#x27;: np.float64(0.0), &#x27;cur_lr&#x27;: np.float64(0.0003), &#x27;total_loss&#x27;: np.float64(1.8658713206648827), &#x27;policy_loss&#x27;: np.float64(-0.0016591735882684588), &#x27;vf_loss&#x27;: np.float64(3.8844407909890832), &#x27;vf_explained_var&#x27;: np.float64(0.08685452081263065), &#x27;kl&#x27;: np.float64(0.0), &#x27;entropy&#x27;: np.float64(7.4689907565712925), &#x27;entropy_coeff&#x27;: np.float64(0.009999999999999998)}, &#x27;model&#x27;: {}, &#x27;custom_metrics&#x27;: {}, &#x27;num_agent_steps_trained&#x27;: np.float64(64.0), &#x27;num_grad_updates_lifetime&#x27;: np.float64(12640.5), &#x27;diff_num_grad_updates_vs_sampler_policy&#x27;: np.float64(159.5)}}, &#x27;num_env_steps_sampled&#x27;: 81920, &#x27;num_env_steps_trained&#x27;: 81920, &#x27;num_agent_steps_sampled&#x27;: 81920, &#x27;num_agent_steps_trained&#x27;: 81920}</td><td style=\"text-align: right;\">                    81920</td><td style=\"text-align: right;\">                             81920</td><td style=\"text-align: right;\">                    81920</td><td style=\"text-align: right;\">                  81920</td><td style=\"text-align: right;\">                           81920</td><td style=\"text-align: right;\">                             2048</td><td style=\"text-align: right;\">                                   434.843</td><td style=\"text-align: right;\">                  81920</td><td style=\"text-align: right;\">                             2048</td><td style=\"text-align: right;\">                                   434.843</td><td style=\"text-align: right;\">                    1</td><td style=\"text-align: right;\">                                0</td><td style=\"text-align: right;\">                           0</td><td style=\"text-align: right;\">                         2048</td><td>{&#x27;cpu_util_percent&#x27;: np.float64(6.8), &#x27;ram_util_percent&#x27;: np.float64(23.016666666666666)}</td><td>{&#x27;training_iteration_time_ms&#x27;: 4618.184, &#x27;restore_workers_time_ms&#x27;: 0.017, &#x27;training_step_time_ms&#x27;: 4618.133, &#x27;sample_time_ms&#x27;: 3635.958, &#x27;load_time_ms&#x27;: 0.294, &#x27;load_throughput&#x27;: 6965000.075, &#x27;learn_time_ms&#x27;: 978.663, &#x27;learn_throughput&#x27;: 2092.651, &#x27;synch_weights_time_ms&#x27;: 2.916}</td></tr>\n",
       "</tbody>\n",
       "</table>\n",
       "</div>\n",
       "<style>\n",
       ".trialProgress {\n",
       "  display: flex;\n",
       "  flex-direction: column;\n",
       "  color: var(--jp-ui-font-color1);\n",
       "}\n",
       ".trialProgress h3 {\n",
       "  font-weight: bold;\n",
       "}\n",
       ".trialProgress td {\n",
       "  white-space: nowrap;\n",
       "}\n",
       "</style>\n"
      ],
      "text/plain": [
       "<IPython.core.display.HTML object>"
      ]
     },
     "metadata": {},
     "output_type": "display_data"
    },
    {
     "name": "stderr",
     "output_type": "stream",
     "text": [
      "2024-11-25 01:46:56,218\tINFO tune.py:1009 -- Wrote the latest version of all result files and experiment state to '/home/lasse/ray_minicourse/lesson_1/ray_results/nb_3/ray_ppo' in 0.0123s.\n",
      "\u001b[36m(PPO pid=207945)\u001b[0m Checkpoint successfully created at: Checkpoint(filesystem=local, path=/home/lasse/ray_minicourse/lesson_1/ray_results/nb_3/ray_ppo/PPO_comm_env_b2841_00000_0_2024-11-25_01-43-40/checkpoint_000000)\n",
      "2024-11-25 01:46:56,292\tINFO tune.py:1041 -- Total run time: 195.64 seconds (195.51 seconds for the tuning loop).\n"
     ]
    },
    {
     "name": "stdout",
     "output_type": "stream",
     "text": [
      "ResultGrid<[\n",
      "  Result(\n",
      "    metrics={'custom_metrics': {}, 'episode_media': {}, 'info': {'learner': {'default_policy': {'learner_stats': {'allreduce_latency': np.float64(0.0), 'grad_gnorm': np.float64(0.47442390345968305), 'cur_kl_coeff': np.float64(0.0), 'cur_lr': np.float64(0.0003), 'total_loss': np.float64(1.8658713206648827), 'policy_loss': np.float64(-0.0016591735882684588), 'vf_loss': np.float64(3.8844407909890832), 'vf_explained_var': np.float64(0.08685452081263065), 'kl': np.float64(0.0), 'entropy': np.float64(7.4689907565712925), 'entropy_coeff': np.float64(0.009999999999999998)}, 'model': {}, 'custom_metrics': {}, 'num_agent_steps_trained': np.float64(64.0), 'num_grad_updates_lifetime': np.float64(12640.5), 'diff_num_grad_updates_vs_sampler_policy': np.float64(159.5)}}, 'num_env_steps_sampled': 81920, 'num_env_steps_trained': 81920, 'num_agent_steps_sampled': 81920, 'num_agent_steps_trained': 81920}, 'env_runners': {'episode_reward_max': np.float64(217.98099353599866), 'episode_reward_min': np.float64(189.89901414399938), 'episode_reward_mean': np.float64(212.8129062937272), 'episode_len_mean': np.float64(1000.0), 'episode_media': {}, 'episodes_timesteps_total': 81000, 'policy_reward_min': {'default_policy': np.float64(189.89901414399938)}, 'policy_reward_max': {'default_policy': np.float64(217.98099353599866)}, 'policy_reward_mean': {'default_policy': np.float64(212.8129062937272)}, 'custom_metrics': {}, 'hist_stats': {'episode_reward': [np.float64(189.89901414399938), np.float64(191.23843891199942), np.float64(196.60426444799953), np.float64(196.76567961599915), np.float64(201.7231503359992), np.float64(200.26530201599917), np.float64(203.61222553599939), np.float64(203.04959897599917), np.float64(206.31257087999902), np.float64(205.29584537599905), np.float64(208.70692863999886), np.float64(209.99772569599872), np.float64(212.37078425599873), np.float64(209.6978329599988), np.float64(211.28983347199872), np.float64(211.42988390399879), np.float64(212.0124334079986), np.float64(212.49779302399907), np.float64(212.6721187839986), np.float64(213.17038899199858), np.float64(214.4611860479988), np.float64(213.40101017599883), np.float64(213.0362367999987), np.float64(212.23027507199873), np.float64(212.88629043199882), np.float64(213.48240588799865), np.float64(213.51877836799886), np.float64(213.211807743999), np.float64(214.00997068799896), np.float64(213.63752959999894), np.float64(214.62686105599875), np.float64(213.386067967999), np.float64(213.2819967999989), np.float64(214.68538470399886), np.float64(214.4912015359989), np.float64(213.7545113599987), np.float64(214.52403507199887), np.float64(214.40410419199878), np.float64(214.32126668799904), np.float64(214.3286067199987), np.float64(212.64505241599883), np.float64(213.70725990399845), np.float64(214.05571481599875), np.float64(213.5416504319989), np.float64(213.97281177599876), np.float64(215.4364272639986), np.float64(214.84103270399908), np.float64(214.50555391999896), np.float64(214.86665727999878), np.float64(213.92719871999893), np.float64(214.81966796799878), np.float64(215.47070259199882), np.float64(215.39074867199878), np.float64(216.36605542399903), np.float64(216.5345484799986), np.float64(216.38027673599893), np.float64(216.27771289599906), np.float64(215.98620876799876), np.float64(217.50127001599836), np.float64(215.35935692799873), np.float64(215.7334364159987), np.float64(216.51875430399892), np.float64(216.0207462399987), np.float64(216.1364172799989), np.float64(216.31323340799875), np.float64(216.76149964799876), np.float64(216.87291084799858), np.float64(216.08189132799853), np.float64(216.4990935039988), np.float64(216.88293785599856), np.float64(217.32438835199864), np.float64(217.52859852799858), np.float64(216.88293785599862), np.float64(216.98425651199813), np.float64(216.12186828799898), np.float64(217.30990489599887), np.float64(217.08282265599863), np.float64(216.6061793279989), np.float64(217.0631618559984), np.float64(217.98099353599866), np.float64(217.26212915199883)], 'episode_lengths': [1000, 1000, 1000, 1000, 1000, 1000, 1000, 1000, 1000, 1000, 1000, 1000, 1000, 1000, 1000, 1000, 1000, 1000, 1000, 1000, 1000, 1000, 1000, 1000, 1000, 1000, 1000, 1000, 1000, 1000, 1000, 1000, 1000, 1000, 1000, 1000, 1000, 1000, 1000, 1000, 1000, 1000, 1000, 1000, 1000, 1000, 1000, 1000, 1000, 1000, 1000, 1000, 1000, 1000, 1000, 1000, 1000, 1000, 1000, 1000, 1000, 1000, 1000, 1000, 1000, 1000, 1000, 1000, 1000, 1000, 1000, 1000, 1000, 1000, 1000, 1000, 1000, 1000, 1000, 1000, 1000], 'policy_default_policy_reward': [np.float64(189.89901414399938), np.float64(191.23843891199942), np.float64(196.60426444799953), np.float64(196.76567961599915), np.float64(201.7231503359992), np.float64(200.26530201599917), np.float64(203.61222553599939), np.float64(203.04959897599917), np.float64(206.31257087999902), np.float64(205.29584537599905), np.float64(208.70692863999886), np.float64(209.99772569599872), np.float64(212.37078425599873), np.float64(209.6978329599988), np.float64(211.28983347199872), np.float64(211.42988390399879), np.float64(212.0124334079986), np.float64(212.49779302399907), np.float64(212.6721187839986), np.float64(213.17038899199858), np.float64(214.4611860479988), np.float64(213.40101017599883), np.float64(213.0362367999987), np.float64(212.23027507199873), np.float64(212.88629043199882), np.float64(213.48240588799865), np.float64(213.51877836799886), np.float64(213.211807743999), np.float64(214.00997068799896), np.float64(213.63752959999894), np.float64(214.62686105599875), np.float64(213.386067967999), np.float64(213.2819967999989), np.float64(214.68538470399886), np.float64(214.4912015359989), np.float64(213.7545113599987), np.float64(214.52403507199887), np.float64(214.40410419199878), np.float64(214.32126668799904), np.float64(214.3286067199987), np.float64(212.64505241599883), np.float64(213.70725990399845), np.float64(214.05571481599875), np.float64(213.5416504319989), np.float64(213.97281177599876), np.float64(215.4364272639986), np.float64(214.84103270399908), np.float64(214.50555391999896), np.float64(214.86665727999878), np.float64(213.92719871999893), np.float64(214.81966796799878), np.float64(215.47070259199882), np.float64(215.39074867199878), np.float64(216.36605542399903), np.float64(216.5345484799986), np.float64(216.38027673599893), np.float64(216.27771289599906), np.float64(215.98620876799876), np.float64(217.50127001599836), np.float64(215.35935692799873), np.float64(215.7334364159987), np.float64(216.51875430399892), np.float64(216.0207462399987), np.float64(216.1364172799989), np.float64(216.31323340799875), np.float64(216.76149964799876), np.float64(216.87291084799858), np.float64(216.08189132799853), np.float64(216.4990935039988), np.float64(216.88293785599856), np.float64(217.32438835199864), np.float64(217.52859852799858), np.float64(216.88293785599862), np.float64(216.98425651199813), np.float64(216.12186828799898), np.float64(217.30990489599887), np.float64(217.08282265599863), np.float64(216.6061793279989), np.float64(217.0631618559984), np.float64(217.98099353599866), np.float64(217.26212915199883)]}, 'sampler_perf': {'mean_raw_obs_processing_ms': np.float64(0.20699208568987948), 'mean_inference_ms': np.float64(0.7067151973819041), 'mean_action_processing_ms': np.float64(0.13130820465694604), 'mean_env_wait_ms': np.float64(0.7298438805713751), 'mean_env_render_ms': np.float64(0.0)}, 'num_faulty_episodes': 0, 'connector_metrics': {'ObsPreprocessorConnector_ms': np.float64(0.005540141352900752), 'StateBufferConnector_ms': np.float64(0.0036254341219678337), 'ViewRequirementAgentConnector_ms': np.float64(0.08647382995228708)}, 'num_episodes': 2, 'episode_return_max': np.float64(217.98099353599866), 'episode_return_min': np.float64(189.89901414399938), 'episode_return_mean': np.float64(212.8129062937272), 'episodes_this_iter': 2}, 'num_healthy_workers': 1, 'num_in_flight_async_sample_reqs': 0, 'num_remote_worker_restarts': 0, 'num_agent_steps_sampled': 81920, 'num_agent_steps_trained': 81920, 'num_env_steps_sampled': 81920, 'num_env_steps_trained': 81920, 'num_env_steps_sampled_this_iter': 2048, 'num_env_steps_trained_this_iter': 2048, 'num_env_steps_sampled_throughput_per_sec': 434.84330193460676, 'num_env_steps_trained_throughput_per_sec': 434.84330193460676, 'num_env_steps_sampled_lifetime': 81920, 'num_agent_steps_sampled_lifetime': 81920, 'num_steps_trained_this_iter': 2048, 'agent_timesteps_total': 81920, 'timers': {'training_iteration_time_ms': 4618.184, 'restore_workers_time_ms': 0.017, 'training_step_time_ms': 4618.133, 'sample_time_ms': 3635.958, 'load_time_ms': 0.294, 'load_throughput': 6965000.075, 'learn_time_ms': 978.663, 'learn_throughput': 2092.651, 'synch_weights_time_ms': 2.916}, 'counters': {'num_env_steps_sampled': 81920, 'num_env_steps_trained': 81920, 'num_agent_steps_sampled': 81920, 'num_agent_steps_trained': 81920}, 'perf': {'cpu_util_percent': np.float64(6.8), 'ram_util_percent': np.float64(23.016666666666666)}},\n",
      "    path='/home/lasse/ray_minicourse/lesson_1/ray_results/nb_3/ray_ppo/PPO_comm_env_b2841_00000_0_2024-11-25_01-43-40',\n",
      "    filesystem='local',\n",
      "    checkpoint=Checkpoint(filesystem=local, path=/home/lasse/ray_minicourse/lesson_1/ray_results/nb_3/ray_ppo/PPO_comm_env_b2841_00000_0_2024-11-25_01-43-40/checkpoint_000000)\n",
      "  )\n",
      "]>\n"
     ]
    }
   ],
   "source": [
    "config = (\n",
    "    PPOConfig()\n",
    "    .environment(\"comm_env\")\n",
    "    .env_runners(num_env_runners=1)\n",
    "    .learners(num_learners=1)\n",
    "    .training(\n",
    "        lr=0.0003,\n",
    "        train_batch_size=2048,\n",
    "        sgd_minibatch_size=64,\n",
    "        num_sgd_iter=10,\n",
    "        gamma=0.99,\n",
    "        lambda_=0.95,\n",
    "        model={\n",
    "            \"fcnet_hiddens\": [64, 64],\n",
    "            \"fcnet_activation\": \"relu\",\n",
    "        },\n",
    "        clip_param=0.2,\n",
    "        entropy_coeff=0.01,\n",
    "        vf_loss_coeff=0.5,\n",
    "        grad_clip=0.5,\n",
    "        vf_clip_param=np.inf,\n",
    "        use_gae=True,\n",
    "        kl_coeff=0,\n",
    "        use_kl_loss=False,\n",
    "        kl_target=0,\n",
    "    )\n",
    ")\n",
    "stop = {\n",
    "    \"timesteps_total\": 1000 * training_episodes * training_epochs,\n",
    "}\n",
    "checkpoint_frequency = 0\n",
    "store_results_path = str(Path(\"./ray_results/\").resolve()) + \"/nb_3/\"\n",
    "agent_name = \"ray_ppo\"\n",
    "\n",
    "tuner = tune.Tuner(\n",
    "    \"PPO\",\n",
    "    param_space=config.to_dict(),\n",
    "    run_config=air.RunConfig(\n",
    "        storage_path=store_results_path,\n",
    "        name=agent_name,\n",
    "        stop=stop,\n",
    "        verbose=2,\n",
    "        checkpoint_config=air.CheckpointConfig(\n",
    "            checkpoint_frequency=checkpoint_frequency,\n",
    "            checkpoint_at_end=True,\n",
    "        ),\n",
    "    ),\n",
    ")\n",
    "results = tuner.fit()\n",
    "print(results)"
   ]
  },
  {
   "cell_type": "markdown",
   "metadata": {},
   "source": [
    "## Selecting the best checkpoint from training"
   ]
  },
  {
   "cell_type": "code",
   "execution_count": 10,
   "metadata": {},
   "outputs": [
    {
     "name": "stderr",
     "output_type": "stream",
     "text": [
      "2024-11-25 01:46:56,352\tWARNING deprecation.py:50 -- DeprecationWarning: `_enable_new_api_stack` has been deprecated. Use `AlgorithmConfig._enable_new_api_stack` instead. This will raise an error in the future!\n",
      "/home/lasse/.local/share/virtualenvs/ray_minicourse-PTDOXG61/lib/python3.10/site-packages/ray/rllib/algorithms/algorithm.py:557: RayDeprecationWarning: This API is deprecated and may be removed in future Ray releases. You could suppress this warning by setting env variable PYTHONWARNINGS=\"ignore::DeprecationWarning\"\n",
      "`UnifiedLogger` will be removed in Ray 2.7.\n",
      "  return UnifiedLogger(config, logdir, loggers=None)\n",
      "/home/lasse/.local/share/virtualenvs/ray_minicourse-PTDOXG61/lib/python3.10/site-packages/ray/tune/logger/unified.py:53: RayDeprecationWarning: This API is deprecated and may be removed in future Ray releases. You could suppress this warning by setting env variable PYTHONWARNINGS=\"ignore::DeprecationWarning\"\n",
      "The `JsonLogger interface is deprecated in favor of the `ray.tune.json.JsonLoggerCallback` interface and will be removed in Ray 2.7.\n",
      "  self._loggers.append(cls(self.config, self.logdir, self.trial))\n",
      "/home/lasse/.local/share/virtualenvs/ray_minicourse-PTDOXG61/lib/python3.10/site-packages/ray/tune/logger/unified.py:53: RayDeprecationWarning: This API is deprecated and may be removed in future Ray releases. You could suppress this warning by setting env variable PYTHONWARNINGS=\"ignore::DeprecationWarning\"\n",
      "The `CSVLogger interface is deprecated in favor of the `ray.tune.csv.CSVLoggerCallback` interface and will be removed in Ray 2.7.\n",
      "  self._loggers.append(cls(self.config, self.logdir, self.trial))\n",
      "/home/lasse/.local/share/virtualenvs/ray_minicourse-PTDOXG61/lib/python3.10/site-packages/ray/tune/logger/unified.py:53: RayDeprecationWarning: This API is deprecated and may be removed in future Ray releases. You could suppress this warning by setting env variable PYTHONWARNINGS=\"ignore::DeprecationWarning\"\n",
      "The `TBXLogger interface is deprecated in favor of the `ray.tune.tensorboardx.TBXLoggerCallback` interface and will be removed in Ray 2.7.\n",
      "  self._loggers.append(cls(self.config, self.logdir, self.trial))\n",
      "2024-11-25 01:47:01,434\tWARNING util.py:61 -- Install gputil for GPU system monitoring.\n"
     ]
    }
   ],
   "source": [
    "analysis = tune.ExperimentAnalysis(store_results_path + agent_name)\n",
    "assert analysis.trials is not None, \"Analysis trial is None\"\n",
    "checkpoint = analysis.get_best_checkpoint(\n",
    "    trial=analysis.trials[0],\n",
    "    metric=\"env_runners/episode_reward_mean\",\n",
    "    mode=\"max\",\n",
    ")\n",
    "tuner_agent = Algorithm.from_checkpoint(checkpoint)"
   ]
  },
  {
   "cell_type": "markdown",
   "metadata": {},
   "source": [
    "## Testing the RL agent"
   ]
  },
  {
   "cell_type": "code",
   "execution_count": 11,
   "metadata": {},
   "outputs": [
    {
     "name": "stderr",
     "output_type": "stream",
     "text": [
      "100%|██████████| 20000/20000 [00:28<00:00, 694.11it/s]\n"
     ]
    }
   ],
   "source": [
    "comm_env = env_creator({}, training=False)\n",
    "obs, _ = comm_env.reset(\n",
    "    seed=seed, options={\"initial_episode\": training_episodes}\n",
    ")  # Initial observation\n",
    "for episode in tqdm(range(testing_episodes * 1000)):\n",
    "    action = tuner_agent.compute_single_action(  # Here we compute the action using the trained agent\n",
    "        obs,\n",
    "        explore=False,\n",
    "    )\n",
    "    assert isinstance(action, np.ndarray), \"Action must be a numpy array\"\n",
    "    obs, reward, terminated, truncated, info = comm_env.step(\n",
    "        action\n",
    "    )  # Applying the action in the environment\n",
    "    if terminated:\n",
    "        comm_env.reset()"
   ]
  },
  {
   "cell_type": "code",
   "execution_count": 12,
   "metadata": {},
   "outputs": [
    {
     "data": {
      "image/png": "[encoded data removed]",
      "text/plain": [
       "<Figure size 640x480 with 1 Axes>"
      ]
     },
     "metadata": {},
     "output_type": "display_data"
    },
    {
     "data": {
      "image/png": "[encoded data removed]",
      "text/plain": [
       "<Figure size 640x480 with 1 Axes>"
      ]
     },
     "metadata": {},
     "output_type": "display_data"
    },
    {
     "data": {
      "image/png": "[encoded data removed]",
      "text/plain": [
       "<Figure size 640x480 with 1 Axes>"
      ]
     },
     "metadata": {},
     "output_type": "display_data"
    },
    {
     "name": "stdout",
     "output_type": "stream",
     "text": [
      "Total throughput achieved: 221249.53600000008\n"
     ]
    }
   ],
   "source": [
    "hist_ep_80 = np.load(\"hist/rrs_simple/ray_ppo/ep_80.npz\")\n",
    "pkt_size = 65536  # Default packet size in bits\n",
    "effective_throughput = hist_ep_80[\"pkt_effective_thr\"] * pkt_size / 1e6\n",
    "pkt_incoming = hist_ep_80[\"pkt_incoming\"] * pkt_size / 1e6\n",
    "total_throughput = np.sum(effective_throughput, axis=1)\n",
    "rbs_per_ue = np.squeeze(hist_ep_80[\"sched_decision\"]).sum(axis=2)\n",
    "\n",
    "# Total achieved throughput\n",
    "plt.figure()\n",
    "plt.plot(total_throughput, label=\"Total throughput\")\n",
    "plt.xlabel(\"TTI\")\n",
    "plt.ylabel(\"Throughput [Mbps]\")\n",
    "plt.show()\n",
    "\n",
    "# Achieved throughput per UE\n",
    "plt.figure()\n",
    "for ue_idx in np.arange(number_ues):\n",
    "    plt.plot(effective_throughput[:, ue_idx], label=f\"UE {ue_idx}\")\n",
    "plt.xlabel(\"TTI\")\n",
    "plt.ylabel(\"Throughput [Mbps]\")\n",
    "plt.legend()\n",
    "plt.show()\n",
    "\n",
    "# RBs per UE\n",
    "plt.figure()\n",
    "for ue_idx in np.arange(number_ues):\n",
    "    plt.plot(rbs_per_ue[:, ue_idx], label=f\"UE {ue_idx}\")\n",
    "plt.xlabel(\"TTI\")\n",
    "plt.ylabel(\"Allocated RBs\")\n",
    "plt.legend()\n",
    "plt.show()\n",
    "print(f\"Total throughput achieved: {np.sum(total_throughput)}\")"
   ]
  }
 ],
 "metadata": {
  "kernelspec": {
   "display_name": "ray_minicourse-PTDOXG61",
   "language": "python",
   "name": "python3"
  },
  "language_info": {
   "codemirror_mode": {
    "name": "ipython",
    "version": 3
   },
   "file_extension": ".py",
   "mimetype": "text/x-python",
   "name": "python",
   "nbconvert_exporter": "python",
   "pygments_lexer": "ipython3",
   "version": "3.10.12"
  }
 },
 "nbformat": 4,
 "nbformat_minor": 2
}
