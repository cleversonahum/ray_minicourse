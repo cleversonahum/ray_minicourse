{
 "cells": [
  {
   "cell_type": "markdown",
   "metadata": {},
   "source": [
    "# Learning to create a basic RL environment using Gymnasium"
   ]
  },
  {
   "cell_type": "code",
   "execution_count": 49,
   "metadata": {},
   "outputs": [],
   "source": [
    "import gymnasium as gym\n",
    "import numpy as np\n",
    "import os\n",
    "import matplotlib.pyplot as plt\n",
    "\n",
    "os.environ[\"SDL_VIDEODRIVER\"] = \"dummy\"\n",
    "from IPython.display import clear_output"
   ]
  },
  {
   "cell_type": "markdown",
   "metadata": {},
   "source": [
    "## Understanding the Cartpole environment implementation"
   ]
  },
  {
   "cell_type": "markdown",
   "metadata": {},
   "source": [
    "The library Gymnasium have some classic environments implemented (Cartopole example included). You can check the Cartpole implementation [here](https://github.com/Farama-Foundation/Gymnasium/blob/main/gymnasium/envs/classic_control/cartpole.py). You can create a cartpole environment using the following:"
   ]
  },
  {
   "cell_type": "code",
   "execution_count": 50,
   "metadata": {},
   "outputs": [],
   "source": [
    "env = gym.make(\"CartPole-v1\", render_mode=\"rgb_array\")"
   ]
  },
  {
   "cell_type": "markdown",
   "metadata": {},
   "source": [
    "The agent actions are \"left\" or \"right\", and the environment considers a discrete variable 0 and 1 representing them. Try re-running the code below to verify the `action_space.sample()` function generating different possible actions to be applied in the environment. The action space is a placeholder that indicates the format an action should follow."
   ]
  },
  {
   "cell_type": "code",
   "execution_count": 51,
   "metadata": {},
   "outputs": [
    {
     "name": "stdout",
     "output_type": "stream",
     "text": [
      "Action space: Discrete(2)\n",
      "1st sample of action space: 0\n",
      "2nd sample of action space: 1\n",
      "3rd sample of action space: 0\n"
     ]
    }
   ],
   "source": [
    "print(f\"Action space: {env.action_space}\")\n",
    "print(f\"1st sample of action space: {env.action_space.sample()}\")\n",
    "print(f\"2nd sample of action space: {env.action_space.sample()}\")\n",
    "print(f\"3rd sample of action space: {env.action_space.sample()}\")"
   ]
  },
  {
   "cell_type": "markdown",
   "metadata": {},
   "source": [
    "The action space using Gym can also verify if a given variable obbeys to the pre-defined action space format to avoid incompatibility problems."
   ]
  },
  {
   "cell_type": "code",
   "execution_count": 52,
   "metadata": {},
   "outputs": [
    {
     "name": "stdout",
     "output_type": "stream",
     "text": [
      "Action 1 is valid: True\n",
      "Action 2 is valid: False\n",
      "Action 3 is valid: False\n",
      "Action 4 is valid: False\n"
     ]
    }
   ],
   "source": [
    "action1 = 0\n",
    "action2 = 3\n",
    "action3 = \"left\"\n",
    "action4 = [0]\n",
    "env.action_space.contains(0)\n",
    "print(f\"Action 1 is valid: {env.action_space.contains(action1)}\")\n",
    "print(f\"Action 2 is valid: {env.action_space.contains(action2)}\")\n",
    "print(f\"Action 3 is valid: {env.action_space.contains(action3)}\")\n",
    "print(f\"Action 4 is valid: {env.action_space.contains(action4)}\")"
   ]
  },
  {
   "cell_type": "markdown",
   "metadata": {},
   "source": [
    "In the same way, the observartion space to the cartpole is defined as 4 variables representing:\n",
    "\n",
    "![Cartpole observation](imgs/cartpole_obs.png)"
   ]
  },
  {
   "cell_type": "markdown",
   "metadata": {},
   "source": [
    "The Gymnasium environment already implement an observation space placeholder with that information as we can check using:"
   ]
  },
  {
   "cell_type": "code",
   "execution_count": 53,
   "metadata": {},
   "outputs": [
    {
     "name": "stdout",
     "output_type": "stream",
     "text": [
      "Observation space type and format:  Box([-4.8               -inf -0.41887903        -inf], [4.8               inf 0.41887903        inf], (4,), float32)\n",
      "1st sample of observation space:  [ 0.84353894 -0.20312628  0.11037614 -2.6118357 ]\n",
      "2nd sample of observation space:  [-1.6640863  -0.6643685  -0.20529163 -1.3677762 ]\n",
      "3rd sample of observation space:  [ 1.9321669   0.1934707   0.17599496 -0.93365425]\n"
     ]
    }
   ],
   "source": [
    "print(\"Observation space type and format: \", env.observation_space)\n",
    "print(\"1st sample of observation space: \", env.observation_space.sample())\n",
    "print(\"2nd sample of observation space: \", env.observation_space.sample())\n",
    "print(\"3rd sample of observation space: \", env.observation_space.sample())"
   ]
  },
  {
   "cell_type": "markdown",
   "metadata": {},
   "source": [
    "The different Spaces, like Box and Discrete, available in Gymnasium could be checked [here](https://gymnasium.farama.org/api/spaces/)."
   ]
  },
  {
   "cell_type": "markdown",
   "metadata": {},
   "source": [
    "**The reward function does not need a placeholder specification like the action and observation space since it is always a unique real number.**"
   ]
  },
  {
   "cell_type": "markdown",
   "metadata": {},
   "source": [
    "## Modeling the dumbest agent possible for controlling the cartpole problem (**Without RL**)"
   ]
  },
  {
   "cell_type": "code",
   "execution_count": 54,
   "metadata": {},
   "outputs": [],
   "source": [
    "def dumb_action_policy(observation: np.ndarray) -> int:\n",
    "    pole_angle = observation[2]\n",
    "    return 0 if pole_angle < 0 else 1"
   ]
  },
  {
   "cell_type": "markdown",
   "metadata": {},
   "source": [
    "### Integrating the agent and the environment"
   ]
  },
  {
   "cell_type": "code",
   "execution_count": null,
   "metadata": {},
   "outputs": [
    {
     "data": {
      "image/png": "[encoded data removed]",
      "text/plain": [
       "<Figure size 640x480 with 1 Axes>"
      ]
     },
     "metadata": {},
     "output_type": "display_data"
    },
    {
     "name": "stdout",
     "output_type": "stream",
     "text": [
      "Performance report:\n",
      "Episode 1: reward=62.0, steps=62\n",
      "Episode 2: reward=49.0, steps=49\n",
      "Episode 3: reward=40.0, steps=40\n",
      "Episode 4: reward=32.0, steps=32\n",
      "Episode 5: reward=55.0, steps=55\n",
      "Episode 6: reward=56.0, steps=56\n",
      "Episode 7: reward=35.0, steps=35\n",
      "Episode 8: reward=55.0, steps=55\n",
      "Episode 9: reward=37.0, steps=37\n",
      "Episode 10: reward=56.0, steps=56\n"
     ]
    }
   ],
   "source": [
    "number_of_episodes = 10\n",
    "\n",
    "terminated = False\n",
    "total_reward = 0\n",
    "report_performance = []\n",
    "for episode in range(number_of_episodes):\n",
    "    obs, _ = env.reset()  # Initial observation\n",
    "    terminated = False\n",
    "    total_reward = 0\n",
    "    number_steps_not_falling = 0\n",
    "    while not terminated:\n",
    "        action = dumb_action_policy(obs)\n",
    "        obs, reward, terminated, truncated, info = env.step(action)\n",
    "        total_reward += float(reward)\n",
    "        number_steps_not_falling += 1\n",
    "        clear_output(wait=True)\n",
    "        plt.imshow(env.render())\n",
    "        plt.title(f\"Episode {episode + 1}, step={number_steps_not_falling}\")\n",
    "        plt.show()\n",
    "    report_performance.append((total_reward, number_steps_not_falling))\n",
    "print(\"Performance report:\")\n",
    "for episode, (total_reward, number_steps_not_falling) in enumerate(report_performance):\n",
    "    print(\n",
    "        f\"Episode {episode + 1}: reward={total_reward}, steps={number_steps_not_falling}\"\n",
    "    )"
   ]
  },
  {
   "cell_type": "markdown",
   "metadata": {},
   "source": [
    "## What is needed to implement an environment using the Gymnasium API?"
   ]
  }
 ],
 "metadata": {
  "kernelspec": {
   "display_name": "ray_minicourse-cvA_mRW8",
   "language": "python",
   "name": "python3"
  },
  "language_info": {
   "codemirror_mode": {
    "name": "ipython",
    "version": 3
   },
   "file_extension": ".py",
   "mimetype": "text/x-python",
   "name": "python",
   "nbconvert_exporter": "python",
   "pygments_lexer": "ipython3",
   "version": "3.10.14"
  }
 },
 "nbformat": 4,
 "nbformat_minor": 2
}
