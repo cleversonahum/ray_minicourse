{
 "cells": [
  {
   "cell_type": "markdown",
   "metadata": {},
   "source": [
    "# Exploring multi-agent RL environment and understanding the differences from single-agent RL"
   ]
  },
  {
   "cell_type": "code",
   "execution_count": 2,
   "metadata": {},
   "outputs": [],
   "source": [
    "from pettingzoo.classic import rps_v2\n",
    "import os\n",
    "import matplotlib.pyplot as plt\n",
    "import gymnasium.spaces as spaces\n",
    "from ray.rllib.env.multi_agent_env import MultiAgentEnv\n",
    "import numpy as np\n",
    "\n",
    "os.environ[\"SDL_VIDEODRIVER\"] = \"dummy\"\n",
    "from IPython.display import clear_output"
   ]
  },
  {
   "cell_type": "markdown",
   "metadata": {},
   "source": [
    "## Rock, paper, scissor game from PettingZoo library"
   ]
  },
  {
   "cell_type": "markdown",
   "metadata": {},
   "source": [
    "Unlike single-agent environments which have a well-defined standard library ([Gymnasium](https://gymnasium.farama.org/index.html)), the multi-agent environments have different APIs which usually depends on the library being analyzed. Here, in this notebook, we are going to analyze the [PettingZoo](https://pettingzoo.farama.org/index.html) library environment for rock, paper and scissor environment."
   ]
  },
  {
   "cell_type": "markdown",
   "metadata": {},
   "source": [
    "In a rock, paper, scissor game, there are two people competing against each other. Therefore, instead of a single action in each round, there two actions and two observations (one for each agent). So, let's try to understand how the PettingZoo environment implement it."
   ]
  },
  {
   "cell_type": "code",
   "execution_count": 3,
   "metadata": {},
   "outputs": [],
   "source": [
    "env = rps_v2.parallel_env(render_mode=\"rgb_array\")"
   ]
  },
  {
   "cell_type": "markdown",
   "metadata": {},
   "source": [
    "Let's observe the action space definition to the rock, paper, and scissor environment."
   ]
  },
  {
   "cell_type": "code",
   "execution_count": 4,
   "metadata": {},
   "outputs": [
    {
     "name": "stderr",
     "output_type": "stream",
     "text": [
      "/home/lasse/.local/share/virtualenvs/ray_minicourse-PTDOXG61/lib/python3.10/site-packages/pettingzoo/utils/conversions.py:158: UserWarning: The `action_spaces` dictionary is deprecated. Use the `action_space` function instead.\n",
      "  warnings.warn(\n"
     ]
    },
    {
     "data": {
      "text/plain": [
       "{'player_0': Discrete(3), 'player_1': Discrete(3)}"
      ]
     },
     "execution_count": 4,
     "metadata": {},
     "output_type": "execute_result"
    }
   ],
   "source": [
    "env.action_spaces"
   ]
  },
  {
   "cell_type": "markdown",
   "metadata": {},
   "source": [
    "In the action space above, there are two Discrete spaces utilizing Gymnasium spaces. Those are the same spaces we utilized before in [lesson 1 nb 1](../lesson_1/1-gymnasium_environment.ipynb) for a single agent. Here they are combined in a Python dictionary, but we could also use a composite provided by [Gymnasium](https://gymnasium.farama.org/api/spaces/composite/). Therefore, in an environment with 2 agents, there are two keys representing each of them with their respective spaces."
   ]
  },
  {
   "cell_type": "markdown",
   "metadata": {},
   "source": [
    "In case the composite space from Gymnasium were utilized, we could use action_spaces.sample() to provide samples of the action space considering the defined structure and characteristics. Let's provide a quick example:"
   ]
  },
  {
   "cell_type": "code",
   "execution_count": 5,
   "metadata": {},
   "outputs": [
    {
     "name": "stdout",
     "output_type": "stream",
     "text": [
      "OrderedDict([('player_0', np.int64(1)), ('player_1', np.int64(1))])\n"
     ]
    }
   ],
   "source": [
    "example_action_space = spaces.Dict(\n",
    "    {\"player_0\": spaces.Discrete(3), \"player_1\": spaces.Discrete(3)}\n",
    ")\n",
    "print(example_action_space.sample())"
   ]
  },
  {
   "cell_type": "markdown",
   "metadata": {},
   "source": [
    "When generating samples the dictionary contains both the player_0 and player_1 samples."
   ]
  },
  {
   "cell_type": "markdown",
   "metadata": {},
   "source": [
    "A similar behavior could be visualized in the observation space."
   ]
  },
  {
   "cell_type": "code",
   "execution_count": 6,
   "metadata": {},
   "outputs": [
    {
     "name": "stderr",
     "output_type": "stream",
     "text": [
      "/home/lasse/.local/share/virtualenvs/ray_minicourse-PTDOXG61/lib/python3.10/site-packages/pettingzoo/utils/conversions.py:144: UserWarning: The `observation_spaces` dictionary is deprecated. Use the `observation_space` function instead.\n",
      "  warnings.warn(\n"
     ]
    },
    {
     "data": {
      "text/plain": [
       "{'player_0': Discrete(4), 'player_1': Discrete(4)}"
      ]
     },
     "execution_count": 6,
     "metadata": {},
     "output_type": "execute_result"
    }
   ],
   "source": [
    "env.observation_spaces"
   ]
  },
  {
   "cell_type": "markdown",
   "metadata": {},
   "source": [
    "The observation is the last opponent action and its space is a scalar value with 4 possible values. Since both players reveal their choices at the same time, the observation is None until both players have acted. Therefore, 3 represents no action taken yet. Rock is represented with 0, paper with 1 and scissors with 2."
   ]
  },
  {
   "cell_type": "markdown",
   "metadata": {},
   "source": [
    "**Each agent receives a reward 0 when the rounds ends in a draw, +1 if the agent win and -1 if the agent loses. An episode is finished when one of the agents win.**"
   ]
  },
  {
   "cell_type": "markdown",
   "metadata": {},
   "source": [
    "### Running the environment with random agents"
   ]
  },
  {
   "cell_type": "code",
   "execution_count": 7,
   "metadata": {},
   "outputs": [
    {
     "data": {
      "image/png": "[encoded data removed]",
      "text/plain": [
       "<Figure size 640x480 with 1 Axes>"
      ]
     },
     "metadata": {},
     "output_type": "display_data"
    }
   ],
   "source": [
    "observations, infos = env.reset()\n",
    "\n",
    "while env.agents:\n",
    "    # this is where you would insert your policy\n",
    "    actions = example_action_space.sample()\n",
    "\n",
    "    observations, rewards, terminations, truncations, infos = env.step(actions)\n",
    "    # Code to show the animation\n",
    "    clear_output(wait=True)\n",
    "    plt.imshow(env.render())\n",
    "    plt.show()\n",
    "    # End - Code to show the animation\n",
    "env.close()"
   ]
  },
  {
   "cell_type": "markdown",
   "metadata": {},
   "source": [
    "As mentioned before, the reward values are:"
   ]
  },
  {
   "cell_type": "code",
   "execution_count": 8,
   "metadata": {},
   "outputs": [
    {
     "name": "stdout",
     "output_type": "stream",
     "text": [
      "defaultdict(<class 'int'>, {'player_0': 0, 'player_1': 0})\n"
     ]
    }
   ],
   "source": [
    "print(rewards)"
   ]
  },
  {
   "cell_type": "markdown",
   "metadata": {},
   "source": [
    "where there is one reward value for each agent."
   ]
  },
  {
   "cell_type": "markdown",
   "metadata": {},
   "source": [
    "## Creating a custom environment using the Ray RLlib API"
   ]
  },
  {
   "cell_type": "markdown",
   "metadata": {},
   "source": [
    "Let's create a 2D scenario with two robots(agents) where each robot is located in the top and bottom corners position of the environment. The agents can move in the 4 directions (up, down, right, left) and they need to find each other by moving to the same box. The observation space is represented as the number of boxes of distance between the two robots. The reward is -1 for every step the robots did not find each other, so they are incentivized to find each other in less steps, so it can maximize the cumulative reward (return)."
   ]
  },
  {
   "cell_type": "code",
   "execution_count": 17,
   "metadata": {},
   "outputs": [],
   "source": [
    "class RobotsMeeting(\n",
    "    MultiAgentEnv\n",
    "):  # We have to inherit from MultiAgentEnv from Ray RLlib similarly to Gymnasium API\n",
    "    def __init__(\n",
    "        self,\n",
    "        scenario_size: int = 10,\n",
    "        render: bool = False,\n",
    "    ):\n",
    "        self.scenario_size = scenario_size  # scenario_size x scenario_size grid\n",
    "        self.scenario = np.zeros((self.scenario_size, self.scenario_size))\n",
    "        self.action_space = spaces.Dict(\n",
    "            {\n",
    "                \"robot_1\": spaces.Discrete(4),  # 0: up, 1: down, 2: left, 3: right\n",
    "                \"robot_2\": spaces.Discrete(4),\n",
    "            }\n",
    "        )\n",
    "        self.observation_space = spaces.Dict(\n",
    "            {\n",
    "                \"robot_1\": spaces.Discrete(\n",
    "                    self.scenario_size * 2 - 2\n",
    "                ),  # The maximum distance between two points in a grid is 2 * scenario_size - 2\n",
    "                \"robot_2\": spaces.Discrete(self.scenario_size * 2 - 2),\n",
    "            }\n",
    "        )\n",
    "        self.robots = {\n",
    "            \"robot_1\": {\n",
    "                \"number\": 1,\n",
    "                \"pos\": [0, 0],\n",
    "            },\n",
    "            \"robot_2\": {\n",
    "                \"number\": 2,\n",
    "                \"pos\": [self.scenario_size - 1, self.scenario_size - 1],\n",
    "            },\n",
    "        }\n",
    "        self.scenario[0, 0] = self.robots[\"robot_1\"][\"number\"]\n",
    "        self.scenario[self.scenario_size - 1, self.scenario_size - 1] = self.robots[\n",
    "            \"robot_2\"\n",
    "        ][\"number\"]\n",
    "        if render:\n",
    "            plt.figure()\n",
    "            plt.show()\n",
    "            self.render()\n",
    "\n",
    "    def reset(self):\n",
    "        # Reseting scenario and returning robots to initial positions\n",
    "        self.scenario = np.zeros((self.scenario_size, self.scenario_size))\n",
    "        self.scenario[0, 0] = self.robots[\"robot_1\"][\"number\"]\n",
    "        self.scenario[self.scenario_size - 1, self.scenario_size - 1] = self.robots[\n",
    "            \"robot_2\"\n",
    "        ][\"number\"]\n",
    "        obs = {\n",
    "            \"robot_1\": self.scenario_size * 2 - 2,\n",
    "            \"robot_2\": self.scenario_size * 2 - 2,\n",
    "        }\n",
    "        info = {}\n",
    "        return (obs, info)\n",
    "\n",
    "    def step(self, action_dict):\n",
    "        for agent, action in action_dict.items():\n",
    "            if action == 0:  # Up\n",
    "                if self.robots[agent][\"pos\"][0] == 0:\n",
    "                    continue\n",
    "                self.scenario[\n",
    "                    self.robots[agent][\"pos\"][0], self.robots[agent][\"pos\"][1]\n",
    "                ] = 0\n",
    "                self.scenario[\n",
    "                    self.robots[agent][\"pos\"][0] - 1, self.robots[agent][\"pos\"][1]\n",
    "                ] = self.robots[agent][\"number\"]\n",
    "                self.robots[agent][\"pos\"][0] -= 1\n",
    "            elif action == 1:  # Down\n",
    "                if self.robots[agent][\"pos\"][0] == self.scenario_size - 1:\n",
    "                    continue\n",
    "                self.scenario[\n",
    "                    self.robots[agent][\"pos\"][0], self.robots[agent][\"pos\"][1]\n",
    "                ] = 0\n",
    "                self.scenario[\n",
    "                    self.robots[agent][\"pos\"][0] + 1, self.robots[agent][\"pos\"][1]\n",
    "                ] = self.robots[agent][\"number\"]\n",
    "                self.robots[agent][\"pos\"][0] += 1\n",
    "            elif action == 2:  # Left\n",
    "                if self.robots[agent][\"pos\"][1] == 0:\n",
    "                    continue\n",
    "                self.scenario[\n",
    "                    self.robots[agent][\"pos\"][0], self.robots[agent][\"pos\"][1]\n",
    "                ] = 0\n",
    "                self.scenario[\n",
    "                    self.robots[agent][\"pos\"][0], self.robots[agent][\"pos\"][1] - 1\n",
    "                ] = self.robots[agent][\"number\"]\n",
    "                self.robots[agent][\"pos\"][1] -= 1\n",
    "            elif action == 3:  # Right\n",
    "                if self.robots[agent][\"pos\"][1] == self.scenario_size - 1:\n",
    "                    continue\n",
    "                self.scenario[\n",
    "                    self.robots[agent][\"pos\"][0], self.robots[agent][\"pos\"][1]\n",
    "                ] = 0\n",
    "                self.scenario[\n",
    "                    self.robots[agent][\"pos\"][0], self.robots[agent][\"pos\"][1] + 1\n",
    "                ] = self.robots[agent][\"number\"]\n",
    "                self.robots[agent][\"pos\"][1] += 1\n",
    "            else:\n",
    "                raise ValueError(\"Invalid action\")\n",
    "\n",
    "        distance = np.abs(  # Calculate the distance between two robots\n",
    "            self.robots[\"robot_1\"][\"pos\"][0] - self.robots[\"robot_2\"][\"pos\"][0]\n",
    "        ) + np.abs(self.robots[\"robot_1\"][\"pos\"][1] - self.robots[\"robot_2\"][\"pos\"][1])\n",
    "        obs = {\n",
    "            \"robot_1\": distance,\n",
    "            \"robot_2\": distance,\n",
    "        }\n",
    "        reward_value = (\n",
    "            0 if np.isclose(distance, 0) else -1\n",
    "        )  # Reward is 0 if the robots meet, -1 otherwise\n",
    "        done = (\n",
    "            True if reward_value == 0 else False\n",
    "        )  # Terminate the episode if the robots meet\n",
    "        reward = {\"robot_1\": reward_value, \"robot_2\": reward_value}\n",
    "        terminated = {\"player_1\": done, \"player_2\": done}\n",
    "        truncated = {\"player_1\": done, \"player_2\": done}\n",
    "        terminated[\"__all__\"], truncated[\"__all__\"] = done, done\n",
    "        info = {}\n",
    "        return (obs, reward, terminated, truncated, info)\n",
    "\n",
    "    def render(self):\n",
    "        clear_output(wait=True)\n",
    "        plt.imshow(self.scenario)\n",
    "        plt.show()\n",
    "\n",
    "    def close(self):\n",
    "        plt.close()"
   ]
  },
  {
   "cell_type": "markdown",
   "metadata": {},
   "source": [
    "### Running the environment with random agents"
   ]
  },
  {
   "cell_type": "code",
   "execution_count": 30,
   "metadata": {},
   "outputs": [
    {
     "data": {
      "image/png": "[encoded data removed]",
      "text/plain": [
       "<Figure size 640x480 with 1 Axes>"
      ]
     },
     "metadata": {},
     "output_type": "display_data"
    },
    {
     "name": "stdout",
     "output_type": "stream",
     "text": [
      "Number of steps: 69\n"
     ]
    }
   ],
   "source": [
    "env = RobotsMeeting(scenario_size=5, render=True)\n",
    "continue_episode = True\n",
    "number_steps = 0\n",
    "while continue_episode:\n",
    "    actions = env.action_space.sample()\n",
    "    obs, reward, terminated, truncated, info = env.step(actions)\n",
    "    number_steps += 1\n",
    "    env.render()\n",
    "    if terminated[\"__all__\"]:\n",
    "        continue_episode = False\n",
    "env.close()\n",
    "\n",
    "print(\"Number of steps:\", number_steps)"
   ]
  }
 ],
 "metadata": {
  "kernelspec": {
   "display_name": "ray_minicourse-PTDOXG61",
   "language": "python",
   "name": "python3"
  },
  "language_info": {
   "codemirror_mode": {
    "name": "ipython",
    "version": 3
   },
   "file_extension": ".py",
   "mimetype": "text/x-python",
   "name": "python",
   "nbconvert_exporter": "python",
   "pygments_lexer": "ipython3",
   "version": "3.10.12"
  }
 },
 "nbformat": 4,
 "nbformat_minor": 2
}
