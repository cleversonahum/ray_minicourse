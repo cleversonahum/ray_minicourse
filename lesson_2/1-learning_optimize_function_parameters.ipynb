{
 "cells": [
  {
   "cell_type": "markdown",
   "metadata": {},
   "source": [
    "# Learning to utilize Ray Tune with the $a$ and $b$ parameters of a function $a^2+b$"
   ]
  },
  {
   "cell_type": "code",
   "execution_count": 1,
   "metadata": {},
   "outputs": [],
   "source": [
    "from pathlib import Path\n",
    "from ray import tune, air, train"
   ]
  },
  {
   "cell_type": "markdown",
   "metadata": {},
   "source": [
    "The objective function represents the function we want to maximize or minimize. The config parameter should contain the parameters that we want to find the best possible value. In the following example, we want to find the $a$ and $b$ values that minimize the given function. In the cell below we implement an objective function (trainable) using the Ray Tune function API."
   ]
  },
  {
   "cell_type": "code",
   "execution_count": 2,
   "metadata": {},
   "outputs": [],
   "source": [
    "def objective(config):\n",
    "    score = config[\"a\"] ** 2 + config[\"b\"]\n",
    "    return {\"score\": score}\n",
    "\n",
    "\n",
    "def trainable(config):  # Pass a \"config\" dictionary into your trainable.\n",
    "\n",
    "    for x in range(100):  # \"Train\" for 100 iterations and compute intermediate scores.\n",
    "        score = objective(config)\n",
    "\n",
    "        train.report({\"score\": score})  # Send the score to Tune."
   ]
  },
  {
   "cell_type": "markdown",
   "metadata": {},
   "source": [
    "In the following cell, we show the score values obtained for different values of $a$ and $b$ to illustrate the objective function process."
   ]
  },
  {
   "cell_type": "code",
   "execution_count": 3,
   "metadata": {},
   "outputs": [
    {
     "name": "stdout",
     "output_type": "stream",
     "text": [
      "a=5, b=7, result=32\n",
      "a=-4, b=-1, result=15\n",
      "a=7, b=5, result=54\n"
     ]
    }
   ],
   "source": [
    "config_example1 = {\"a\": 5, \"b\": 7}\n",
    "print(\n",
    "    f\"a={config_example1['a']}, b={config_example1['b']}, result={objective(config_example1)['score']}\"\n",
    ")\n",
    "config_example2 = {\"a\": -4, \"b\": -1}\n",
    "print(\n",
    "    f\"a={config_example2['a']}, b={config_example2['b']}, result={objective(config_example2)['score']}\"\n",
    ")\n",
    "config_example3 = {\"a\": 7, \"b\": 5}\n",
    "print(\n",
    "    f\"a={config_example3['a']}, b={config_example3['b']}, result={objective(config_example3)['score']}\"\n",
    ")"
   ]
  },
  {
   "cell_type": "markdown",
   "metadata": {},
   "source": [
    "We need to define the search space of the variables we want to optimize. In this case, we have two variables, $a$ and $b$, and we want to optimize them. We can define the search space as follows:"
   ]
  },
  {
   "cell_type": "code",
   "execution_count": 4,
   "metadata": {},
   "outputs": [
    {
     "name": "stdout",
     "output_type": "stream",
     "text": [
      "Variable a sample:27.78486628444198\n",
      "Variable b sample:21\n"
     ]
    }
   ],
   "source": [
    "search_space = {\"a\": tune.uniform(0, 100), \"b\": tune.choice([0, 10, 500, 21])}\n",
    "\n",
    "print(f\"Variable a sample:{search_space['a'].sample()}\")\n",
    "print(f\"Variable b sample:{search_space['b'].sample()}\")\n",
    "\n",
    "# Execute this cell multiple times to see different samples"
   ]
  },
  {
   "cell_type": "markdown",
   "metadata": {},
   "source": [
    "In this case, the variable $a$ can contain a value between 0 and 99 distributed with a uniform probability, and $b$ is a chosen value between the options $0$, $10$, $500$, and $21$."
   ]
  },
  {
   "cell_type": "markdown",
   "metadata": {},
   "source": [
    "There are different search space types available in the [Ray Tune API](https://docs.ray.io/en/latest/tune/api/search_space.html) to utilize according with the needs."
   ]
  },
  {
   "cell_type": "markdown",
   "metadata": {},
   "source": [
    "## Configuring/running the Tuner to optimize the function considering the defined parameter space"
   ]
  },
  {
   "cell_type": "markdown",
   "metadata": {},
   "source": [
    "It is the same tune.Tuner structure we used in the [lesson 1 activity 2](../lesson_1/2-simple_ppo_agent_to_environment.ipynb) to implement the PPO Rl agent, but here we are utilizing it without considering RL.**Executing the cell below, we obtain a summary of the obtained results by randomly sampling parameter values using the defined search spaces**."
   ]
  },
  {
   "cell_type": "code",
   "execution_count": 5,
   "metadata": {},
   "outputs": [
    {
     "name": "stderr",
     "output_type": "stream",
     "text": [
      "2024-11-30 00:00:43,797\tINFO worker.py:1783 -- Started a local Ray instance.\n",
      "2024-11-30 00:00:44,338\tINFO tune.py:253 -- Initializing Ray automatically. For cluster usage or custom Ray initialization, call `ray.init(...)` before `Tuner(...)`.\n",
      "2024-11-30 00:00:44,340\tINFO tune.py:616 -- [output] This uses the legacy output and progress reporter, as Jupyter notebooks are not supported by the new engine, yet. For more information, please see https://github.com/ray-project/ray/issues/36949\n"
     ]
    },
    {
     "data": {
      "text/html": [
       "<div class=\"tuneStatus\">\n",
       "  <div style=\"display: flex;flex-direction: row\">\n",
       "    <div style=\"display: flex;flex-direction: column;\">\n",
       "      <h3>Tune Status</h3>\n",
       "      <table>\n",
       "<tbody>\n",
       "<tr><td>Current time:</td><td>2024-11-30 00:01:12</td></tr>\n",
       "<tr><td>Running for: </td><td>00:00:26.40        </td></tr>\n",
       "<tr><td>Memory:      </td><td>3.9/23.9 GiB       </td></tr>\n",
       "</tbody>\n",
       "</table>\n",
       "    </div>\n",
       "    <div class=\"vDivider\"></div>\n",
       "    <div class=\"systemInfo\">\n",
       "      <h3>System Info</h3>\n",
       "      Using FIFO scheduling algorithm.<br>Logical resource usage: 1.0/16 CPUs, 0/0 GPUs\n",
       "    </div>\n",
       "    \n",
       "  </div>\n",
       "  <div class=\"hDivider\"></div>\n",
       "  <div class=\"trialStatus\">\n",
       "    <h3>Trial Status</h3>\n",
       "    <table>\n",
       "<thead>\n",
       "<tr><th>Trial name           </th><th>status    </th><th>loc                  </th><th style=\"text-align: right;\">        a</th><th style=\"text-align: right;\">  b</th><th style=\"text-align: right;\">  iter</th><th style=\"text-align: right;\">  total time (s)</th></tr>\n",
       "</thead>\n",
       "<tbody>\n",
       "<tr><td>trainable_2533a_00000</td><td>TERMINATED</td><td>200.239.93.233:490982</td><td style=\"text-align: right;\">19.971   </td><td style=\"text-align: right;\"> 10</td><td style=\"text-align: right;\">   100</td><td style=\"text-align: right;\">      0.013304  </td></tr>\n",
       "<tr><td>trainable_2533a_00001</td><td>TERMINATED</td><td>200.239.93.233:490983</td><td style=\"text-align: right;\">54.377   </td><td style=\"text-align: right;\">500</td><td style=\"text-align: right;\">   100</td><td style=\"text-align: right;\">      0.0148187 </td></tr>\n",
       "<tr><td>trainable_2533a_00002</td><td>TERMINATED</td><td>200.239.93.233:490984</td><td style=\"text-align: right;\">26.1984  </td><td style=\"text-align: right;\">  0</td><td style=\"text-align: right;\">   100</td><td style=\"text-align: right;\">      0.0120797 </td></tr>\n",
       "<tr><td>trainable_2533a_00003</td><td>TERMINATED</td><td>200.239.93.233:490985</td><td style=\"text-align: right;\">67.0128  </td><td style=\"text-align: right;\"> 10</td><td style=\"text-align: right;\">   100</td><td style=\"text-align: right;\">      0.0387573 </td></tr>\n",
       "<tr><td>trainable_2533a_00004</td><td>TERMINATED</td><td>200.239.93.233:490986</td><td style=\"text-align: right;\">62.6673  </td><td style=\"text-align: right;\">  0</td><td style=\"text-align: right;\">   100</td><td style=\"text-align: right;\">      0.0116091 </td></tr>\n",
       "<tr><td>trainable_2533a_00005</td><td>TERMINATED</td><td>200.239.93.233:490992</td><td style=\"text-align: right;\">82.3452  </td><td style=\"text-align: right;\">  0</td><td style=\"text-align: right;\">   100</td><td style=\"text-align: right;\">      0.0121455 </td></tr>\n",
       "<tr><td>trainable_2533a_00006</td><td>TERMINATED</td><td>200.239.93.233:490987</td><td style=\"text-align: right;\">44.0245  </td><td style=\"text-align: right;\">  0</td><td style=\"text-align: right;\">   100</td><td style=\"text-align: right;\">      0.0115938 </td></tr>\n",
       "<tr><td>trainable_2533a_00007</td><td>TERMINATED</td><td>200.239.93.233:490988</td><td style=\"text-align: right;\">90.7716  </td><td style=\"text-align: right;\">  0</td><td style=\"text-align: right;\">   100</td><td style=\"text-align: right;\">      0.0125358 </td></tr>\n",
       "<tr><td>trainable_2533a_00008</td><td>TERMINATED</td><td>200.239.93.233:490989</td><td style=\"text-align: right;\">13.0525  </td><td style=\"text-align: right;\"> 21</td><td style=\"text-align: right;\">   100</td><td style=\"text-align: right;\">      0.0123551 </td></tr>\n",
       "<tr><td>trainable_2533a_00009</td><td>TERMINATED</td><td>200.239.93.233:490990</td><td style=\"text-align: right;\">65.7566  </td><td style=\"text-align: right;\"> 10</td><td style=\"text-align: right;\">   100</td><td style=\"text-align: right;\">      0.0123911 </td></tr>\n",
       "<tr><td>trainable_2533a_00010</td><td>TERMINATED</td><td>200.239.93.233:490991</td><td style=\"text-align: right;\">68.0394  </td><td style=\"text-align: right;\"> 10</td><td style=\"text-align: right;\">   100</td><td style=\"text-align: right;\">      0.0122249 </td></tr>\n",
       "<tr><td>trainable_2533a_00011</td><td>TERMINATED</td><td>200.239.93.233:490993</td><td style=\"text-align: right;\">65.5627  </td><td style=\"text-align: right;\">500</td><td style=\"text-align: right;\">   100</td><td style=\"text-align: right;\">      0.0115178 </td></tr>\n",
       "<tr><td>trainable_2533a_00012</td><td>TERMINATED</td><td>200.239.93.233:490994</td><td style=\"text-align: right;\"> 7.05241 </td><td style=\"text-align: right;\"> 10</td><td style=\"text-align: right;\">   100</td><td style=\"text-align: right;\">      0.0136452 </td></tr>\n",
       "<tr><td>trainable_2533a_00013</td><td>TERMINATED</td><td>200.239.93.233:490995</td><td style=\"text-align: right;\">47.1807  </td><td style=\"text-align: right;\"> 10</td><td style=\"text-align: right;\">   100</td><td style=\"text-align: right;\">      0.0127761 </td></tr>\n",
       "<tr><td>trainable_2533a_00014</td><td>TERMINATED</td><td>200.239.93.233:490996</td><td style=\"text-align: right;\">20.4446  </td><td style=\"text-align: right;\">500</td><td style=\"text-align: right;\">   100</td><td style=\"text-align: right;\">      0.0206163 </td></tr>\n",
       "<tr><td>trainable_2533a_00015</td><td>TERMINATED</td><td>200.239.93.233:490997</td><td style=\"text-align: right;\">59.4309  </td><td style=\"text-align: right;\"> 21</td><td style=\"text-align: right;\">   100</td><td style=\"text-align: right;\">      0.0122957 </td></tr>\n",
       "<tr><td>trainable_2533a_00016</td><td>TERMINATED</td><td>200.239.93.233:492602</td><td style=\"text-align: right;\">67.0843  </td><td style=\"text-align: right;\"> 10</td><td style=\"text-align: right;\">   100</td><td style=\"text-align: right;\">      0.0251238 </td></tr>\n",
       "<tr><td>trainable_2533a_00017</td><td>TERMINATED</td><td>200.239.93.233:492605</td><td style=\"text-align: right;\">20.8157  </td><td style=\"text-align: right;\"> 21</td><td style=\"text-align: right;\">   100</td><td style=\"text-align: right;\">      0.038094  </td></tr>\n",
       "<tr><td>trainable_2533a_00018</td><td>TERMINATED</td><td>200.239.93.233:492611</td><td style=\"text-align: right;\">89.2711  </td><td style=\"text-align: right;\">  0</td><td style=\"text-align: right;\">   100</td><td style=\"text-align: right;\">      0.0184493 </td></tr>\n",
       "<tr><td>trainable_2533a_00019</td><td>TERMINATED</td><td>200.239.93.233:492651</td><td style=\"text-align: right;\">18.057   </td><td style=\"text-align: right;\">500</td><td style=\"text-align: right;\">   100</td><td style=\"text-align: right;\">      0.0184696 </td></tr>\n",
       "<tr><td>trainable_2533a_00020</td><td>TERMINATED</td><td>200.239.93.233:492654</td><td style=\"text-align: right;\">65.9433  </td><td style=\"text-align: right;\">  0</td><td style=\"text-align: right;\">   100</td><td style=\"text-align: right;\">      0.0201113 </td></tr>\n",
       "<tr><td>trainable_2533a_00021</td><td>TERMINATED</td><td>200.239.93.233:492677</td><td style=\"text-align: right;\">31.5054  </td><td style=\"text-align: right;\">500</td><td style=\"text-align: right;\">   100</td><td style=\"text-align: right;\">      0.0236776 </td></tr>\n",
       "<tr><td>trainable_2533a_00022</td><td>TERMINATED</td><td>200.239.93.233:492700</td><td style=\"text-align: right;\">57.3473  </td><td style=\"text-align: right;\">  0</td><td style=\"text-align: right;\">   100</td><td style=\"text-align: right;\">      0.0140824 </td></tr>\n",
       "<tr><td>trainable_2533a_00023</td><td>TERMINATED</td><td>200.239.93.233:492706</td><td style=\"text-align: right;\"> 6.79846 </td><td style=\"text-align: right;\">  0</td><td style=\"text-align: right;\">   100</td><td style=\"text-align: right;\">      0.0284021 </td></tr>\n",
       "<tr><td>trainable_2533a_00024</td><td>TERMINATED</td><td>200.239.93.233:492734</td><td style=\"text-align: right;\">33.4507  </td><td style=\"text-align: right;\">500</td><td style=\"text-align: right;\">   100</td><td style=\"text-align: right;\">      0.0123243 </td></tr>\n",
       "<tr><td>trainable_2533a_00025</td><td>TERMINATED</td><td>200.239.93.233:492744</td><td style=\"text-align: right;\"> 7.61545 </td><td style=\"text-align: right;\">500</td><td style=\"text-align: right;\">   100</td><td style=\"text-align: right;\">      0.0130877 </td></tr>\n",
       "<tr><td>trainable_2533a_00026</td><td>TERMINATED</td><td>200.239.93.233:492745</td><td style=\"text-align: right;\">11.4818  </td><td style=\"text-align: right;\"> 21</td><td style=\"text-align: right;\">   100</td><td style=\"text-align: right;\">      0.0123646 </td></tr>\n",
       "<tr><td>trainable_2533a_00027</td><td>TERMINATED</td><td>200.239.93.233:492750</td><td style=\"text-align: right;\">87.6392  </td><td style=\"text-align: right;\"> 10</td><td style=\"text-align: right;\">   100</td><td style=\"text-align: right;\">      0.0126636 </td></tr>\n",
       "<tr><td>trainable_2533a_00028</td><td>TERMINATED</td><td>200.239.93.233:492778</td><td style=\"text-align: right;\">15.8868  </td><td style=\"text-align: right;\"> 21</td><td style=\"text-align: right;\">   100</td><td style=\"text-align: right;\">      0.0130625 </td></tr>\n",
       "<tr><td>trainable_2533a_00029</td><td>TERMINATED</td><td>200.239.93.233:492779</td><td style=\"text-align: right;\">64.7407  </td><td style=\"text-align: right;\"> 10</td><td style=\"text-align: right;\">   100</td><td style=\"text-align: right;\">      0.0136888 </td></tr>\n",
       "<tr><td>trainable_2533a_00030</td><td>TERMINATED</td><td>200.239.93.233:492790</td><td style=\"text-align: right;\">84.7517  </td><td style=\"text-align: right;\">  0</td><td style=\"text-align: right;\">   100</td><td style=\"text-align: right;\">      0.0124454 </td></tr>\n",
       "<tr><td>trainable_2533a_00031</td><td>TERMINATED</td><td>200.239.93.233:492791</td><td style=\"text-align: right;\">69.6225  </td><td style=\"text-align: right;\"> 10</td><td style=\"text-align: right;\">   100</td><td style=\"text-align: right;\">      0.0123153 </td></tr>\n",
       "<tr><td>trainable_2533a_00032</td><td>TERMINATED</td><td>200.239.93.233:494010</td><td style=\"text-align: right;\">84.9294  </td><td style=\"text-align: right;\"> 21</td><td style=\"text-align: right;\">   100</td><td style=\"text-align: right;\">      0.0178368 </td></tr>\n",
       "<tr><td>trainable_2533a_00033</td><td>TERMINATED</td><td>200.239.93.233:494015</td><td style=\"text-align: right;\">87.1156  </td><td style=\"text-align: right;\">500</td><td style=\"text-align: right;\">   100</td><td style=\"text-align: right;\">      0.0148454 </td></tr>\n",
       "<tr><td>trainable_2533a_00034</td><td>TERMINATED</td><td>200.239.93.233:494025</td><td style=\"text-align: right;\">43.5398  </td><td style=\"text-align: right;\"> 10</td><td style=\"text-align: right;\">   100</td><td style=\"text-align: right;\">      0.0158503 </td></tr>\n",
       "<tr><td>trainable_2533a_00035</td><td>TERMINATED</td><td>200.239.93.233:494024</td><td style=\"text-align: right;\">37.5192  </td><td style=\"text-align: right;\"> 10</td><td style=\"text-align: right;\">   100</td><td style=\"text-align: right;\">      0.0137537 </td></tr>\n",
       "<tr><td>trainable_2533a_00036</td><td>TERMINATED</td><td>200.239.93.233:494026</td><td style=\"text-align: right;\">47.3354  </td><td style=\"text-align: right;\"> 21</td><td style=\"text-align: right;\">   100</td><td style=\"text-align: right;\">      0.015285  </td></tr>\n",
       "<tr><td>trainable_2533a_00037</td><td>TERMINATED</td><td>200.239.93.233:494027</td><td style=\"text-align: right;\">62.5239  </td><td style=\"text-align: right;\"> 10</td><td style=\"text-align: right;\">   100</td><td style=\"text-align: right;\">      0.0157607 </td></tr>\n",
       "<tr><td>trainable_2533a_00038</td><td>TERMINATED</td><td>200.239.93.233:494370</td><td style=\"text-align: right;\">98.3928  </td><td style=\"text-align: right;\"> 10</td><td style=\"text-align: right;\">   100</td><td style=\"text-align: right;\">      0.0149579 </td></tr>\n",
       "<tr><td>trainable_2533a_00039</td><td>TERMINATED</td><td>200.239.93.233:494371</td><td style=\"text-align: right;\">96.6171  </td><td style=\"text-align: right;\">500</td><td style=\"text-align: right;\">   100</td><td style=\"text-align: right;\">      0.013032  </td></tr>\n",
       "<tr><td>trainable_2533a_00040</td><td>TERMINATED</td><td>200.239.93.233:494373</td><td style=\"text-align: right;\"> 0.132573</td><td style=\"text-align: right;\"> 10</td><td style=\"text-align: right;\">   100</td><td style=\"text-align: right;\">      0.0127611 </td></tr>\n",
       "<tr><td>trainable_2533a_00041</td><td>TERMINATED</td><td>200.239.93.233:494372</td><td style=\"text-align: right;\"> 4.84312 </td><td style=\"text-align: right;\"> 10</td><td style=\"text-align: right;\">   100</td><td style=\"text-align: right;\">      0.0132558 </td></tr>\n",
       "<tr><td>trainable_2533a_00042</td><td>TERMINATED</td><td>200.239.93.233:494374</td><td style=\"text-align: right;\"> 4.2527  </td><td style=\"text-align: right;\"> 21</td><td style=\"text-align: right;\">   100</td><td style=\"text-align: right;\">      0.0137796 </td></tr>\n",
       "<tr><td>trainable_2533a_00043</td><td>TERMINATED</td><td>200.239.93.233:494375</td><td style=\"text-align: right;\"> 0.60885 </td><td style=\"text-align: right;\"> 21</td><td style=\"text-align: right;\">   100</td><td style=\"text-align: right;\">      0.0136085 </td></tr>\n",
       "<tr><td>trainable_2533a_00044</td><td>TERMINATED</td><td>200.239.93.233:494376</td><td style=\"text-align: right;\">99.3648  </td><td style=\"text-align: right;\">  0</td><td style=\"text-align: right;\">   100</td><td style=\"text-align: right;\">      0.0129092 </td></tr>\n",
       "<tr><td>trainable_2533a_00045</td><td>TERMINATED</td><td>200.239.93.233:494377</td><td style=\"text-align: right;\">78.9552  </td><td style=\"text-align: right;\">  0</td><td style=\"text-align: right;\">   100</td><td style=\"text-align: right;\">      0.0138927 </td></tr>\n",
       "<tr><td>trainable_2533a_00046</td><td>TERMINATED</td><td>200.239.93.233:494378</td><td style=\"text-align: right;\">98.81    </td><td style=\"text-align: right;\"> 21</td><td style=\"text-align: right;\">   100</td><td style=\"text-align: right;\">      0.0139749 </td></tr>\n",
       "<tr><td>trainable_2533a_00047</td><td>TERMINATED</td><td>200.239.93.233:494379</td><td style=\"text-align: right;\">22.0338  </td><td style=\"text-align: right;\"> 10</td><td style=\"text-align: right;\">   100</td><td style=\"text-align: right;\">      0.0141876 </td></tr>\n",
       "<tr><td>trainable_2533a_00048</td><td>TERMINATED</td><td>200.239.93.233:494951</td><td style=\"text-align: right;\">12.109   </td><td style=\"text-align: right;\"> 21</td><td style=\"text-align: right;\">   100</td><td style=\"text-align: right;\">      0.00950599</td></tr>\n",
       "<tr><td>trainable_2533a_00049</td><td>TERMINATED</td><td>200.239.93.233:494952</td><td style=\"text-align: right;\">41.8151  </td><td style=\"text-align: right;\">  0</td><td style=\"text-align: right;\">   100</td><td style=\"text-align: right;\">      0.0111318 </td></tr>\n",
       "<tr><td>trainable_2533a_00050</td><td>TERMINATED</td><td>200.239.93.233:494953</td><td style=\"text-align: right;\"> 2.88016 </td><td style=\"text-align: right;\">500</td><td style=\"text-align: right;\">   100</td><td style=\"text-align: right;\">      0.0116458 </td></tr>\n",
       "<tr><td>trainable_2533a_00051</td><td>TERMINATED</td><td>200.239.93.233:494954</td><td style=\"text-align: right;\">57.0079  </td><td style=\"text-align: right;\">500</td><td style=\"text-align: right;\">   100</td><td style=\"text-align: right;\">      0.0108449 </td></tr>\n",
       "<tr><td>trainable_2533a_00052</td><td>TERMINATED</td><td>200.239.93.233:494955</td><td style=\"text-align: right;\"> 9.6103  </td><td style=\"text-align: right;\"> 21</td><td style=\"text-align: right;\">   100</td><td style=\"text-align: right;\">      0.0179825 </td></tr>\n",
       "<tr><td>trainable_2533a_00053</td><td>TERMINATED</td><td>200.239.93.233:494956</td><td style=\"text-align: right;\">64.4454  </td><td style=\"text-align: right;\">500</td><td style=\"text-align: right;\">   100</td><td style=\"text-align: right;\">      0.0128484 </td></tr>\n",
       "<tr><td>trainable_2533a_00054</td><td>TERMINATED</td><td>200.239.93.233:495302</td><td style=\"text-align: right;\"> 3.67331 </td><td style=\"text-align: right;\">  0</td><td style=\"text-align: right;\">   100</td><td style=\"text-align: right;\">      0.0131803 </td></tr>\n",
       "<tr><td>trainable_2533a_00055</td><td>TERMINATED</td><td>200.239.93.233:495303</td><td style=\"text-align: right;\">79.1214  </td><td style=\"text-align: right;\"> 21</td><td style=\"text-align: right;\">   100</td><td style=\"text-align: right;\">      0.0133655 </td></tr>\n",
       "<tr><td>trainable_2533a_00056</td><td>TERMINATED</td><td>200.239.93.233:495305</td><td style=\"text-align: right;\">79.9962  </td><td style=\"text-align: right;\">500</td><td style=\"text-align: right;\">   100</td><td style=\"text-align: right;\">      0.0137203 </td></tr>\n",
       "<tr><td>trainable_2533a_00057</td><td>TERMINATED</td><td>200.239.93.233:495304</td><td style=\"text-align: right;\">54.024   </td><td style=\"text-align: right;\">  0</td><td style=\"text-align: right;\">   100</td><td style=\"text-align: right;\">      0.0121903 </td></tr>\n",
       "<tr><td>trainable_2533a_00058</td><td>TERMINATED</td><td>200.239.93.233:495306</td><td style=\"text-align: right;\">68.2824  </td><td style=\"text-align: right;\">  0</td><td style=\"text-align: right;\">   100</td><td style=\"text-align: right;\">      0.0122387 </td></tr>\n",
       "<tr><td>trainable_2533a_00059</td><td>TERMINATED</td><td>200.239.93.233:495307</td><td style=\"text-align: right;\">34.6582  </td><td style=\"text-align: right;\"> 21</td><td style=\"text-align: right;\">   100</td><td style=\"text-align: right;\">      0.0134079 </td></tr>\n",
       "<tr><td>trainable_2533a_00060</td><td>TERMINATED</td><td>200.239.93.233:495308</td><td style=\"text-align: right;\">55.8827  </td><td style=\"text-align: right;\"> 21</td><td style=\"text-align: right;\">   100</td><td style=\"text-align: right;\">      0.0136187 </td></tr>\n",
       "<tr><td>trainable_2533a_00061</td><td>TERMINATED</td><td>200.239.93.233:495309</td><td style=\"text-align: right;\">90.3676  </td><td style=\"text-align: right;\">500</td><td style=\"text-align: right;\">   100</td><td style=\"text-align: right;\">      0.0111899 </td></tr>\n",
       "<tr><td>trainable_2533a_00062</td><td>TERMINATED</td><td>200.239.93.233:495310</td><td style=\"text-align: right;\">72.1841  </td><td style=\"text-align: right;\">500</td><td style=\"text-align: right;\">   100</td><td style=\"text-align: right;\">      0.0131497 </td></tr>\n",
       "<tr><td>trainable_2533a_00063</td><td>TERMINATED</td><td>200.239.93.233:495311</td><td style=\"text-align: right;\">79.5599  </td><td style=\"text-align: right;\">500</td><td style=\"text-align: right;\">   100</td><td style=\"text-align: right;\">      0.0137904 </td></tr>\n",
       "<tr><td>trainable_2533a_00064</td><td>TERMINATED</td><td>200.239.93.233:495312</td><td style=\"text-align: right;\"> 2.10882 </td><td style=\"text-align: right;\">  0</td><td style=\"text-align: right;\">   100</td><td style=\"text-align: right;\">      0.0143719 </td></tr>\n",
       "<tr><td>trainable_2533a_00065</td><td>TERMINATED</td><td>200.239.93.233:495940</td><td style=\"text-align: right;\">13.8192  </td><td style=\"text-align: right;\"> 21</td><td style=\"text-align: right;\">   100</td><td style=\"text-align: right;\">      0.00975513</td></tr>\n",
       "<tr><td>trainable_2533a_00066</td><td>TERMINATED</td><td>200.239.93.233:495941</td><td style=\"text-align: right;\">90.5884  </td><td style=\"text-align: right;\"> 10</td><td style=\"text-align: right;\">   100</td><td style=\"text-align: right;\">      0.0100868 </td></tr>\n",
       "<tr><td>trainable_2533a_00067</td><td>TERMINATED</td><td>200.239.93.233:495942</td><td style=\"text-align: right;\">45.9789  </td><td style=\"text-align: right;\">  0</td><td style=\"text-align: right;\">   100</td><td style=\"text-align: right;\">      0.0100772 </td></tr>\n",
       "<tr><td>trainable_2533a_00068</td><td>TERMINATED</td><td>200.239.93.233:495943</td><td style=\"text-align: right;\">57.1268  </td><td style=\"text-align: right;\"> 21</td><td style=\"text-align: right;\">   100</td><td style=\"text-align: right;\">      0.00975537</td></tr>\n",
       "<tr><td>trainable_2533a_00069</td><td>TERMINATED</td><td>200.239.93.233:495944</td><td style=\"text-align: right;\"> 8.24175 </td><td style=\"text-align: right;\">500</td><td style=\"text-align: right;\">   100</td><td style=\"text-align: right;\">      0.0102525 </td></tr>\n",
       "<tr><td>trainable_2533a_00070</td><td>TERMINATED</td><td>200.239.93.233:496230</td><td style=\"text-align: right;\">70.214   </td><td style=\"text-align: right;\"> 10</td><td style=\"text-align: right;\">   100</td><td style=\"text-align: right;\">      0.013602  </td></tr>\n",
       "<tr><td>trainable_2533a_00071</td><td>TERMINATED</td><td>200.239.93.233:496231</td><td style=\"text-align: right;\">57.9508  </td><td style=\"text-align: right;\"> 21</td><td style=\"text-align: right;\">   100</td><td style=\"text-align: right;\">      0.0134187 </td></tr>\n",
       "<tr><td>trainable_2533a_00072</td><td>TERMINATED</td><td>200.239.93.233:496232</td><td style=\"text-align: right;\">72.1626  </td><td style=\"text-align: right;\"> 10</td><td style=\"text-align: right;\">   100</td><td style=\"text-align: right;\">      0.0125775 </td></tr>\n",
       "<tr><td>trainable_2533a_00073</td><td>TERMINATED</td><td>200.239.93.233:496233</td><td style=\"text-align: right;\">77.4099  </td><td style=\"text-align: right;\">500</td><td style=\"text-align: right;\">   100</td><td style=\"text-align: right;\">      0.0150843 </td></tr>\n",
       "<tr><td>trainable_2533a_00074</td><td>TERMINATED</td><td>200.239.93.233:496234</td><td style=\"text-align: right;\">64.5022  </td><td style=\"text-align: right;\"> 21</td><td style=\"text-align: right;\">   100</td><td style=\"text-align: right;\">      0.0110857 </td></tr>\n",
       "<tr><td>trainable_2533a_00075</td><td>TERMINATED</td><td>200.239.93.233:496235</td><td style=\"text-align: right;\">41.7118  </td><td style=\"text-align: right;\"> 10</td><td style=\"text-align: right;\">   100</td><td style=\"text-align: right;\">      0.0150268 </td></tr>\n",
       "<tr><td>trainable_2533a_00076</td><td>TERMINATED</td><td>200.239.93.233:496236</td><td style=\"text-align: right;\">56.6486  </td><td style=\"text-align: right;\">500</td><td style=\"text-align: right;\">   100</td><td style=\"text-align: right;\">      0.0120864 </td></tr>\n",
       "<tr><td>trainable_2533a_00077</td><td>TERMINATED</td><td>200.239.93.233:496237</td><td style=\"text-align: right;\">40.698   </td><td style=\"text-align: right;\"> 21</td><td style=\"text-align: right;\">   100</td><td style=\"text-align: right;\">      0.0146415 </td></tr>\n",
       "<tr><td>trainable_2533a_00078</td><td>TERMINATED</td><td>200.239.93.233:496238</td><td style=\"text-align: right;\">61.871   </td><td style=\"text-align: right;\"> 21</td><td style=\"text-align: right;\">   100</td><td style=\"text-align: right;\">      0.011826  </td></tr>\n",
       "<tr><td>trainable_2533a_00079</td><td>TERMINATED</td><td>200.239.93.233:496239</td><td style=\"text-align: right;\">54.7475  </td><td style=\"text-align: right;\"> 21</td><td style=\"text-align: right;\">   100</td><td style=\"text-align: right;\">      0.0122874 </td></tr>\n",
       "<tr><td>trainable_2533a_00080</td><td>TERMINATED</td><td>200.239.93.233:496240</td><td style=\"text-align: right;\">70.2177  </td><td style=\"text-align: right;\"> 10</td><td style=\"text-align: right;\">   100</td><td style=\"text-align: right;\">      0.011539  </td></tr>\n",
       "<tr><td>trainable_2533a_00081</td><td>TERMINATED</td><td>200.239.93.233:496241</td><td style=\"text-align: right;\">83.1504  </td><td style=\"text-align: right;\"> 10</td><td style=\"text-align: right;\">   100</td><td style=\"text-align: right;\">      0.0122256 </td></tr>\n",
       "<tr><td>trainable_2533a_00082</td><td>TERMINATED</td><td>200.239.93.233:496242</td><td style=\"text-align: right;\">75.9865  </td><td style=\"text-align: right;\"> 10</td><td style=\"text-align: right;\">   100</td><td style=\"text-align: right;\">      0.0125861 </td></tr>\n",
       "<tr><td>trainable_2533a_00083</td><td>TERMINATED</td><td>200.239.93.233:496243</td><td style=\"text-align: right;\">69.5081  </td><td style=\"text-align: right;\">500</td><td style=\"text-align: right;\">   100</td><td style=\"text-align: right;\">      0.0122435 </td></tr>\n",
       "<tr><td>trainable_2533a_00084</td><td>TERMINATED</td><td>200.239.93.233:496244</td><td style=\"text-align: right;\">12.2859  </td><td style=\"text-align: right;\">500</td><td style=\"text-align: right;\">   100</td><td style=\"text-align: right;\">      0.0125341 </td></tr>\n",
       "<tr><td>trainable_2533a_00085</td><td>TERMINATED</td><td>200.239.93.233:496245</td><td style=\"text-align: right;\">92.2914  </td><td style=\"text-align: right;\"> 10</td><td style=\"text-align: right;\">   100</td><td style=\"text-align: right;\">      0.0126588 </td></tr>\n",
       "<tr><td>trainable_2533a_00086</td><td>TERMINATED</td><td>200.239.93.233:497850</td><td style=\"text-align: right;\">61.445   </td><td style=\"text-align: right;\"> 10</td><td style=\"text-align: right;\">   100</td><td style=\"text-align: right;\">      0.0135837 </td></tr>\n",
       "<tr><td>trainable_2533a_00087</td><td>TERMINATED</td><td>200.239.93.233:497863</td><td style=\"text-align: right;\">45.8314  </td><td style=\"text-align: right;\"> 10</td><td style=\"text-align: right;\">   100</td><td style=\"text-align: right;\">      0.0127759 </td></tr>\n",
       "<tr><td>trainable_2533a_00088</td><td>TERMINATED</td><td>200.239.93.233:497868</td><td style=\"text-align: right;\">80.6073  </td><td style=\"text-align: right;\"> 21</td><td style=\"text-align: right;\">   100</td><td style=\"text-align: right;\">      0.0135531 </td></tr>\n",
       "<tr><td>trainable_2533a_00089</td><td>TERMINATED</td><td>200.239.93.233:497869</td><td style=\"text-align: right;\">50.5647  </td><td style=\"text-align: right;\"> 21</td><td style=\"text-align: right;\">   100</td><td style=\"text-align: right;\">      0.0135961 </td></tr>\n",
       "<tr><td>trainable_2533a_00090</td><td>TERMINATED</td><td>200.239.93.233:497878</td><td style=\"text-align: right;\">37.2582  </td><td style=\"text-align: right;\"> 10</td><td style=\"text-align: right;\">   100</td><td style=\"text-align: right;\">      0.0138195 </td></tr>\n",
       "<tr><td>trainable_2533a_00091</td><td>TERMINATED</td><td>200.239.93.233:497879</td><td style=\"text-align: right;\">17.9904  </td><td style=\"text-align: right;\"> 10</td><td style=\"text-align: right;\">   100</td><td style=\"text-align: right;\">      0.0139003 </td></tr>\n",
       "<tr><td>trainable_2533a_00092</td><td>TERMINATED</td><td>200.239.93.233:497884</td><td style=\"text-align: right;\">61.4882  </td><td style=\"text-align: right;\"> 10</td><td style=\"text-align: right;\">   100</td><td style=\"text-align: right;\">      0.014432  </td></tr>\n",
       "<tr><td>trainable_2533a_00093</td><td>TERMINATED</td><td>200.239.93.233:497885</td><td style=\"text-align: right;\">92.807   </td><td style=\"text-align: right;\"> 21</td><td style=\"text-align: right;\">   100</td><td style=\"text-align: right;\">      0.0146468 </td></tr>\n",
       "<tr><td>trainable_2533a_00094</td><td>TERMINATED</td><td>200.239.93.233:497894</td><td style=\"text-align: right;\">70.6203  </td><td style=\"text-align: right;\">  0</td><td style=\"text-align: right;\">   100</td><td style=\"text-align: right;\">      0.0134771 </td></tr>\n",
       "<tr><td>trainable_2533a_00095</td><td>TERMINATED</td><td>200.239.93.233:497895</td><td style=\"text-align: right;\">34.9382  </td><td style=\"text-align: right;\">  0</td><td style=\"text-align: right;\">   100</td><td style=\"text-align: right;\">      0.0138505 </td></tr>\n",
       "<tr><td>trainable_2533a_00096</td><td>TERMINATED</td><td>200.239.93.233:497896</td><td style=\"text-align: right;\">88.8513  </td><td style=\"text-align: right;\">500</td><td style=\"text-align: right;\">   100</td><td style=\"text-align: right;\">      0.0127921 </td></tr>\n",
       "<tr><td>trainable_2533a_00097</td><td>TERMINATED</td><td>200.239.93.233:497901</td><td style=\"text-align: right;\">38.5368  </td><td style=\"text-align: right;\"> 21</td><td style=\"text-align: right;\">   100</td><td style=\"text-align: right;\">      0.0135157 </td></tr>\n",
       "<tr><td>trainable_2533a_00098</td><td>TERMINATED</td><td>200.239.93.233:497902</td><td style=\"text-align: right;\">89.7307  </td><td style=\"text-align: right;\"> 10</td><td style=\"text-align: right;\">   100</td><td style=\"text-align: right;\">      0.0129654 </td></tr>\n",
       "<tr><td>trainable_2533a_00099</td><td>TERMINATED</td><td>200.239.93.233:497903</td><td style=\"text-align: right;\">40.8723  </td><td style=\"text-align: right;\">500</td><td style=\"text-align: right;\">   100</td><td style=\"text-align: right;\">      0.0138052 </td></tr>\n",
       "</tbody>\n",
       "</table>\n",
       "  </div>\n",
       "</div>\n",
       "<style>\n",
       ".tuneStatus {\n",
       "  color: var(--jp-ui-font-color1);\n",
       "}\n",
       ".tuneStatus .systemInfo {\n",
       "  display: flex;\n",
       "  flex-direction: column;\n",
       "}\n",
       ".tuneStatus td {\n",
       "  white-space: nowrap;\n",
       "}\n",
       ".tuneStatus .trialStatus {\n",
       "  display: flex;\n",
       "  flex-direction: column;\n",
       "}\n",
       ".tuneStatus h3 {\n",
       "  font-weight: bold;\n",
       "}\n",
       ".tuneStatus .hDivider {\n",
       "  border-bottom-width: var(--jp-border-width);\n",
       "  border-bottom-color: var(--jp-border-color0);\n",
       "  border-bottom-style: solid;\n",
       "}\n",
       ".tuneStatus .vDivider {\n",
       "  border-left-width: var(--jp-border-width);\n",
       "  border-left-color: var(--jp-border-color0);\n",
       "  border-left-style: solid;\n",
       "  margin: 0.5em 1em 0.5em 1em;\n",
       "}\n",
       "</style>\n"
      ],
      "text/plain": [
       "<IPython.core.display.HTML object>"
      ]
     },
     "metadata": {},
     "output_type": "display_data"
    },
    {
     "data": {
      "text/html": [
       "<div class=\"trialProgress\">\n",
       "  <h3>Trial Progress</h3>\n",
       "  <table>\n",
       "<thead>\n",
       "<tr><th>Trial name           </th><th>score                        </th></tr>\n",
       "</thead>\n",
       "<tbody>\n",
       "<tr><td>trainable_2533a_00000</td><td>{&#x27;score&#x27;: 408.84215311900647}</td></tr>\n",
       "<tr><td>trainable_2533a_00001</td><td>{&#x27;score&#x27;: 3456.8596559558337}</td></tr>\n",
       "<tr><td>trainable_2533a_00002</td><td>{&#x27;score&#x27;: 686.3535968931619} </td></tr>\n",
       "<tr><td>trainable_2533a_00003</td><td>{&#x27;score&#x27;: 4500.7088193554955}</td></tr>\n",
       "<tr><td>trainable_2533a_00004</td><td>{&#x27;score&#x27;: 3927.192243676915} </td></tr>\n",
       "<tr><td>trainable_2533a_00005</td><td>{&#x27;score&#x27;: 6780.737194389832} </td></tr>\n",
       "<tr><td>trainable_2533a_00006</td><td>{&#x27;score&#x27;: 1938.1545787275404}</td></tr>\n",
       "<tr><td>trainable_2533a_00007</td><td>{&#x27;score&#x27;: 8239.477326166882} </td></tr>\n",
       "<tr><td>trainable_2533a_00008</td><td>{&#x27;score&#x27;: 191.36809204443404}</td></tr>\n",
       "<tr><td>trainable_2533a_00009</td><td>{&#x27;score&#x27;: 4333.933801818879} </td></tr>\n",
       "<tr><td>trainable_2533a_00010</td><td>{&#x27;score&#x27;: 4639.354156195404} </td></tr>\n",
       "<tr><td>trainable_2533a_00011</td><td>{&#x27;score&#x27;: 4798.466832846924} </td></tr>\n",
       "<tr><td>trainable_2533a_00012</td><td>{&#x27;score&#x27;: 59.736446046569}   </td></tr>\n",
       "<tr><td>trainable_2533a_00013</td><td>{&#x27;score&#x27;: 2236.0187933721513}</td></tr>\n",
       "<tr><td>trainable_2533a_00014</td><td>{&#x27;score&#x27;: 917.9807061762747} </td></tr>\n",
       "<tr><td>trainable_2533a_00015</td><td>{&#x27;score&#x27;: 3553.0373176045264}</td></tr>\n",
       "<tr><td>trainable_2533a_00016</td><td>{&#x27;score&#x27;: 4510.309332323212} </td></tr>\n",
       "<tr><td>trainable_2533a_00017</td><td>{&#x27;score&#x27;: 454.2938193059727} </td></tr>\n",
       "<tr><td>trainable_2533a_00018</td><td>{&#x27;score&#x27;: 7969.323856229739} </td></tr>\n",
       "<tr><td>trainable_2533a_00019</td><td>{&#x27;score&#x27;: 826.0565021405824} </td></tr>\n",
       "<tr><td>trainable_2533a_00020</td><td>{&#x27;score&#x27;: 4348.51462723874}  </td></tr>\n",
       "<tr><td>trainable_2533a_00021</td><td>{&#x27;score&#x27;: 1492.5918560116975}</td></tr>\n",
       "<tr><td>trainable_2533a_00022</td><td>{&#x27;score&#x27;: 3288.7181803202366}</td></tr>\n",
       "<tr><td>trainable_2533a_00023</td><td>{&#x27;score&#x27;: 46.219041127616244}</td></tr>\n",
       "<tr><td>trainable_2533a_00024</td><td>{&#x27;score&#x27;: 1618.9523556421564}</td></tr>\n",
       "<tr><td>trainable_2533a_00025</td><td>{&#x27;score&#x27;: 557.9950251024351} </td></tr>\n",
       "<tr><td>trainable_2533a_00026</td><td>{&#x27;score&#x27;: 152.8316026439032} </td></tr>\n",
       "<tr><td>trainable_2533a_00027</td><td>{&#x27;score&#x27;: 7690.628926923802} </td></tr>\n",
       "<tr><td>trainable_2533a_00028</td><td>{&#x27;score&#x27;: 273.38889953113113}</td></tr>\n",
       "<tr><td>trainable_2533a_00029</td><td>{&#x27;score&#x27;: 4201.35360350521}  </td></tr>\n",
       "<tr><td>trainable_2533a_00030</td><td>{&#x27;score&#x27;: 7182.858083719375} </td></tr>\n",
       "<tr><td>trainable_2533a_00031</td><td>{&#x27;score&#x27;: 4857.295295191938} </td></tr>\n",
       "<tr><td>trainable_2533a_00032</td><td>{&#x27;score&#x27;: 7233.996455292845} </td></tr>\n",
       "<tr><td>trainable_2533a_00033</td><td>{&#x27;score&#x27;: 8089.122418728938} </td></tr>\n",
       "<tr><td>trainable_2533a_00034</td><td>{&#x27;score&#x27;: 1905.7101006561536}</td></tr>\n",
       "<tr><td>trainable_2533a_00035</td><td>{&#x27;score&#x27;: 1417.69289504972}  </td></tr>\n",
       "<tr><td>trainable_2533a_00036</td><td>{&#x27;score&#x27;: 2261.639359840682} </td></tr>\n",
       "<tr><td>trainable_2533a_00037</td><td>{&#x27;score&#x27;: 3919.2416769085435}</td></tr>\n",
       "<tr><td>trainable_2533a_00038</td><td>{&#x27;score&#x27;: 9691.147509686032} </td></tr>\n",
       "<tr><td>trainable_2533a_00039</td><td>{&#x27;score&#x27;: 9834.867342835883} </td></tr>\n",
       "<tr><td>trainable_2533a_00040</td><td>{&#x27;score&#x27;: 10.017575667196821}</td></tr>\n",
       "<tr><td>trainable_2533a_00041</td><td>{&#x27;score&#x27;: 33.45585121683672} </td></tr>\n",
       "<tr><td>trainable_2533a_00042</td><td>{&#x27;score&#x27;: 39.08547820469127} </td></tr>\n",
       "<tr><td>trainable_2533a_00043</td><td>{&#x27;score&#x27;: 21.37069881659245} </td></tr>\n",
       "<tr><td>trainable_2533a_00044</td><td>{&#x27;score&#x27;: 9873.356277915791} </td></tr>\n",
       "<tr><td>trainable_2533a_00045</td><td>{&#x27;score&#x27;: 6233.928733448326} </td></tr>\n",
       "<tr><td>trainable_2533a_00046</td><td>{&#x27;score&#x27;: 9784.419653393428} </td></tr>\n",
       "<tr><td>trainable_2533a_00047</td><td>{&#x27;score&#x27;: 495.4892928446066} </td></tr>\n",
       "<tr><td>trainable_2533a_00048</td><td>{&#x27;score&#x27;: 167.62735321055027}</td></tr>\n",
       "<tr><td>trainable_2533a_00049</td><td>{&#x27;score&#x27;: 1748.5014244765862}</td></tr>\n",
       "<tr><td>trainable_2533a_00050</td><td>{&#x27;score&#x27;: 508.29534483468746}</td></tr>\n",
       "<tr><td>trainable_2533a_00051</td><td>{&#x27;score&#x27;: 3749.9010902859122}</td></tr>\n",
       "<tr><td>trainable_2533a_00052</td><td>{&#x27;score&#x27;: 113.35781495925941}</td></tr>\n",
       "<tr><td>trainable_2533a_00053</td><td>{&#x27;score&#x27;: 4653.212563363065} </td></tr>\n",
       "<tr><td>trainable_2533a_00054</td><td>{&#x27;score&#x27;: 13.493170098707878}</td></tr>\n",
       "<tr><td>trainable_2533a_00055</td><td>{&#x27;score&#x27;: 6281.192492953966} </td></tr>\n",
       "<tr><td>trainable_2533a_00056</td><td>{&#x27;score&#x27;: 6899.389424209643} </td></tr>\n",
       "<tr><td>trainable_2533a_00057</td><td>{&#x27;score&#x27;: 2918.588911600601} </td></tr>\n",
       "<tr><td>trainable_2533a_00058</td><td>{&#x27;score&#x27;: 4662.4927619071195}</td></tr>\n",
       "<tr><td>trainable_2533a_00059</td><td>{&#x27;score&#x27;: 1222.188946271639} </td></tr>\n",
       "<tr><td>trainable_2533a_00060</td><td>{&#x27;score&#x27;: 3143.8732303170946}</td></tr>\n",
       "<tr><td>trainable_2533a_00061</td><td>{&#x27;score&#x27;: 8666.303033703236} </td></tr>\n",
       "<tr><td>trainable_2533a_00062</td><td>{&#x27;score&#x27;: 5710.544186770899} </td></tr>\n",
       "<tr><td>trainable_2533a_00063</td><td>{&#x27;score&#x27;: 6829.775775827101} </td></tr>\n",
       "<tr><td>trainable_2533a_00064</td><td>{&#x27;score&#x27;: 4.447132979523919} </td></tr>\n",
       "<tr><td>trainable_2533a_00065</td><td>{&#x27;score&#x27;: 211.97071354583593}</td></tr>\n",
       "<tr><td>trainable_2533a_00066</td><td>{&#x27;score&#x27;: 8216.262844665522} </td></tr>\n",
       "<tr><td>trainable_2533a_00067</td><td>{&#x27;score&#x27;: 2114.0576404671483}</td></tr>\n",
       "<tr><td>trainable_2533a_00068</td><td>{&#x27;score&#x27;: 3284.4755931448476}</td></tr>\n",
       "<tr><td>trainable_2533a_00069</td><td>{&#x27;score&#x27;: 567.9264967815477} </td></tr>\n",
       "<tr><td>trainable_2533a_00070</td><td>{&#x27;score&#x27;: 4940.003712353929} </td></tr>\n",
       "<tr><td>trainable_2533a_00071</td><td>{&#x27;score&#x27;: 3379.2999149355546}</td></tr>\n",
       "<tr><td>trainable_2533a_00072</td><td>{&#x27;score&#x27;: 5217.44082711209}  </td></tr>\n",
       "<tr><td>trainable_2533a_00073</td><td>{&#x27;score&#x27;: 6492.285129010733} </td></tr>\n",
       "<tr><td>trainable_2533a_00074</td><td>{&#x27;score&#x27;: 4181.527743371631} </td></tr>\n",
       "<tr><td>trainable_2533a_00075</td><td>{&#x27;score&#x27;: 1749.874753496361} </td></tr>\n",
       "<tr><td>trainable_2533a_00076</td><td>{&#x27;score&#x27;: 3709.0626582832147}</td></tr>\n",
       "<tr><td>trainable_2533a_00077</td><td>{&#x27;score&#x27;: 1677.3263276280816}</td></tr>\n",
       "<tr><td>trainable_2533a_00078</td><td>{&#x27;score&#x27;: 3849.021297843636} </td></tr>\n",
       "<tr><td>trainable_2533a_00079</td><td>{&#x27;score&#x27;: 3018.2860488696197}</td></tr>\n",
       "<tr><td>trainable_2533a_00080</td><td>{&#x27;score&#x27;: 4940.518902092392} </td></tr>\n",
       "<tr><td>trainable_2533a_00081</td><td>{&#x27;score&#x27;: 6923.993976765986} </td></tr>\n",
       "<tr><td>trainable_2533a_00082</td><td>{&#x27;score&#x27;: 5783.943281708876} </td></tr>\n",
       "<tr><td>trainable_2533a_00083</td><td>{&#x27;score&#x27;: 5331.372494624116} </td></tr>\n",
       "<tr><td>trainable_2533a_00084</td><td>{&#x27;score&#x27;: 650.9424288812647} </td></tr>\n",
       "<tr><td>trainable_2533a_00085</td><td>{&#x27;score&#x27;: 8527.7058804679}   </td></tr>\n",
       "<tr><td>trainable_2533a_00086</td><td>{&#x27;score&#x27;: 3785.4906948674625}</td></tr>\n",
       "<tr><td>trainable_2533a_00087</td><td>{&#x27;score&#x27;: 2110.5155535874424}</td></tr>\n",
       "<tr><td>trainable_2533a_00088</td><td>{&#x27;score&#x27;: 6518.529211921537} </td></tr>\n",
       "<tr><td>trainable_2533a_00089</td><td>{&#x27;score&#x27;: 2577.785657369457} </td></tr>\n",
       "<tr><td>trainable_2533a_00090</td><td>{&#x27;score&#x27;: 1398.1756381438972}</td></tr>\n",
       "<tr><td>trainable_2533a_00091</td><td>{&#x27;score&#x27;: 333.65446795533194}</td></tr>\n",
       "<tr><td>trainable_2533a_00092</td><td>{&#x27;score&#x27;: 3790.79436899307}  </td></tr>\n",
       "<tr><td>trainable_2533a_00093</td><td>{&#x27;score&#x27;: 8634.135240343934} </td></tr>\n",
       "<tr><td>trainable_2533a_00094</td><td>{&#x27;score&#x27;: 4987.221181345493} </td></tr>\n",
       "<tr><td>trainable_2533a_00095</td><td>{&#x27;score&#x27;: 1220.6776714460136}</td></tr>\n",
       "<tr><td>trainable_2533a_00096</td><td>{&#x27;score&#x27;: 8394.556747842058} </td></tr>\n",
       "<tr><td>trainable_2533a_00097</td><td>{&#x27;score&#x27;: 1506.084409730428} </td></tr>\n",
       "<tr><td>trainable_2533a_00098</td><td>{&#x27;score&#x27;: 8061.603145916566} </td></tr>\n",
       "<tr><td>trainable_2533a_00099</td><td>{&#x27;score&#x27;: 2170.54612897927}  </td></tr>\n",
       "</tbody>\n",
       "</table>\n",
       "</div>\n",
       "<style>\n",
       ".trialProgress {\n",
       "  display: flex;\n",
       "  flex-direction: column;\n",
       "  color: var(--jp-ui-font-color1);\n",
       "}\n",
       ".trialProgress h3 {\n",
       "  font-weight: bold;\n",
       "}\n",
       ".trialProgress td {\n",
       "  white-space: nowrap;\n",
       "}\n",
       "</style>\n"
      ],
      "text/plain": [
       "<IPython.core.display.HTML object>"
      ]
     },
     "metadata": {},
     "output_type": "display_data"
    },
    {
     "name": "stderr",
     "output_type": "stream",
     "text": [
      "2024-11-30 00:01:12,070\tINFO tune.py:1009 -- Wrote the latest version of all result files and experiment state to '/home/lasse/ray_minicourse/lesson_2/ray_results/nb_1/random_agent' in 0.0336s.\n",
      "2024-11-30 00:01:12,084\tINFO tune.py:1041 -- Total run time: 27.74 seconds (26.37 seconds for the tuning loop).\n"
     ]
    }
   ],
   "source": [
    "store_results_path = str(Path(\"./ray_results/\").resolve()) + \"/nb_1/\"\n",
    "agent_name = \"random_agent\"\n",
    "tuner = tune.Tuner(\n",
    "    trainable,  # Here, you pass our trainable function\n",
    "    param_space=search_space,\n",
    "    run_config=air.RunConfig(\n",
    "        verbose=2,\n",
    "        storage_path=store_results_path,\n",
    "        name=agent_name,\n",
    "    ),\n",
    "    tune_config=tune.TuneConfig(\n",
    "        num_samples=100\n",
    "    ),  # Running 100 different trials (combinations of hyperparameters)\n",
    ")\n",
    "results = tuner.fit()"
   ]
  },
  {
   "cell_type": "markdown",
   "metadata": {},
   "source": [
    "We can check the best (minimum) obtained result using:"
   ]
  },
  {
   "cell_type": "code",
   "execution_count": 7,
   "metadata": {},
   "outputs": [
    {
     "name": "stdout",
     "output_type": "stream",
     "text": [
      "Best obtained parameters considering random samples: {'a': 2.1088226524589304, 'b': 0}, score: 4.447132979523919\n"
     ]
    }
   ],
   "source": [
    "print(\n",
    "    f\"Best obtained parameters considering random samples: {results.get_best_result(metric='score/score', mode='min').config}, score: {objective(results.get_best_result(metric='score/score', mode='min').config)['score']}\"\n",
    ")"
   ]
  },
  {
   "cell_type": "markdown",
   "metadata": {},
   "source": [
    "Remember we are just sampling random values and testing them in the function objective."
   ]
  },
  {
   "cell_type": "markdown",
   "metadata": {},
   "source": [
    "Let's check the tensorboard files containing the average score obtained by each trial during the experiment (remembering each trial has 100 steps). Try looking at the different metrics, focusing on the `ray/tune/score` results which contain the score values obtained by each Trial.\n"
   ]
  },
  {
   "cell_type": "code",
   "execution_count": 8,
   "metadata": {},
   "outputs": [
    {
     "data": {
      "text/html": [
       "\n",
       "      <iframe id=\"tensorboard-frame-2b82234c3df93ec7\" width=\"100%\" height=\"800\" frameborder=\"0\">\n",
       "      </iframe>\n",
       "      <script>\n",
       "        (function() {\n",
       "          const frame = document.getElementById(\"tensorboard-frame-2b82234c3df93ec7\");\n",
       "          const url = new URL(\"/\", window.location);\n",
       "          const port = 6006;\n",
       "          if (port) {\n",
       "            url.port = port;\n",
       "          }\n",
       "          frame.src = url;\n",
       "        })();\n",
       "      </script>\n",
       "    "
      ],
      "text/plain": [
       "<IPython.core.display.HTML object>"
      ]
     },
     "metadata": {},
     "output_type": "display_data"
    }
   ],
   "source": [
    "%load_ext tensorboard\n",
    "%tensorboard --logdir ray_results/nb_1"
   ]
  },
  {
   "cell_type": "markdown",
   "metadata": {},
   "source": [
    "The results above for `ray/tune/score/score` shows the trial values obtained during 100 steps, It is important to emphasize that the score value does not change for each trial over the steps since in each trial the parameters $a$ and $b$ are kept the same."
   ]
  }
 ],
 "metadata": {
  "kernelspec": {
   "display_name": "ray_minicourse-PTDOXG61",
   "language": "python",
   "name": "python3"
  },
  "language_info": {
   "codemirror_mode": {
    "name": "ipython",
    "version": 3
   },
   "file_extension": ".py",
   "mimetype": "text/x-python",
   "name": "python",
   "nbconvert_exporter": "python",
   "pygments_lexer": "ipython3",
   "version": "3.10.12"
  }
 },
 "nbformat": 4,
 "nbformat_minor": 2
}
