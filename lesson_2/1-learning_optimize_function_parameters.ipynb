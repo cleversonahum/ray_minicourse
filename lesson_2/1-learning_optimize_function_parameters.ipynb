{
 "cells": [
  {
   "cell_type": "markdown",
   "metadata": {},
   "source": [
    "# Learning to optimize the $a$ and $b$ parameters of a function $a^2+b$ to minimize it"
   ]
  },
  {
   "cell_type": "code",
   "execution_count": 2,
   "metadata": {},
   "outputs": [],
   "source": [
    "from pathlib import Path\n",
    "from ray import tune, air"
   ]
  },
  {
   "cell_type": "markdown",
   "metadata": {},
   "source": [
    "The objective function represents the function we want to maximize or minimize. The config parameter should contain the parameters that we want to find the best possible value. In the following example, we want to find the $a$ and $b$ values that minimize the given function."
   ]
  },
  {
   "cell_type": "code",
   "execution_count": 3,
   "metadata": {},
   "outputs": [],
   "source": [
    "def objective(config):\n",
    "    score = config[\"a\"] ** 2 + config[\"b\"]\n",
    "    return {\"score\": score}"
   ]
  },
  {
   "cell_type": "markdown",
   "metadata": {},
   "source": [
    "In the following cell, we show the score values obtained for different values of $a$ and $b$ to illustrate the objective function process."
   ]
  },
  {
   "cell_type": "code",
   "execution_count": 4,
   "metadata": {},
   "outputs": [
    {
     "name": "stdout",
     "output_type": "stream",
     "text": [
      "a=5, b=7, result=32\n",
      "a=-4, b=-1, result=15\n",
      "a=7, b=5, result=54\n"
     ]
    }
   ],
   "source": [
    "config_example1 = {\"a\": 5, \"b\": 7}\n",
    "print(\n",
    "    f\"a={config_example1['a']}, b={config_example1['b']}, result={objective(config_example1)['score']}\"\n",
    ")\n",
    "config_example2 = {\"a\": -4, \"b\": -1}\n",
    "print(\n",
    "    f\"a={config_example2['a']}, b={config_example2['b']}, result={objective(config_example2)['score']}\"\n",
    ")\n",
    "config_example3 = {\"a\": 7, \"b\": 5}\n",
    "print(\n",
    "    f\"a={config_example3['a']}, b={config_example3['b']}, result={objective(config_example3)['score']}\"\n",
    ")"
   ]
  },
  {
   "cell_type": "markdown",
   "metadata": {},
   "source": [
    "We need to define the search space of the variables we want to optimize. In this case, we have two variables, $a$ and $b$, and we want to optimize them. We can define the search space as follows:"
   ]
  },
  {
   "cell_type": "code",
   "execution_count": 5,
   "metadata": {},
   "outputs": [
    {
     "name": "stdout",
     "output_type": "stream",
     "text": [
      "Variable a sample:60.37564198760494\n",
      "Variable b sample:0\n"
     ]
    }
   ],
   "source": [
    "search_space = {\"a\": tune.uniform(0, 100), \"b\": tune.choice([0, 10, 500, 21])}\n",
    "\n",
    "print(f\"Variable a sample:{search_space['a'].sample()}\")\n",
    "print(f\"Variable b sample:{search_space['b'].sample()}\")\n",
    "\n",
    "# Execute this cell multiple times to see different samples"
   ]
  },
  {
   "cell_type": "markdown",
   "metadata": {},
   "source": [
    "In this case, the variable $a$ can contain a value between 0 and 99 distributed with a uniform probability, and $b$ is a chosen value between the options $0$, $10$, $500$, and $21$."
   ]
  },
  {
   "cell_type": "markdown",
   "metadata": {},
   "source": [
    "There are different search space types available in the [Ray Tune API](https://docs.ray.io/en/latest/tune/api/search_space.html) to utilize according with the needs."
   ]
  },
  {
   "cell_type": "markdown",
   "metadata": {},
   "source": [
    "## Configuring/running the Tuner to optimize the function considering the defined parameter space"
   ]
  },
  {
   "cell_type": "markdown",
   "metadata": {},
   "source": [
    "It is the same tune.Tuner structure we used in the [lesson 1 activity 2](../lesson_1/2-simple_ppo_agent_to_environment.ipynb) to implement the PPO Rl agent, but here we are utilizing it without considering RL. Here, we don't have the concept of episode since we are not using RL and each Trial (experiment considering a combination of the optimized parameters) has only one sample. **Executing the cell below, we obtain a summary of the obtained results by randomly sampling parameter values using the defined search spaces**."
   ]
  },
  {
   "cell_type": "code",
   "execution_count": 7,
   "metadata": {},
   "outputs": [
    {
     "name": "stderr",
     "output_type": "stream",
     "text": [
      "2024-11-29 23:06:41,694\tINFO tune.py:616 -- [output] This uses the legacy output and progress reporter, as Jupyter notebooks are not supported by the new engine, yet. For more information, please see https://github.com/ray-project/ray/issues/36949\n"
     ]
    },
    {
     "data": {
      "text/html": [
       "<div class=\"tuneStatus\">\n",
       "  <div style=\"display: flex;flex-direction: row\">\n",
       "    <div style=\"display: flex;flex-direction: column;\">\n",
       "      <h3>Tune Status</h3>\n",
       "      <table>\n",
       "<tbody>\n",
       "<tr><td>Current time:</td><td>2024-11-29 23:06:57</td></tr>\n",
       "<tr><td>Running for: </td><td>00:00:15.34        </td></tr>\n",
       "<tr><td>Memory:      </td><td>3.7/23.9 GiB       </td></tr>\n",
       "</tbody>\n",
       "</table>\n",
       "    </div>\n",
       "    <div class=\"vDivider\"></div>\n",
       "    <div class=\"systemInfo\">\n",
       "      <h3>System Info</h3>\n",
       "      Using FIFO scheduling algorithm.<br>Logical resource usage: 1.0/16 CPUs, 0/0 GPUs\n",
       "    </div>\n",
       "    \n",
       "  </div>\n",
       "  <div class=\"hDivider\"></div>\n",
       "  <div class=\"trialStatus\">\n",
       "    <h3>Trial Status</h3>\n",
       "    <table>\n",
       "<thead>\n",
       "<tr><th>Trial name           </th><th>status    </th><th>loc                  </th><th style=\"text-align: right;\">       a</th><th style=\"text-align: right;\">  b</th><th style=\"text-align: right;\">  iter</th><th style=\"text-align: right;\">  total time (s)</th><th style=\"text-align: right;\">      score</th></tr>\n",
       "</thead>\n",
       "<tbody>\n",
       "<tr><td>objective_986eb_00000</td><td>TERMINATED</td><td>200.239.93.233:441293</td><td style=\"text-align: right;\">44.5602 </td><td style=\"text-align: right;\"> 10</td><td style=\"text-align: right;\">     1</td><td style=\"text-align: right;\">     0.00378323 </td><td style=\"text-align: right;\"> 1995.61   </td></tr>\n",
       "<tr><td>objective_986eb_00001</td><td>TERMINATED</td><td>200.239.93.233:441294</td><td style=\"text-align: right;\">45.3174 </td><td style=\"text-align: right;\"> 21</td><td style=\"text-align: right;\">     1</td><td style=\"text-align: right;\">     0.00434995 </td><td style=\"text-align: right;\"> 2074.66   </td></tr>\n",
       "<tr><td>objective_986eb_00002</td><td>TERMINATED</td><td>200.239.93.233:441295</td><td style=\"text-align: right;\">60.7008 </td><td style=\"text-align: right;\"> 21</td><td style=\"text-align: right;\">     1</td><td style=\"text-align: right;\">     0.00034976 </td><td style=\"text-align: right;\"> 3705.59   </td></tr>\n",
       "<tr><td>objective_986eb_00003</td><td>TERMINATED</td><td>200.239.93.233:441298</td><td style=\"text-align: right;\">79.215  </td><td style=\"text-align: right;\"> 21</td><td style=\"text-align: right;\">     1</td><td style=\"text-align: right;\">     0.000437498</td><td style=\"text-align: right;\"> 6296.02   </td></tr>\n",
       "<tr><td>objective_986eb_00004</td><td>TERMINATED</td><td>200.239.93.233:441297</td><td style=\"text-align: right;\">31.3767 </td><td style=\"text-align: right;\">  0</td><td style=\"text-align: right;\">     1</td><td style=\"text-align: right;\">     0.000330687</td><td style=\"text-align: right;\">  984.496  </td></tr>\n",
       "<tr><td>objective_986eb_00005</td><td>TERMINATED</td><td>200.239.93.233:441296</td><td style=\"text-align: right;\">64.6036 </td><td style=\"text-align: right;\">500</td><td style=\"text-align: right;\">     1</td><td style=\"text-align: right;\">     0.000328302</td><td style=\"text-align: right;\"> 4673.63   </td></tr>\n",
       "<tr><td>objective_986eb_00006</td><td>TERMINATED</td><td>200.239.93.233:441299</td><td style=\"text-align: right;\">95.172  </td><td style=\"text-align: right;\">500</td><td style=\"text-align: right;\">     1</td><td style=\"text-align: right;\">     0.000333786</td><td style=\"text-align: right;\"> 9557.71   </td></tr>\n",
       "<tr><td>objective_986eb_00007</td><td>TERMINATED</td><td>200.239.93.233:441300</td><td style=\"text-align: right;\">37.6027 </td><td style=\"text-align: right;\">500</td><td style=\"text-align: right;\">     1</td><td style=\"text-align: right;\">     0.000344753</td><td style=\"text-align: right;\"> 1913.96   </td></tr>\n",
       "<tr><td>objective_986eb_00008</td><td>TERMINATED</td><td>200.239.93.233:441301</td><td style=\"text-align: right;\">92.5968 </td><td style=\"text-align: right;\">  0</td><td style=\"text-align: right;\">     1</td><td style=\"text-align: right;\">     0.000422239</td><td style=\"text-align: right;\"> 8574.17   </td></tr>\n",
       "<tr><td>objective_986eb_00009</td><td>TERMINATED</td><td>200.239.93.233:441302</td><td style=\"text-align: right;\">53.7695 </td><td style=\"text-align: right;\">500</td><td style=\"text-align: right;\">     1</td><td style=\"text-align: right;\">     0.000395775</td><td style=\"text-align: right;\"> 3391.16   </td></tr>\n",
       "<tr><td>objective_986eb_00010</td><td>TERMINATED</td><td>200.239.93.233:441303</td><td style=\"text-align: right;\">50.3964 </td><td style=\"text-align: right;\"> 21</td><td style=\"text-align: right;\">     1</td><td style=\"text-align: right;\">     0.00121999 </td><td style=\"text-align: right;\"> 2560.79   </td></tr>\n",
       "<tr><td>objective_986eb_00011</td><td>TERMINATED</td><td>200.239.93.233:441304</td><td style=\"text-align: right;\">10.056  </td><td style=\"text-align: right;\">500</td><td style=\"text-align: right;\">     1</td><td style=\"text-align: right;\">     0.000326157</td><td style=\"text-align: right;\">  601.122  </td></tr>\n",
       "<tr><td>objective_986eb_00012</td><td>TERMINATED</td><td>200.239.93.233:441305</td><td style=\"text-align: right;\">44.7075 </td><td style=\"text-align: right;\"> 10</td><td style=\"text-align: right;\">     1</td><td style=\"text-align: right;\">     0.000314951</td><td style=\"text-align: right;\"> 2008.76   </td></tr>\n",
       "<tr><td>objective_986eb_00013</td><td>TERMINATED</td><td>200.239.93.233:441306</td><td style=\"text-align: right;\">58.1329 </td><td style=\"text-align: right;\">  0</td><td style=\"text-align: right;\">     1</td><td style=\"text-align: right;\">     0.000316858</td><td style=\"text-align: right;\"> 3379.43   </td></tr>\n",
       "<tr><td>objective_986eb_00014</td><td>TERMINATED</td><td>200.239.93.233:441308</td><td style=\"text-align: right;\">95.413  </td><td style=\"text-align: right;\">500</td><td style=\"text-align: right;\">     1</td><td style=\"text-align: right;\">     0.000296116</td><td style=\"text-align: right;\"> 9603.64   </td></tr>\n",
       "<tr><td>objective_986eb_00015</td><td>TERMINATED</td><td>200.239.93.233:441307</td><td style=\"text-align: right;\">33.1358 </td><td style=\"text-align: right;\">  0</td><td style=\"text-align: right;\">     1</td><td style=\"text-align: right;\">     0.000282764</td><td style=\"text-align: right;\"> 1097.98   </td></tr>\n",
       "<tr><td>objective_986eb_00016</td><td>TERMINATED</td><td>200.239.93.233:442810</td><td style=\"text-align: right;\">15.365  </td><td style=\"text-align: right;\"> 10</td><td style=\"text-align: right;\">     1</td><td style=\"text-align: right;\">     0.00511122 </td><td style=\"text-align: right;\">  246.083  </td></tr>\n",
       "<tr><td>objective_986eb_00017</td><td>TERMINATED</td><td>200.239.93.233:442817</td><td style=\"text-align: right;\">46.8478 </td><td style=\"text-align: right;\">500</td><td style=\"text-align: right;\">     1</td><td style=\"text-align: right;\">     0.0061841  </td><td style=\"text-align: right;\"> 2694.72   </td></tr>\n",
       "<tr><td>objective_986eb_00018</td><td>TERMINATED</td><td>200.239.93.233:442813</td><td style=\"text-align: right;\">41.6526 </td><td style=\"text-align: right;\"> 10</td><td style=\"text-align: right;\">     1</td><td style=\"text-align: right;\">     0.011251   </td><td style=\"text-align: right;\"> 1744.94   </td></tr>\n",
       "<tr><td>objective_986eb_00019</td><td>TERMINATED</td><td>200.239.93.233:442815</td><td style=\"text-align: right;\">61.391  </td><td style=\"text-align: right;\"> 21</td><td style=\"text-align: right;\">     1</td><td style=\"text-align: right;\">     0.000362635</td><td style=\"text-align: right;\"> 3789.85   </td></tr>\n",
       "<tr><td>objective_986eb_00020</td><td>TERMINATED</td><td>200.239.93.233:442818</td><td style=\"text-align: right;\">52.4214 </td><td style=\"text-align: right;\"> 21</td><td style=\"text-align: right;\">     1</td><td style=\"text-align: right;\">     0.000330925</td><td style=\"text-align: right;\"> 2769      </td></tr>\n",
       "<tr><td>objective_986eb_00021</td><td>TERMINATED</td><td>200.239.93.233:442825</td><td style=\"text-align: right;\">41.0563 </td><td style=\"text-align: right;\"> 21</td><td style=\"text-align: right;\">     1</td><td style=\"text-align: right;\">     0.0135915  </td><td style=\"text-align: right;\"> 1706.62   </td></tr>\n",
       "<tr><td>objective_986eb_00022</td><td>TERMINATED</td><td>200.239.93.233:442857</td><td style=\"text-align: right;\">65.4731 </td><td style=\"text-align: right;\">  0</td><td style=\"text-align: right;\">     1</td><td style=\"text-align: right;\">     0.00770831 </td><td style=\"text-align: right;\"> 4286.73   </td></tr>\n",
       "<tr><td>objective_986eb_00023</td><td>TERMINATED</td><td>200.239.93.233:442871</td><td style=\"text-align: right;\">41.8348 </td><td style=\"text-align: right;\"> 21</td><td style=\"text-align: right;\">     1</td><td style=\"text-align: right;\">     0.00032711 </td><td style=\"text-align: right;\"> 1771.15   </td></tr>\n",
       "<tr><td>objective_986eb_00024</td><td>TERMINATED</td><td>200.239.93.233:442872</td><td style=\"text-align: right;\">20.0975 </td><td style=\"text-align: right;\">500</td><td style=\"text-align: right;\">     1</td><td style=\"text-align: right;\">     0.00143766 </td><td style=\"text-align: right;\">  903.908  </td></tr>\n",
       "<tr><td>objective_986eb_00025</td><td>TERMINATED</td><td>200.239.93.233:442873</td><td style=\"text-align: right;\">64.7334 </td><td style=\"text-align: right;\"> 10</td><td style=\"text-align: right;\">     1</td><td style=\"text-align: right;\">     0.000503778</td><td style=\"text-align: right;\"> 4200.42   </td></tr>\n",
       "<tr><td>objective_986eb_00026</td><td>TERMINATED</td><td>200.239.93.233:442945</td><td style=\"text-align: right;\">90.2106 </td><td style=\"text-align: right;\">  0</td><td style=\"text-align: right;\">     1</td><td style=\"text-align: right;\">     0.0039773  </td><td style=\"text-align: right;\"> 8137.94   </td></tr>\n",
       "<tr><td>objective_986eb_00027</td><td>TERMINATED</td><td>200.239.93.233:443040</td><td style=\"text-align: right;\">27.3337 </td><td style=\"text-align: right;\"> 21</td><td style=\"text-align: right;\">     1</td><td style=\"text-align: right;\">     0.000549555</td><td style=\"text-align: right;\">  768.134  </td></tr>\n",
       "<tr><td>objective_986eb_00028</td><td>TERMINATED</td><td>200.239.93.233:443067</td><td style=\"text-align: right;\">16.277  </td><td style=\"text-align: right;\"> 21</td><td style=\"text-align: right;\">     1</td><td style=\"text-align: right;\">     0.00107336 </td><td style=\"text-align: right;\">  285.941  </td></tr>\n",
       "<tr><td>objective_986eb_00029</td><td>TERMINATED</td><td>200.239.93.233:443077</td><td style=\"text-align: right;\">67.335  </td><td style=\"text-align: right;\"> 10</td><td style=\"text-align: right;\">     1</td><td style=\"text-align: right;\">     0.0027144  </td><td style=\"text-align: right;\"> 4544      </td></tr>\n",
       "<tr><td>objective_986eb_00030</td><td>TERMINATED</td><td>200.239.93.233:443078</td><td style=\"text-align: right;\"> 6.84473</td><td style=\"text-align: right;\"> 10</td><td style=\"text-align: right;\">     1</td><td style=\"text-align: right;\">     0.000339746</td><td style=\"text-align: right;\">   56.8503 </td></tr>\n",
       "<tr><td>objective_986eb_00031</td><td>TERMINATED</td><td>200.239.93.233:443083</td><td style=\"text-align: right;\"> 7.47391</td><td style=\"text-align: right;\">500</td><td style=\"text-align: right;\">     1</td><td style=\"text-align: right;\">     0.000360012</td><td style=\"text-align: right;\">  555.859  </td></tr>\n",
       "<tr><td>objective_986eb_00032</td><td>TERMINATED</td><td>200.239.93.233:444369</td><td style=\"text-align: right;\">14.5275 </td><td style=\"text-align: right;\">  0</td><td style=\"text-align: right;\">     1</td><td style=\"text-align: right;\">     0.000640154</td><td style=\"text-align: right;\">  211.049  </td></tr>\n",
       "<tr><td>objective_986eb_00033</td><td>TERMINATED</td><td>200.239.93.233:444482</td><td style=\"text-align: right;\">58.1494 </td><td style=\"text-align: right;\"> 10</td><td style=\"text-align: right;\">     1</td><td style=\"text-align: right;\">     0.000310183</td><td style=\"text-align: right;\"> 3391.35   </td></tr>\n",
       "<tr><td>objective_986eb_00034</td><td>TERMINATED</td><td>200.239.93.233:444491</td><td style=\"text-align: right;\">33.4669 </td><td style=\"text-align: right;\"> 21</td><td style=\"text-align: right;\">     1</td><td style=\"text-align: right;\">     0.000348568</td><td style=\"text-align: right;\"> 1141.04   </td></tr>\n",
       "<tr><td>objective_986eb_00035</td><td>TERMINATED</td><td>200.239.93.233:444543</td><td style=\"text-align: right;\">26.4167 </td><td style=\"text-align: right;\"> 10</td><td style=\"text-align: right;\">     1</td><td style=\"text-align: right;\">     0.000339031</td><td style=\"text-align: right;\">  707.842  </td></tr>\n",
       "<tr><td>objective_986eb_00036</td><td>TERMINATED</td><td>200.239.93.233:444550</td><td style=\"text-align: right;\"> 1.28275</td><td style=\"text-align: right;\">500</td><td style=\"text-align: right;\">     1</td><td style=\"text-align: right;\">     0.000331163</td><td style=\"text-align: right;\">  501.645  </td></tr>\n",
       "<tr><td>objective_986eb_00037</td><td>TERMINATED</td><td>200.239.93.233:444567</td><td style=\"text-align: right;\">49.5792 </td><td style=\"text-align: right;\"> 21</td><td style=\"text-align: right;\">     1</td><td style=\"text-align: right;\">     0.000336885</td><td style=\"text-align: right;\"> 2479.1    </td></tr>\n",
       "<tr><td>objective_986eb_00038</td><td>TERMINATED</td><td>200.239.93.233:444568</td><td style=\"text-align: right;\">98.3609 </td><td style=\"text-align: right;\">  0</td><td style=\"text-align: right;\">     1</td><td style=\"text-align: right;\">     0.000343323</td><td style=\"text-align: right;\"> 9674.87   </td></tr>\n",
       "<tr><td>objective_986eb_00039</td><td>TERMINATED</td><td>200.239.93.233:444569</td><td style=\"text-align: right;\">50.3184 </td><td style=\"text-align: right;\"> 10</td><td style=\"text-align: right;\">     1</td><td style=\"text-align: right;\">     0.000338316</td><td style=\"text-align: right;\"> 2541.94   </td></tr>\n",
       "<tr><td>objective_986eb_00040</td><td>TERMINATED</td><td>200.239.93.233:444574</td><td style=\"text-align: right;\">11.5302 </td><td style=\"text-align: right;\">500</td><td style=\"text-align: right;\">     1</td><td style=\"text-align: right;\">     0.000356913</td><td style=\"text-align: right;\">  632.945  </td></tr>\n",
       "<tr><td>objective_986eb_00041</td><td>TERMINATED</td><td>200.239.93.233:444575</td><td style=\"text-align: right;\">15.8203 </td><td style=\"text-align: right;\"> 10</td><td style=\"text-align: right;\">     1</td><td style=\"text-align: right;\">     0.000339031</td><td style=\"text-align: right;\">  260.282  </td></tr>\n",
       "<tr><td>objective_986eb_00042</td><td>TERMINATED</td><td>200.239.93.233:444580</td><td style=\"text-align: right;\">64.9833 </td><td style=\"text-align: right;\"> 21</td><td style=\"text-align: right;\">     1</td><td style=\"text-align: right;\">     0.00161886 </td><td style=\"text-align: right;\"> 4243.83   </td></tr>\n",
       "<tr><td>objective_986eb_00043</td><td>TERMINATED</td><td>200.239.93.233:444614</td><td style=\"text-align: right;\">53.4724 </td><td style=\"text-align: right;\"> 10</td><td style=\"text-align: right;\">     1</td><td style=\"text-align: right;\">     0.00510073 </td><td style=\"text-align: right;\"> 2869.29   </td></tr>\n",
       "<tr><td>objective_986eb_00044</td><td>TERMINATED</td><td>200.239.93.233:444615</td><td style=\"text-align: right;\">59.8524 </td><td style=\"text-align: right;\">500</td><td style=\"text-align: right;\">     1</td><td style=\"text-align: right;\">     0.00390673 </td><td style=\"text-align: right;\"> 4082.31   </td></tr>\n",
       "<tr><td>objective_986eb_00045</td><td>TERMINATED</td><td>200.239.93.233:444616</td><td style=\"text-align: right;\">80.9221 </td><td style=\"text-align: right;\">500</td><td style=\"text-align: right;\">     1</td><td style=\"text-align: right;\">     0.000344515</td><td style=\"text-align: right;\"> 7048.39   </td></tr>\n",
       "<tr><td>objective_986eb_00046</td><td>TERMINATED</td><td>200.239.93.233:444617</td><td style=\"text-align: right;\">97.8559 </td><td style=\"text-align: right;\"> 10</td><td style=\"text-align: right;\">     1</td><td style=\"text-align: right;\">     0.000408411</td><td style=\"text-align: right;\"> 9585.78   </td></tr>\n",
       "<tr><td>objective_986eb_00047</td><td>TERMINATED</td><td>200.239.93.233:444618</td><td style=\"text-align: right;\">85.6456 </td><td style=\"text-align: right;\">  0</td><td style=\"text-align: right;\">     1</td><td style=\"text-align: right;\">     0.00030899 </td><td style=\"text-align: right;\"> 7335.17   </td></tr>\n",
       "<tr><td>objective_986eb_00048</td><td>TERMINATED</td><td>200.239.93.233:445464</td><td style=\"text-align: right;\">56.6784 </td><td style=\"text-align: right;\"> 10</td><td style=\"text-align: right;\">     1</td><td style=\"text-align: right;\">     0.000359297</td><td style=\"text-align: right;\"> 3222.44   </td></tr>\n",
       "<tr><td>objective_986eb_00049</td><td>TERMINATED</td><td>200.239.93.233:445465</td><td style=\"text-align: right;\">11.8208 </td><td style=\"text-align: right;\"> 21</td><td style=\"text-align: right;\">     1</td><td style=\"text-align: right;\">     0.000352859</td><td style=\"text-align: right;\">  160.732  </td></tr>\n",
       "<tr><td>objective_986eb_00050</td><td>TERMINATED</td><td>200.239.93.233:445466</td><td style=\"text-align: right;\">66.509  </td><td style=\"text-align: right;\"> 21</td><td style=\"text-align: right;\">     1</td><td style=\"text-align: right;\">     0.000358582</td><td style=\"text-align: right;\"> 4444.44   </td></tr>\n",
       "<tr><td>objective_986eb_00051</td><td>TERMINATED</td><td>200.239.93.233:445467</td><td style=\"text-align: right;\"> 1.0568 </td><td style=\"text-align: right;\"> 10</td><td style=\"text-align: right;\">     1</td><td style=\"text-align: right;\">     0.000380516</td><td style=\"text-align: right;\">   11.1168 </td></tr>\n",
       "<tr><td>objective_986eb_00052</td><td>TERMINATED</td><td>200.239.93.233:445468</td><td style=\"text-align: right;\">29.9023 </td><td style=\"text-align: right;\">500</td><td style=\"text-align: right;\">     1</td><td style=\"text-align: right;\">     0.000357628</td><td style=\"text-align: right;\"> 1394.15   </td></tr>\n",
       "<tr><td>objective_986eb_00053</td><td>TERMINATED</td><td>200.239.93.233:445469</td><td style=\"text-align: right;\">32.5393 </td><td style=\"text-align: right;\"> 21</td><td style=\"text-align: right;\">     1</td><td style=\"text-align: right;\">     0.000301361</td><td style=\"text-align: right;\"> 1079.81   </td></tr>\n",
       "<tr><td>objective_986eb_00054</td><td>TERMINATED</td><td>200.239.93.233:445470</td><td style=\"text-align: right;\">44.4138 </td><td style=\"text-align: right;\">500</td><td style=\"text-align: right;\">     1</td><td style=\"text-align: right;\">     0.000298977</td><td style=\"text-align: right;\"> 2472.59   </td></tr>\n",
       "<tr><td>objective_986eb_00055</td><td>TERMINATED</td><td>200.239.93.233:445471</td><td style=\"text-align: right;\">58.5179 </td><td style=\"text-align: right;\"> 10</td><td style=\"text-align: right;\">     1</td><td style=\"text-align: right;\">     0.000326872</td><td style=\"text-align: right;\"> 3434.35   </td></tr>\n",
       "<tr><td>objective_986eb_00056</td><td>TERMINATED</td><td>200.239.93.233:445472</td><td style=\"text-align: right;\">25.4881 </td><td style=\"text-align: right;\">  0</td><td style=\"text-align: right;\">     1</td><td style=\"text-align: right;\">     0.000320435</td><td style=\"text-align: right;\">  649.642  </td></tr>\n",
       "<tr><td>objective_986eb_00057</td><td>TERMINATED</td><td>200.239.93.233:445473</td><td style=\"text-align: right;\">56.4331 </td><td style=\"text-align: right;\"> 10</td><td style=\"text-align: right;\">     1</td><td style=\"text-align: right;\">     0.000313997</td><td style=\"text-align: right;\"> 3194.69   </td></tr>\n",
       "<tr><td>objective_986eb_00058</td><td>TERMINATED</td><td>200.239.93.233:445474</td><td style=\"text-align: right;\">59.5099 </td><td style=\"text-align: right;\"> 10</td><td style=\"text-align: right;\">     1</td><td style=\"text-align: right;\">     0.000345945</td><td style=\"text-align: right;\"> 3551.42   </td></tr>\n",
       "<tr><td>objective_986eb_00059</td><td>TERMINATED</td><td>200.239.93.233:446137</td><td style=\"text-align: right;\">44.2452 </td><td style=\"text-align: right;\">  0</td><td style=\"text-align: right;\">     1</td><td style=\"text-align: right;\">     0.000398397</td><td style=\"text-align: right;\"> 1957.64   </td></tr>\n",
       "<tr><td>objective_986eb_00060</td><td>TERMINATED</td><td>200.239.93.233:446138</td><td style=\"text-align: right;\"> 2.78767</td><td style=\"text-align: right;\">  0</td><td style=\"text-align: right;\">     1</td><td style=\"text-align: right;\">     0.000344515</td><td style=\"text-align: right;\">    7.77111</td></tr>\n",
       "<tr><td>objective_986eb_00061</td><td>TERMINATED</td><td>200.239.93.233:446139</td><td style=\"text-align: right;\">59.8616 </td><td style=\"text-align: right;\">500</td><td style=\"text-align: right;\">     1</td><td style=\"text-align: right;\">     0.000313044</td><td style=\"text-align: right;\"> 4083.41   </td></tr>\n",
       "<tr><td>objective_986eb_00062</td><td>TERMINATED</td><td>200.239.93.233:446141</td><td style=\"text-align: right;\">53.5796 </td><td style=\"text-align: right;\">  0</td><td style=\"text-align: right;\">     1</td><td style=\"text-align: right;\">     0.00127554 </td><td style=\"text-align: right;\"> 2870.78   </td></tr>\n",
       "<tr><td>objective_986eb_00063</td><td>TERMINATED</td><td>200.239.93.233:446140</td><td style=\"text-align: right;\">70.9394 </td><td style=\"text-align: right;\">500</td><td style=\"text-align: right;\">     1</td><td style=\"text-align: right;\">     0.000276327</td><td style=\"text-align: right;\"> 5532.4    </td></tr>\n",
       "<tr><td>objective_986eb_00064</td><td>TERMINATED</td><td>200.239.93.233:446142</td><td style=\"text-align: right;\"> 5.95056</td><td style=\"text-align: right;\"> 10</td><td style=\"text-align: right;\">     1</td><td style=\"text-align: right;\">     0.000324249</td><td style=\"text-align: right;\">   45.4091 </td></tr>\n",
       "<tr><td>objective_986eb_00065</td><td>TERMINATED</td><td>200.239.93.233:446143</td><td style=\"text-align: right;\">72.1266 </td><td style=\"text-align: right;\">  0</td><td style=\"text-align: right;\">     1</td><td style=\"text-align: right;\">     0.000303507</td><td style=\"text-align: right;\"> 5202.24   </td></tr>\n",
       "<tr><td>objective_986eb_00066</td><td>TERMINATED</td><td>200.239.93.233:446144</td><td style=\"text-align: right;\">17.6462 </td><td style=\"text-align: right;\">  0</td><td style=\"text-align: right;\">     1</td><td style=\"text-align: right;\">     0.000329971</td><td style=\"text-align: right;\">  311.389  </td></tr>\n",
       "<tr><td>objective_986eb_00067</td><td>TERMINATED</td><td>200.239.93.233:446145</td><td style=\"text-align: right;\">49.9131 </td><td style=\"text-align: right;\"> 21</td><td style=\"text-align: right;\">     1</td><td style=\"text-align: right;\">     0.000343323</td><td style=\"text-align: right;\"> 2512.32   </td></tr>\n",
       "<tr><td>objective_986eb_00068</td><td>TERMINATED</td><td>200.239.93.233:446146</td><td style=\"text-align: right;\">41.3984 </td><td style=\"text-align: right;\">500</td><td style=\"text-align: right;\">     1</td><td style=\"text-align: right;\">     0.00034523 </td><td style=\"text-align: right;\"> 2213.83   </td></tr>\n",
       "<tr><td>objective_986eb_00069</td><td>TERMINATED</td><td>200.239.93.233:446147</td><td style=\"text-align: right;\">49.0785 </td><td style=\"text-align: right;\"> 10</td><td style=\"text-align: right;\">     1</td><td style=\"text-align: right;\">     0.000393629</td><td style=\"text-align: right;\"> 2418.69   </td></tr>\n",
       "<tr><td>objective_986eb_00070</td><td>TERMINATED</td><td>200.239.93.233:446148</td><td style=\"text-align: right;\">79.4986 </td><td style=\"text-align: right;\">  0</td><td style=\"text-align: right;\">     1</td><td style=\"text-align: right;\">     0.000403643</td><td style=\"text-align: right;\"> 6320.03   </td></tr>\n",
       "<tr><td>objective_986eb_00071</td><td>TERMINATED</td><td>200.239.93.233:446149</td><td style=\"text-align: right;\">15.0814 </td><td style=\"text-align: right;\"> 21</td><td style=\"text-align: right;\">     1</td><td style=\"text-align: right;\">     0.000356913</td><td style=\"text-align: right;\">  248.45   </td></tr>\n",
       "<tr><td>objective_986eb_00072</td><td>TERMINATED</td><td>200.239.93.233:446150</td><td style=\"text-align: right;\">61.856  </td><td style=\"text-align: right;\">500</td><td style=\"text-align: right;\">     1</td><td style=\"text-align: right;\">     0.000332117</td><td style=\"text-align: right;\"> 4326.16   </td></tr>\n",
       "<tr><td>objective_986eb_00073</td><td>TERMINATED</td><td>200.239.93.233:446151</td><td style=\"text-align: right;\">45.7113 </td><td style=\"text-align: right;\"> 21</td><td style=\"text-align: right;\">     1</td><td style=\"text-align: right;\">     0.00043869 </td><td style=\"text-align: right;\"> 2110.52   </td></tr>\n",
       "<tr><td>objective_986eb_00074</td><td>TERMINATED</td><td>200.239.93.233:446152</td><td style=\"text-align: right;\">97.6307 </td><td style=\"text-align: right;\">500</td><td style=\"text-align: right;\">     1</td><td style=\"text-align: right;\">     0.000335932</td><td style=\"text-align: right;\">10031.8    </td></tr>\n",
       "<tr><td>objective_986eb_00075</td><td>TERMINATED</td><td>200.239.93.233:447784</td><td style=\"text-align: right;\">84.5642 </td><td style=\"text-align: right;\"> 21</td><td style=\"text-align: right;\">     1</td><td style=\"text-align: right;\">     0.00667667 </td><td style=\"text-align: right;\"> 7172.1    </td></tr>\n",
       "<tr><td>objective_986eb_00076</td><td>TERMINATED</td><td>200.239.93.233:447806</td><td style=\"text-align: right;\">91.2806 </td><td style=\"text-align: right;\"> 21</td><td style=\"text-align: right;\">     1</td><td style=\"text-align: right;\">     0.000355482</td><td style=\"text-align: right;\"> 8353.14   </td></tr>\n",
       "<tr><td>objective_986eb_00077</td><td>TERMINATED</td><td>200.239.93.233:447816</td><td style=\"text-align: right;\">48.3074 </td><td style=\"text-align: right;\">500</td><td style=\"text-align: right;\">     1</td><td style=\"text-align: right;\">     0.00958276 </td><td style=\"text-align: right;\"> 2833.61   </td></tr>\n",
       "<tr><td>objective_986eb_00078</td><td>TERMINATED</td><td>200.239.93.233:447817</td><td style=\"text-align: right;\">97.9431 </td><td style=\"text-align: right;\">  0</td><td style=\"text-align: right;\">     1</td><td style=\"text-align: right;\">     0.0117533  </td><td style=\"text-align: right;\"> 9592.85   </td></tr>\n",
       "<tr><td>objective_986eb_00079</td><td>TERMINATED</td><td>200.239.93.233:447825</td><td style=\"text-align: right;\">98.0878 </td><td style=\"text-align: right;\"> 10</td><td style=\"text-align: right;\">     1</td><td style=\"text-align: right;\">     0.0247858  </td><td style=\"text-align: right;\"> 9631.22   </td></tr>\n",
       "<tr><td>objective_986eb_00080</td><td>TERMINATED</td><td>200.239.93.233:447834</td><td style=\"text-align: right;\">36.4665 </td><td style=\"text-align: right;\">  0</td><td style=\"text-align: right;\">     1</td><td style=\"text-align: right;\">     0.00137448 </td><td style=\"text-align: right;\"> 1329.81   </td></tr>\n",
       "<tr><td>objective_986eb_00081</td><td>TERMINATED</td><td>200.239.93.233:447840</td><td style=\"text-align: right;\">20.2803 </td><td style=\"text-align: right;\">  0</td><td style=\"text-align: right;\">     1</td><td style=\"text-align: right;\">     0.00041008 </td><td style=\"text-align: right;\">  411.291  </td></tr>\n",
       "<tr><td>objective_986eb_00082</td><td>TERMINATED</td><td>200.239.93.233:447843</td><td style=\"text-align: right;\">67.2765 </td><td style=\"text-align: right;\"> 10</td><td style=\"text-align: right;\">     1</td><td style=\"text-align: right;\">     0.00537419 </td><td style=\"text-align: right;\"> 4536.13   </td></tr>\n",
       "<tr><td>objective_986eb_00083</td><td>TERMINATED</td><td>200.239.93.233:447844</td><td style=\"text-align: right;\">49.6451 </td><td style=\"text-align: right;\"> 10</td><td style=\"text-align: right;\">     1</td><td style=\"text-align: right;\">     0.000355244</td><td style=\"text-align: right;\"> 2474.64   </td></tr>\n",
       "<tr><td>objective_986eb_00084</td><td>TERMINATED</td><td>200.239.93.233:447845</td><td style=\"text-align: right;\">76.6347 </td><td style=\"text-align: right;\"> 21</td><td style=\"text-align: right;\">     1</td><td style=\"text-align: right;\">     0.000938416</td><td style=\"text-align: right;\"> 5893.88   </td></tr>\n",
       "<tr><td>objective_986eb_00085</td><td>TERMINATED</td><td>200.239.93.233:447850</td><td style=\"text-align: right;\">30.576  </td><td style=\"text-align: right;\"> 10</td><td style=\"text-align: right;\">     1</td><td style=\"text-align: right;\">     0.000405788</td><td style=\"text-align: right;\">  944.894  </td></tr>\n",
       "<tr><td>objective_986eb_00086</td><td>TERMINATED</td><td>200.239.93.233:447903</td><td style=\"text-align: right;\">71.8192 </td><td style=\"text-align: right;\"> 10</td><td style=\"text-align: right;\">     1</td><td style=\"text-align: right;\">     0.000756502</td><td style=\"text-align: right;\"> 5168      </td></tr>\n",
       "<tr><td>objective_986eb_00087</td><td>TERMINATED</td><td>200.239.93.233:447912</td><td style=\"text-align: right;\">83.5888 </td><td style=\"text-align: right;\"> 21</td><td style=\"text-align: right;\">     1</td><td style=\"text-align: right;\">     0.0185406  </td><td style=\"text-align: right;\"> 7008.08   </td></tr>\n",
       "<tr><td>objective_986eb_00088</td><td>TERMINATED</td><td>200.239.93.233:447913</td><td style=\"text-align: right;\">27.5225 </td><td style=\"text-align: right;\"> 21</td><td style=\"text-align: right;\">     1</td><td style=\"text-align: right;\">     0.00508356 </td><td style=\"text-align: right;\">  778.489  </td></tr>\n",
       "<tr><td>objective_986eb_00089</td><td>TERMINATED</td><td>200.239.93.233:447914</td><td style=\"text-align: right;\">91.5817 </td><td style=\"text-align: right;\"> 10</td><td style=\"text-align: right;\">     1</td><td style=\"text-align: right;\">     0.00166416 </td><td style=\"text-align: right;\"> 8397.2    </td></tr>\n",
       "<tr><td>objective_986eb_00090</td><td>TERMINATED</td><td>200.239.93.233:447924</td><td style=\"text-align: right;\">18.4482 </td><td style=\"text-align: right;\">  0</td><td style=\"text-align: right;\">     1</td><td style=\"text-align: right;\">     0.000350475</td><td style=\"text-align: right;\">  340.338  </td></tr>\n",
       "<tr><td>objective_986eb_00091</td><td>TERMINATED</td><td>200.239.93.233:449126</td><td style=\"text-align: right;\">45.3836 </td><td style=\"text-align: right;\"> 10</td><td style=\"text-align: right;\">     1</td><td style=\"text-align: right;\">     0.000332117</td><td style=\"text-align: right;\"> 2069.67   </td></tr>\n",
       "<tr><td>objective_986eb_00092</td><td>TERMINATED</td><td>200.239.93.233:449127</td><td style=\"text-align: right;\">60.9992 </td><td style=\"text-align: right;\"> 10</td><td style=\"text-align: right;\">     1</td><td style=\"text-align: right;\">     0.000310421</td><td style=\"text-align: right;\"> 3730.9    </td></tr>\n",
       "<tr><td>objective_986eb_00093</td><td>TERMINATED</td><td>200.239.93.233:449128</td><td style=\"text-align: right;\">15.6721 </td><td style=\"text-align: right;\"> 10</td><td style=\"text-align: right;\">     1</td><td style=\"text-align: right;\">     0.000332832</td><td style=\"text-align: right;\">  255.613  </td></tr>\n",
       "<tr><td>objective_986eb_00094</td><td>TERMINATED</td><td>200.239.93.233:449129</td><td style=\"text-align: right;\">87.6562 </td><td style=\"text-align: right;\"> 10</td><td style=\"text-align: right;\">     1</td><td style=\"text-align: right;\">     0.000332832</td><td style=\"text-align: right;\"> 7693.6    </td></tr>\n",
       "<tr><td>objective_986eb_00095</td><td>TERMINATED</td><td>200.239.93.233:449155</td><td style=\"text-align: right;\">27.3033 </td><td style=\"text-align: right;\">  0</td><td style=\"text-align: right;\">     1</td><td style=\"text-align: right;\">     0.000372171</td><td style=\"text-align: right;\">  745.469  </td></tr>\n",
       "<tr><td>objective_986eb_00096</td><td>TERMINATED</td><td>200.239.93.233:449161</td><td style=\"text-align: right;\">44.0624 </td><td style=\"text-align: right;\">500</td><td style=\"text-align: right;\">     1</td><td style=\"text-align: right;\">     0.000346184</td><td style=\"text-align: right;\"> 2441.5    </td></tr>\n",
       "<tr><td>objective_986eb_00097</td><td>TERMINATED</td><td>200.239.93.233:449504</td><td style=\"text-align: right;\">59.0627 </td><td style=\"text-align: right;\">500</td><td style=\"text-align: right;\">     1</td><td style=\"text-align: right;\">     0.000340223</td><td style=\"text-align: right;\"> 3988.4    </td></tr>\n",
       "<tr><td>objective_986eb_00098</td><td>TERMINATED</td><td>200.239.93.233:449505</td><td style=\"text-align: right;\">91.2082 </td><td style=\"text-align: right;\"> 10</td><td style=\"text-align: right;\">     1</td><td style=\"text-align: right;\">     0.000311375</td><td style=\"text-align: right;\"> 8328.93   </td></tr>\n",
       "<tr><td>objective_986eb_00099</td><td>TERMINATED</td><td>200.239.93.233:449506</td><td style=\"text-align: right;\">56.9017 </td><td style=\"text-align: right;\">500</td><td style=\"text-align: right;\">     1</td><td style=\"text-align: right;\">     0.000295877</td><td style=\"text-align: right;\"> 3737.8    </td></tr>\n",
       "</tbody>\n",
       "</table>\n",
       "  </div>\n",
       "</div>\n",
       "<style>\n",
       ".tuneStatus {\n",
       "  color: var(--jp-ui-font-color1);\n",
       "}\n",
       ".tuneStatus .systemInfo {\n",
       "  display: flex;\n",
       "  flex-direction: column;\n",
       "}\n",
       ".tuneStatus td {\n",
       "  white-space: nowrap;\n",
       "}\n",
       ".tuneStatus .trialStatus {\n",
       "  display: flex;\n",
       "  flex-direction: column;\n",
       "}\n",
       ".tuneStatus h3 {\n",
       "  font-weight: bold;\n",
       "}\n",
       ".tuneStatus .hDivider {\n",
       "  border-bottom-width: var(--jp-border-width);\n",
       "  border-bottom-color: var(--jp-border-color0);\n",
       "  border-bottom-style: solid;\n",
       "}\n",
       ".tuneStatus .vDivider {\n",
       "  border-left-width: var(--jp-border-width);\n",
       "  border-left-color: var(--jp-border-color0);\n",
       "  border-left-style: solid;\n",
       "  margin: 0.5em 1em 0.5em 1em;\n",
       "}\n",
       "</style>\n"
      ],
      "text/plain": [
       "<IPython.core.display.HTML object>"
      ]
     },
     "metadata": {},
     "output_type": "display_data"
    },
    {
     "data": {
      "text/html": [
       "<div class=\"trialProgress\">\n",
       "  <h3>Trial Progress</h3>\n",
       "  <table>\n",
       "<thead>\n",
       "<tr><th>Trial name           </th><th style=\"text-align: right;\">      score</th></tr>\n",
       "</thead>\n",
       "<tbody>\n",
       "<tr><td>objective_986eb_00000</td><td style=\"text-align: right;\"> 1995.61   </td></tr>\n",
       "<tr><td>objective_986eb_00001</td><td style=\"text-align: right;\"> 2074.66   </td></tr>\n",
       "<tr><td>objective_986eb_00002</td><td style=\"text-align: right;\"> 3705.59   </td></tr>\n",
       "<tr><td>objective_986eb_00003</td><td style=\"text-align: right;\"> 6296.02   </td></tr>\n",
       "<tr><td>objective_986eb_00004</td><td style=\"text-align: right;\">  984.496  </td></tr>\n",
       "<tr><td>objective_986eb_00005</td><td style=\"text-align: right;\"> 4673.63   </td></tr>\n",
       "<tr><td>objective_986eb_00006</td><td style=\"text-align: right;\"> 9557.71   </td></tr>\n",
       "<tr><td>objective_986eb_00007</td><td style=\"text-align: right;\"> 1913.96   </td></tr>\n",
       "<tr><td>objective_986eb_00008</td><td style=\"text-align: right;\"> 8574.17   </td></tr>\n",
       "<tr><td>objective_986eb_00009</td><td style=\"text-align: right;\"> 3391.16   </td></tr>\n",
       "<tr><td>objective_986eb_00010</td><td style=\"text-align: right;\"> 2560.79   </td></tr>\n",
       "<tr><td>objective_986eb_00011</td><td style=\"text-align: right;\">  601.122  </td></tr>\n",
       "<tr><td>objective_986eb_00012</td><td style=\"text-align: right;\"> 2008.76   </td></tr>\n",
       "<tr><td>objective_986eb_00013</td><td style=\"text-align: right;\"> 3379.43   </td></tr>\n",
       "<tr><td>objective_986eb_00014</td><td style=\"text-align: right;\"> 9603.64   </td></tr>\n",
       "<tr><td>objective_986eb_00015</td><td style=\"text-align: right;\"> 1097.98   </td></tr>\n",
       "<tr><td>objective_986eb_00016</td><td style=\"text-align: right;\">  246.083  </td></tr>\n",
       "<tr><td>objective_986eb_00017</td><td style=\"text-align: right;\"> 2694.72   </td></tr>\n",
       "<tr><td>objective_986eb_00018</td><td style=\"text-align: right;\"> 1744.94   </td></tr>\n",
       "<tr><td>objective_986eb_00019</td><td style=\"text-align: right;\"> 3789.85   </td></tr>\n",
       "<tr><td>objective_986eb_00020</td><td style=\"text-align: right;\"> 2769      </td></tr>\n",
       "<tr><td>objective_986eb_00021</td><td style=\"text-align: right;\"> 1706.62   </td></tr>\n",
       "<tr><td>objective_986eb_00022</td><td style=\"text-align: right;\"> 4286.73   </td></tr>\n",
       "<tr><td>objective_986eb_00023</td><td style=\"text-align: right;\"> 1771.15   </td></tr>\n",
       "<tr><td>objective_986eb_00024</td><td style=\"text-align: right;\">  903.908  </td></tr>\n",
       "<tr><td>objective_986eb_00025</td><td style=\"text-align: right;\"> 4200.42   </td></tr>\n",
       "<tr><td>objective_986eb_00026</td><td style=\"text-align: right;\"> 8137.94   </td></tr>\n",
       "<tr><td>objective_986eb_00027</td><td style=\"text-align: right;\">  768.134  </td></tr>\n",
       "<tr><td>objective_986eb_00028</td><td style=\"text-align: right;\">  285.941  </td></tr>\n",
       "<tr><td>objective_986eb_00029</td><td style=\"text-align: right;\"> 4544      </td></tr>\n",
       "<tr><td>objective_986eb_00030</td><td style=\"text-align: right;\">   56.8503 </td></tr>\n",
       "<tr><td>objective_986eb_00031</td><td style=\"text-align: right;\">  555.859  </td></tr>\n",
       "<tr><td>objective_986eb_00032</td><td style=\"text-align: right;\">  211.049  </td></tr>\n",
       "<tr><td>objective_986eb_00033</td><td style=\"text-align: right;\"> 3391.35   </td></tr>\n",
       "<tr><td>objective_986eb_00034</td><td style=\"text-align: right;\"> 1141.04   </td></tr>\n",
       "<tr><td>objective_986eb_00035</td><td style=\"text-align: right;\">  707.842  </td></tr>\n",
       "<tr><td>objective_986eb_00036</td><td style=\"text-align: right;\">  501.645  </td></tr>\n",
       "<tr><td>objective_986eb_00037</td><td style=\"text-align: right;\"> 2479.1    </td></tr>\n",
       "<tr><td>objective_986eb_00038</td><td style=\"text-align: right;\"> 9674.87   </td></tr>\n",
       "<tr><td>objective_986eb_00039</td><td style=\"text-align: right;\"> 2541.94   </td></tr>\n",
       "<tr><td>objective_986eb_00040</td><td style=\"text-align: right;\">  632.945  </td></tr>\n",
       "<tr><td>objective_986eb_00041</td><td style=\"text-align: right;\">  260.282  </td></tr>\n",
       "<tr><td>objective_986eb_00042</td><td style=\"text-align: right;\"> 4243.83   </td></tr>\n",
       "<tr><td>objective_986eb_00043</td><td style=\"text-align: right;\"> 2869.29   </td></tr>\n",
       "<tr><td>objective_986eb_00044</td><td style=\"text-align: right;\"> 4082.31   </td></tr>\n",
       "<tr><td>objective_986eb_00045</td><td style=\"text-align: right;\"> 7048.39   </td></tr>\n",
       "<tr><td>objective_986eb_00046</td><td style=\"text-align: right;\"> 9585.78   </td></tr>\n",
       "<tr><td>objective_986eb_00047</td><td style=\"text-align: right;\"> 7335.17   </td></tr>\n",
       "<tr><td>objective_986eb_00048</td><td style=\"text-align: right;\"> 3222.44   </td></tr>\n",
       "<tr><td>objective_986eb_00049</td><td style=\"text-align: right;\">  160.732  </td></tr>\n",
       "<tr><td>objective_986eb_00050</td><td style=\"text-align: right;\"> 4444.44   </td></tr>\n",
       "<tr><td>objective_986eb_00051</td><td style=\"text-align: right;\">   11.1168 </td></tr>\n",
       "<tr><td>objective_986eb_00052</td><td style=\"text-align: right;\"> 1394.15   </td></tr>\n",
       "<tr><td>objective_986eb_00053</td><td style=\"text-align: right;\"> 1079.81   </td></tr>\n",
       "<tr><td>objective_986eb_00054</td><td style=\"text-align: right;\"> 2472.59   </td></tr>\n",
       "<tr><td>objective_986eb_00055</td><td style=\"text-align: right;\"> 3434.35   </td></tr>\n",
       "<tr><td>objective_986eb_00056</td><td style=\"text-align: right;\">  649.642  </td></tr>\n",
       "<tr><td>objective_986eb_00057</td><td style=\"text-align: right;\"> 3194.69   </td></tr>\n",
       "<tr><td>objective_986eb_00058</td><td style=\"text-align: right;\"> 3551.42   </td></tr>\n",
       "<tr><td>objective_986eb_00059</td><td style=\"text-align: right;\"> 1957.64   </td></tr>\n",
       "<tr><td>objective_986eb_00060</td><td style=\"text-align: right;\">    7.77111</td></tr>\n",
       "<tr><td>objective_986eb_00061</td><td style=\"text-align: right;\"> 4083.41   </td></tr>\n",
       "<tr><td>objective_986eb_00062</td><td style=\"text-align: right;\"> 2870.78   </td></tr>\n",
       "<tr><td>objective_986eb_00063</td><td style=\"text-align: right;\"> 5532.4    </td></tr>\n",
       "<tr><td>objective_986eb_00064</td><td style=\"text-align: right;\">   45.4091 </td></tr>\n",
       "<tr><td>objective_986eb_00065</td><td style=\"text-align: right;\"> 5202.24   </td></tr>\n",
       "<tr><td>objective_986eb_00066</td><td style=\"text-align: right;\">  311.389  </td></tr>\n",
       "<tr><td>objective_986eb_00067</td><td style=\"text-align: right;\"> 2512.32   </td></tr>\n",
       "<tr><td>objective_986eb_00068</td><td style=\"text-align: right;\"> 2213.83   </td></tr>\n",
       "<tr><td>objective_986eb_00069</td><td style=\"text-align: right;\"> 2418.69   </td></tr>\n",
       "<tr><td>objective_986eb_00070</td><td style=\"text-align: right;\"> 6320.03   </td></tr>\n",
       "<tr><td>objective_986eb_00071</td><td style=\"text-align: right;\">  248.45   </td></tr>\n",
       "<tr><td>objective_986eb_00072</td><td style=\"text-align: right;\"> 4326.16   </td></tr>\n",
       "<tr><td>objective_986eb_00073</td><td style=\"text-align: right;\"> 2110.52   </td></tr>\n",
       "<tr><td>objective_986eb_00074</td><td style=\"text-align: right;\">10031.8    </td></tr>\n",
       "<tr><td>objective_986eb_00075</td><td style=\"text-align: right;\"> 7172.1    </td></tr>\n",
       "<tr><td>objective_986eb_00076</td><td style=\"text-align: right;\"> 8353.14   </td></tr>\n",
       "<tr><td>objective_986eb_00077</td><td style=\"text-align: right;\"> 2833.61   </td></tr>\n",
       "<tr><td>objective_986eb_00078</td><td style=\"text-align: right;\"> 9592.85   </td></tr>\n",
       "<tr><td>objective_986eb_00079</td><td style=\"text-align: right;\"> 9631.22   </td></tr>\n",
       "<tr><td>objective_986eb_00080</td><td style=\"text-align: right;\"> 1329.81   </td></tr>\n",
       "<tr><td>objective_986eb_00081</td><td style=\"text-align: right;\">  411.291  </td></tr>\n",
       "<tr><td>objective_986eb_00082</td><td style=\"text-align: right;\"> 4536.13   </td></tr>\n",
       "<tr><td>objective_986eb_00083</td><td style=\"text-align: right;\"> 2474.64   </td></tr>\n",
       "<tr><td>objective_986eb_00084</td><td style=\"text-align: right;\"> 5893.88   </td></tr>\n",
       "<tr><td>objective_986eb_00085</td><td style=\"text-align: right;\">  944.894  </td></tr>\n",
       "<tr><td>objective_986eb_00086</td><td style=\"text-align: right;\"> 5168      </td></tr>\n",
       "<tr><td>objective_986eb_00087</td><td style=\"text-align: right;\"> 7008.08   </td></tr>\n",
       "<tr><td>objective_986eb_00088</td><td style=\"text-align: right;\">  778.489  </td></tr>\n",
       "<tr><td>objective_986eb_00089</td><td style=\"text-align: right;\"> 8397.2    </td></tr>\n",
       "<tr><td>objective_986eb_00090</td><td style=\"text-align: right;\">  340.338  </td></tr>\n",
       "<tr><td>objective_986eb_00091</td><td style=\"text-align: right;\"> 2069.67   </td></tr>\n",
       "<tr><td>objective_986eb_00092</td><td style=\"text-align: right;\"> 3730.9    </td></tr>\n",
       "<tr><td>objective_986eb_00093</td><td style=\"text-align: right;\">  255.613  </td></tr>\n",
       "<tr><td>objective_986eb_00094</td><td style=\"text-align: right;\"> 7693.6    </td></tr>\n",
       "<tr><td>objective_986eb_00095</td><td style=\"text-align: right;\">  745.469  </td></tr>\n",
       "<tr><td>objective_986eb_00096</td><td style=\"text-align: right;\"> 2441.5    </td></tr>\n",
       "<tr><td>objective_986eb_00097</td><td style=\"text-align: right;\"> 3988.4    </td></tr>\n",
       "<tr><td>objective_986eb_00098</td><td style=\"text-align: right;\"> 8328.93   </td></tr>\n",
       "<tr><td>objective_986eb_00099</td><td style=\"text-align: right;\"> 3737.8    </td></tr>\n",
       "</tbody>\n",
       "</table>\n",
       "</div>\n",
       "<style>\n",
       ".trialProgress {\n",
       "  display: flex;\n",
       "  flex-direction: column;\n",
       "  color: var(--jp-ui-font-color1);\n",
       "}\n",
       ".trialProgress h3 {\n",
       "  font-weight: bold;\n",
       "}\n",
       ".trialProgress td {\n",
       "  white-space: nowrap;\n",
       "}\n",
       "</style>\n"
      ],
      "text/plain": [
       "<IPython.core.display.HTML object>"
      ]
     },
     "metadata": {},
     "output_type": "display_data"
    },
    {
     "name": "stderr",
     "output_type": "stream",
     "text": [
      "2024-11-29 23:06:57,042\tINFO tune.py:1009 -- Wrote the latest version of all result files and experiment state to '/home/lasse/ray_minicourse/lesson_2/ray_results/nb_1/random_agent' in 0.0253s.\n",
      "2024-11-29 23:06:57,057\tINFO tune.py:1041 -- Total run time: 15.36 seconds (15.32 seconds for the tuning loop).\n"
     ]
    },
    {
     "name": "stdout",
     "output_type": "stream",
     "text": [
      "{'a': 2.787670560838451, 'b': 0}\n"
     ]
    }
   ],
   "source": [
    "store_results_path = str(Path(\"./ray_results/\").resolve()) + \"/nb_1/\"\n",
    "agent_name = \"random_agent\"\n",
    "tuner = tune.Tuner(\n",
    "    objective,\n",
    "    param_space=search_space,\n",
    "    run_config=air.RunConfig(\n",
    "        verbose=2,\n",
    "        storage_path=store_results_path,\n",
    "        name=agent_name,\n",
    "    ),\n",
    "    tune_config=tune.TuneConfig(\n",
    "        num_samples=100\n",
    "    ),  # Running 100 different trials (combinations of hyperparameters)\n",
    ")\n",
    "results = tuner.fit()\n",
    "print(results.get_best_result(metric=\"score\", mode=\"min\").config)"
   ]
  },
  {
   "cell_type": "markdown",
   "metadata": {},
   "source": [
    "Let's check the tensorboard files containing the score obtained by each trial during the experiment. Try looking at the different metrics, focusing on the `ray/tune/score` results which contain the score values obtained by each Trial.\n"
   ]
  },
  {
   "cell_type": "code",
   "execution_count": null,
   "metadata": {},
   "outputs": [
    {
     "data": {
      "text/plain": [
       "Reusing TensorBoard on port 6006 (pid 449972), started 0:00:20 ago. (Use '!kill 449972' to kill it.)"
      ]
     },
     "metadata": {},
     "output_type": "display_data"
    },
    {
     "data": {
      "text/html": [
       "\n",
       "      <iframe id=\"tensorboard-frame-147bda9380aa254f\" width=\"100%\" height=\"800\" frameborder=\"0\">\n",
       "      </iframe>\n",
       "      <script>\n",
       "        (function() {\n",
       "          const frame = document.getElementById(\"tensorboard-frame-147bda9380aa254f\");\n",
       "          const url = new URL(\"http://localhost\");\n",
       "          const port = 6006;\n",
       "          if (port) {\n",
       "            url.port = port;\n",
       "          }\n",
       "          frame.src = url;\n",
       "        })();\n",
       "      </script>\n",
       "    "
      ],
      "text/plain": [
       "<IPython.core.display.HTML object>"
      ]
     },
     "metadata": {},
     "output_type": "display_data"
    }
   ],
   "source": [
    "%load_ext tensorboard\n",
    "%tensorboard --logdir ray_results/nb_1"
   ]
  }
 ],
 "metadata": {
  "kernelspec": {
   "display_name": "ray_minicourse-PTDOXG61",
   "language": "python",
   "name": "python3"
  },
  "language_info": {
   "codemirror_mode": {
    "name": "ipython",
    "version": 3
   },
   "file_extension": ".py",
   "mimetype": "text/x-python",
   "name": "python",
   "nbconvert_exporter": "python",
   "pygments_lexer": "ipython3",
   "version": "3.10.12"
  }
 },
 "nbformat": 4,
 "nbformat_minor": 2
}
